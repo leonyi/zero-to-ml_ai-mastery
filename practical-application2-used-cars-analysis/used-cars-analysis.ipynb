{
 "cells": [
  {
   "cell_type": "markdown",
   "metadata": {},
   "source": [
    "# Predicting what drives the price of a car?\n",
    "\n",
    "**OVERVIEW**\n",
    "\n",
    "In this notebook we will explore and provide an in-depth analyis of a dataset from kaggle. The original dataset contained information on 3 million used cars. The provided dataset contains information on 426K cars. The smaller dataset ensures speed of processing.  \n",
    "\n",
    "**Goal of Analysis**\n",
    "\n",
    "The goal is to understand what factors make a car more or less expensive.  As a result of your analysis, you should provide clear recommendations to your client -- a used car dealership -- as to what consumers value in a used car.\n",
    "\n",
    "To frame the task, throughout our practical applications we will refer back to a standard process in industry for data projects called CRISP-DM.  This process provides a framework for working through a data problem. \n",
    "\n",
    "### CRISP-DM Framework\n",
    "\n",
    "<center>\n",
    "    <img src = images/crisp.png width = 50%/>\n",
    "</center>\n",
    "\n",
    "Your first step in this application will be to read through a brief overview of CRISP-DM [here](https://mo-pcco.s3.us-east-1.amazonaws.com/BH-PCMLAI/module_11/readings_starter.zip).  After reading the overview, answer the questions below.\n",
    "\n",
    "## Business Understanding\n",
    "\n",
    "From a business perspective, we are tasked with identifying key drivers for used car prices.  In the CRISP-DM overview, we are asked to convert this business framing to a data problem definition.  Using a few sentences, reframe the task as a data task with the appropriate technical vocabulary. "
   ]
  },
  {
   "cell_type": "markdown",
   "metadata": {},
   "source": [
    "### Problem Definition"
   ]
  },
  {
   "cell_type": "markdown",
   "metadata": {},
   "source": [
    "In a statement,\n",
    "> Given key parameters about used cars, can we predict whether or not they are valuable to used car buyers?"
   ]
  },
  {
   "cell_type": "markdown",
   "metadata": {},
   "source": [
    "To maximize profits a used car dealership must not only house a healthy inventory of cars with competitive prices but also a car inventory that posses features, which customers of different backgrounds consider valuable for purchase. To increase the likelyhood of purchase the used car agency must build the correct type of inventory using as reference the analysis of reliable data and sale predictions.   "
   ]
  },
  {
   "cell_type": "markdown",
   "metadata": {},
   "source": [
    "### Data Understanding\n",
    "\n",
    "After considering the business understanding, we want to get familiar with our data.  Write down some steps that you would take to get to know the dataset and identify any quality issues within.  Take time to get to know the dataset and explore what information it contains and how this could be used to inform your business understanding."
   ]
  },
  {
   "cell_type": "markdown",
   "metadata": {},
   "source": [
    "The original dataset contained information on 3 million used cars. The provided dataset contains information on 426K cars to ensure speed of processing.\n",
    "\n",
    "The attributes of this data set include:\n",
    "\n",
    "### Preparing the tools\n",
    "We are going to use pandas, Matplotlib, sklearn and numpy for data analysis and manipulation."
   ]
  },
  {
   "cell_type": "markdown",
   "metadata": {},
   "source": [
    "#### Library Imports"
   ]
  },
  {
   "cell_type": "code",
   "execution_count": 28,
   "metadata": {},
   "outputs": [],
   "source": [
    "import matplotlib.pyplot as plt\n",
    "import numpy as np\n",
    "import pandas as pd\n",
    "import plotly.express as px\n",
    "import seaborn as sns\n",
    "\n",
    "from numpy import arange\n",
    "from pandas import read_csv\n",
    "from sklearn.compose import ColumnTransformer, make_column_transformer, make_column_selector\n",
    "from sklearn.decomposition import PCA\n",
    "from sklearn.feature_selection import SequentialFeatureSelector, SelectFromModel, RFE\n",
    "from sklearn.impute import SimpleImputer\n",
    "from sklearn.inspection import permutation_importance\n",
    "from sklearn.linear_model import LogisticRegression, LinearRegression , Lasso, Ridge\n",
    "from sklearn.metrics import mean_squared_error\n",
    "from sklearn.model_selection import train_test_split, GridSearchCV, RepeatedKFold\n",
    "from sklearn.pipeline import Pipeline\n",
    "from sklearn.preprocessing import OneHotEncoder, MinMaxScaler, StandardScaler, OrdinalEncoder, PolynomialFeatures\n",
    "\n",
    "pd.set_option('display.max_columns', None)"
   ]
  },
  {
   "cell_type": "markdown",
   "metadata": {},
   "source": [
    "#### Load the Data"
   ]
  },
  {
   "cell_type": "code",
   "execution_count": 29,
   "metadata": {},
   "outputs": [],
   "source": [
    "data = pd.read_csv('data/vehicles.csv')"
   ]
  },
  {
   "cell_type": "markdown",
   "metadata": {},
   "source": [
    "### Data Exploration\n",
    "**Goal** Understand the data set, sanitize the data and become an expert on its details. The intent is to answer the main key question:\n",
    "\n",
    "**What drives the price of a car?**\n",
    "\n",
    "As part of the data exploration the following questions come to mind:\n",
    " - What features have strong correlation with the prices?\n",
    "     - Does the type of transmission have an impact in price?\n",
    "     - Is the number of cylinders impact price?\n",
    " - Are there any features with missing values?\n",
    " - What data types does the dataset have available?\n",
    " - Do we have categorical features? Do any of them need to be encoded?\n",
    " - How do we make projections on profits based on the base purchase price of the car (i.e. the price the Agency paid for the car)?\n"
   ]
  },
  {
   "cell_type": "code",
   "execution_count": 30,
   "metadata": {
    "scrolled": true
   },
   "outputs": [
    {
     "data": {
      "text/plain": [
       "(426880, 18)"
      ]
     },
     "execution_count": 30,
     "metadata": {},
     "output_type": "execute_result"
    }
   ],
   "source": [
    "# What is the shape of our dataset (rows, columns)\n",
    "data.shape"
   ]
  },
  {
   "cell_type": "code",
   "execution_count": 31,
   "metadata": {},
   "outputs": [
    {
     "data": {
      "text/html": [
       "<div>\n",
       "<style scoped>\n",
       "    .dataframe tbody tr th:only-of-type {\n",
       "        vertical-align: middle;\n",
       "    }\n",
       "\n",
       "    .dataframe tbody tr th {\n",
       "        vertical-align: top;\n",
       "    }\n",
       "\n",
       "    .dataframe thead th {\n",
       "        text-align: right;\n",
       "    }\n",
       "</style>\n",
       "<table border=\"1\" class=\"dataframe\">\n",
       "  <thead>\n",
       "    <tr style=\"text-align: right;\">\n",
       "      <th></th>\n",
       "      <th>id</th>\n",
       "      <th>price</th>\n",
       "      <th>year</th>\n",
       "      <th>odometer</th>\n",
       "    </tr>\n",
       "  </thead>\n",
       "  <tbody>\n",
       "    <tr>\n",
       "      <th>id</th>\n",
       "      <td>1.000000</td>\n",
       "      <td>-0.002779</td>\n",
       "      <td>-0.059040</td>\n",
       "      <td>0.010721</td>\n",
       "    </tr>\n",
       "    <tr>\n",
       "      <th>price</th>\n",
       "      <td>-0.002779</td>\n",
       "      <td>1.000000</td>\n",
       "      <td>-0.004925</td>\n",
       "      <td>0.010032</td>\n",
       "    </tr>\n",
       "    <tr>\n",
       "      <th>year</th>\n",
       "      <td>-0.059040</td>\n",
       "      <td>-0.004925</td>\n",
       "      <td>1.000000</td>\n",
       "      <td>-0.157215</td>\n",
       "    </tr>\n",
       "    <tr>\n",
       "      <th>odometer</th>\n",
       "      <td>0.010721</td>\n",
       "      <td>0.010032</td>\n",
       "      <td>-0.157215</td>\n",
       "      <td>1.000000</td>\n",
       "    </tr>\n",
       "  </tbody>\n",
       "</table>\n",
       "</div>"
      ],
      "text/plain": [
       "                id     price      year  odometer\n",
       "id        1.000000 -0.002779 -0.059040  0.010721\n",
       "price    -0.002779  1.000000 -0.004925  0.010032\n",
       "year     -0.059040 -0.004925  1.000000 -0.157215\n",
       "odometer  0.010721  0.010032 -0.157215  1.000000"
      ]
     },
     "execution_count": 31,
     "metadata": {},
     "output_type": "execute_result"
    }
   ],
   "source": [
    "# Any obvious numerical correlations?\n",
    "data.corr()"
   ]
  },
  {
   "cell_type": "markdown",
   "metadata": {},
   "source": [
    "**OBSERVATION:** The only numerical values are id, price, year and odometer. The data shows the following correlations with regards to price:\n",
    "- little correlation with ID (at ~ -0.00278),  \n",
    "- little stronger correlation with the year (at ~ -0.00493)\n",
    "- stronger positive correlation with odometer (at ~ 0.010032)"
   ]
  },
  {
   "cell_type": "code",
   "execution_count": 32,
   "metadata": {},
   "outputs": [
    {
     "data": {
      "text/html": [
       "<div>\n",
       "<style scoped>\n",
       "    .dataframe tbody tr th:only-of-type {\n",
       "        vertical-align: middle;\n",
       "    }\n",
       "\n",
       "    .dataframe tbody tr th {\n",
       "        vertical-align: top;\n",
       "    }\n",
       "\n",
       "    .dataframe thead th {\n",
       "        text-align: right;\n",
       "    }\n",
       "</style>\n",
       "<table border=\"1\" class=\"dataframe\">\n",
       "  <thead>\n",
       "    <tr style=\"text-align: right;\">\n",
       "      <th></th>\n",
       "      <th>id</th>\n",
       "      <th>price</th>\n",
       "      <th>year</th>\n",
       "      <th>odometer</th>\n",
       "    </tr>\n",
       "  </thead>\n",
       "  <tbody>\n",
       "    <tr>\n",
       "      <th>count</th>\n",
       "      <td>4.268800e+05</td>\n",
       "      <td>4.268800e+05</td>\n",
       "      <td>425675.000000</td>\n",
       "      <td>4.224800e+05</td>\n",
       "    </tr>\n",
       "    <tr>\n",
       "      <th>mean</th>\n",
       "      <td>7.311487e+09</td>\n",
       "      <td>7.519903e+04</td>\n",
       "      <td>2011.235191</td>\n",
       "      <td>9.804333e+04</td>\n",
       "    </tr>\n",
       "    <tr>\n",
       "      <th>std</th>\n",
       "      <td>4.473170e+06</td>\n",
       "      <td>1.218228e+07</td>\n",
       "      <td>9.452120</td>\n",
       "      <td>2.138815e+05</td>\n",
       "    </tr>\n",
       "    <tr>\n",
       "      <th>min</th>\n",
       "      <td>7.207408e+09</td>\n",
       "      <td>0.000000e+00</td>\n",
       "      <td>1900.000000</td>\n",
       "      <td>0.000000e+00</td>\n",
       "    </tr>\n",
       "    <tr>\n",
       "      <th>25%</th>\n",
       "      <td>7.308143e+09</td>\n",
       "      <td>5.900000e+03</td>\n",
       "      <td>2008.000000</td>\n",
       "      <td>3.770400e+04</td>\n",
       "    </tr>\n",
       "    <tr>\n",
       "      <th>50%</th>\n",
       "      <td>7.312621e+09</td>\n",
       "      <td>1.395000e+04</td>\n",
       "      <td>2013.000000</td>\n",
       "      <td>8.554800e+04</td>\n",
       "    </tr>\n",
       "    <tr>\n",
       "      <th>75%</th>\n",
       "      <td>7.315254e+09</td>\n",
       "      <td>2.648575e+04</td>\n",
       "      <td>2017.000000</td>\n",
       "      <td>1.335425e+05</td>\n",
       "    </tr>\n",
       "    <tr>\n",
       "      <th>max</th>\n",
       "      <td>7.317101e+09</td>\n",
       "      <td>3.736929e+09</td>\n",
       "      <td>2022.000000</td>\n",
       "      <td>1.000000e+07</td>\n",
       "    </tr>\n",
       "  </tbody>\n",
       "</table>\n",
       "</div>"
      ],
      "text/plain": [
       "                 id         price           year      odometer\n",
       "count  4.268800e+05  4.268800e+05  425675.000000  4.224800e+05\n",
       "mean   7.311487e+09  7.519903e+04    2011.235191  9.804333e+04\n",
       "std    4.473170e+06  1.218228e+07       9.452120  2.138815e+05\n",
       "min    7.207408e+09  0.000000e+00    1900.000000  0.000000e+00\n",
       "25%    7.308143e+09  5.900000e+03    2008.000000  3.770400e+04\n",
       "50%    7.312621e+09  1.395000e+04    2013.000000  8.554800e+04\n",
       "75%    7.315254e+09  2.648575e+04    2017.000000  1.335425e+05\n",
       "max    7.317101e+09  3.736929e+09    2022.000000  1.000000e+07"
      ]
     },
     "execution_count": 32,
     "metadata": {},
     "output_type": "execute_result"
    }
   ],
   "source": [
    "data.describe()"
   ]
  },
  {
   "cell_type": "code",
   "execution_count": 33,
   "metadata": {},
   "outputs": [
    {
     "name": "stdout",
     "output_type": "stream",
     "text": [
      "<class 'pandas.core.frame.DataFrame'>\n",
      "RangeIndex: 426880 entries, 0 to 426879\n",
      "Data columns (total 18 columns):\n",
      " #   Column        Non-Null Count   Dtype  \n",
      "---  ------        --------------   -----  \n",
      " 0   id            426880 non-null  int64  \n",
      " 1   region        426880 non-null  object \n",
      " 2   price         426880 non-null  int64  \n",
      " 3   year          425675 non-null  float64\n",
      " 4   manufacturer  409234 non-null  object \n",
      " 5   model         421603 non-null  object \n",
      " 6   condition     252776 non-null  object \n",
      " 7   cylinders     249202 non-null  object \n",
      " 8   fuel          423867 non-null  object \n",
      " 9   odometer      422480 non-null  float64\n",
      " 10  title_status  418638 non-null  object \n",
      " 11  transmission  424324 non-null  object \n",
      " 12  VIN           265838 non-null  object \n",
      " 13  drive         296313 non-null  object \n",
      " 14  size          120519 non-null  object \n",
      " 15  type          334022 non-null  object \n",
      " 16  paint_color   296677 non-null  object \n",
      " 17  state         426880 non-null  object \n",
      "dtypes: float64(2), int64(2), object(14)\n",
      "memory usage: 58.6+ MB\n"
     ]
    }
   ],
   "source": [
    "# What columns/features do we have present and their type? Are there any null values?\n",
    "data.info()"
   ]
  },
  {
   "cell_type": "markdown",
   "metadata": {},
   "source": [
    "**OBSERVATION:** No null values but is there missing data?"
   ]
  },
  {
   "cell_type": "code",
   "execution_count": 34,
   "metadata": {},
   "outputs": [
    {
     "data": {
      "text/plain": [
       "size            306361\n",
       "cylinders       177678\n",
       "condition       174104\n",
       "VIN             161042\n",
       "drive           130567\n",
       "paint_color     130203\n",
       "type             92858\n",
       "manufacturer     17646\n",
       "title_status      8242\n",
       "model             5277\n",
       "odometer          4400\n",
       "fuel              3013\n",
       "transmission      2556\n",
       "year              1205\n",
       "id                   0\n",
       "region               0\n",
       "price                0\n",
       "state                0\n",
       "dtype: int64"
      ]
     },
     "execution_count": 34,
     "metadata": {},
     "output_type": "execute_result"
    }
   ],
   "source": [
    "# Does the dataset have missing or problematic data?\n",
    "data.isna().sum().sort_values(ascending=False)\n",
    "# or data.isnull().sum().sort_values(ascending=False)"
   ]
  },
  {
   "cell_type": "code",
   "execution_count": 60,
   "metadata": {},
   "outputs": [
    {
     "data": {
      "text/plain": [
       "title_status\n",
       "lien          1422\n",
       "missing        814\n",
       "parts only     198\n",
       "rebuilt       7219\n",
       "salvage       3868\n",
       "Name: id, dtype: int64"
      ]
     },
     "execution_count": 60,
     "metadata": {},
     "output_type": "execute_result"
    }
   ],
   "source": [
    "car_title_status = data[data['title_status'] != \"clean\"]\n",
    "car_title_status.groupby('title_status')['id'].count()"
   ]
  },
  {
   "cell_type": "code",
   "execution_count": 38,
   "metadata": {},
   "outputs": [
    {
     "data": {
      "text/plain": [
       "id              426880\n",
       "VIN             118246\n",
       "odometer        104870\n",
       "model            29649\n",
       "price            15655\n",
       "region             404\n",
       "year               114\n",
       "state               51\n",
       "manufacturer        42\n",
       "type                13\n",
       "paint_color         12\n",
       "cylinders            8\n",
       "condition            6\n",
       "title_status         6\n",
       "fuel                 5\n",
       "size                 4\n",
       "transmission         3\n",
       "drive                3\n",
       "dtype: int64"
      ]
     },
     "execution_count": 38,
     "metadata": {},
     "output_type": "execute_result"
    }
   ],
   "source": [
    "# Do we have unique values in the columns\n",
    "data.nunique(axis=0).sort_values(ascending=False)"
   ]
  },
  {
   "cell_type": "code",
   "execution_count": 40,
   "metadata": {},
   "outputs": [
    {
     "data": {
      "text/html": [
       "<div>\n",
       "<style scoped>\n",
       "    .dataframe tbody tr th:only-of-type {\n",
       "        vertical-align: middle;\n",
       "    }\n",
       "\n",
       "    .dataframe tbody tr th {\n",
       "        vertical-align: top;\n",
       "    }\n",
       "\n",
       "    .dataframe thead th {\n",
       "        text-align: right;\n",
       "    }\n",
       "</style>\n",
       "<table border=\"1\" class=\"dataframe\">\n",
       "  <thead>\n",
       "    <tr style=\"text-align: right;\">\n",
       "      <th></th>\n",
       "      <th>id</th>\n",
       "      <th>region</th>\n",
       "      <th>price</th>\n",
       "      <th>year</th>\n",
       "      <th>manufacturer</th>\n",
       "      <th>model</th>\n",
       "      <th>condition</th>\n",
       "      <th>cylinders</th>\n",
       "      <th>fuel</th>\n",
       "      <th>odometer</th>\n",
       "      <th>title_status</th>\n",
       "      <th>transmission</th>\n",
       "      <th>VIN</th>\n",
       "      <th>drive</th>\n",
       "      <th>size</th>\n",
       "      <th>type</th>\n",
       "      <th>paint_color</th>\n",
       "      <th>state</th>\n",
       "    </tr>\n",
       "  </thead>\n",
       "  <tbody>\n",
       "    <tr>\n",
       "      <th>0</th>\n",
       "      <td>7222695916</td>\n",
       "      <td>prescott</td>\n",
       "      <td>6000</td>\n",
       "      <td>NaN</td>\n",
       "      <td>NaN</td>\n",
       "      <td>NaN</td>\n",
       "      <td>NaN</td>\n",
       "      <td>NaN</td>\n",
       "      <td>NaN</td>\n",
       "      <td>NaN</td>\n",
       "      <td>NaN</td>\n",
       "      <td>NaN</td>\n",
       "      <td>NaN</td>\n",
       "      <td>NaN</td>\n",
       "      <td>NaN</td>\n",
       "      <td>NaN</td>\n",
       "      <td>NaN</td>\n",
       "      <td>az</td>\n",
       "    </tr>\n",
       "    <tr>\n",
       "      <th>1</th>\n",
       "      <td>7218891961</td>\n",
       "      <td>fayetteville</td>\n",
       "      <td>11900</td>\n",
       "      <td>NaN</td>\n",
       "      <td>NaN</td>\n",
       "      <td>NaN</td>\n",
       "      <td>NaN</td>\n",
       "      <td>NaN</td>\n",
       "      <td>NaN</td>\n",
       "      <td>NaN</td>\n",
       "      <td>NaN</td>\n",
       "      <td>NaN</td>\n",
       "      <td>NaN</td>\n",
       "      <td>NaN</td>\n",
       "      <td>NaN</td>\n",
       "      <td>NaN</td>\n",
       "      <td>NaN</td>\n",
       "      <td>ar</td>\n",
       "    </tr>\n",
       "    <tr>\n",
       "      <th>2</th>\n",
       "      <td>7221797935</td>\n",
       "      <td>florida keys</td>\n",
       "      <td>21000</td>\n",
       "      <td>NaN</td>\n",
       "      <td>NaN</td>\n",
       "      <td>NaN</td>\n",
       "      <td>NaN</td>\n",
       "      <td>NaN</td>\n",
       "      <td>NaN</td>\n",
       "      <td>NaN</td>\n",
       "      <td>NaN</td>\n",
       "      <td>NaN</td>\n",
       "      <td>NaN</td>\n",
       "      <td>NaN</td>\n",
       "      <td>NaN</td>\n",
       "      <td>NaN</td>\n",
       "      <td>NaN</td>\n",
       "      <td>fl</td>\n",
       "    </tr>\n",
       "    <tr>\n",
       "      <th>3</th>\n",
       "      <td>7222270760</td>\n",
       "      <td>worcester / central MA</td>\n",
       "      <td>1500</td>\n",
       "      <td>NaN</td>\n",
       "      <td>NaN</td>\n",
       "      <td>NaN</td>\n",
       "      <td>NaN</td>\n",
       "      <td>NaN</td>\n",
       "      <td>NaN</td>\n",
       "      <td>NaN</td>\n",
       "      <td>NaN</td>\n",
       "      <td>NaN</td>\n",
       "      <td>NaN</td>\n",
       "      <td>NaN</td>\n",
       "      <td>NaN</td>\n",
       "      <td>NaN</td>\n",
       "      <td>NaN</td>\n",
       "      <td>ma</td>\n",
       "    </tr>\n",
       "    <tr>\n",
       "      <th>4</th>\n",
       "      <td>7210384030</td>\n",
       "      <td>greensboro</td>\n",
       "      <td>4900</td>\n",
       "      <td>NaN</td>\n",
       "      <td>NaN</td>\n",
       "      <td>NaN</td>\n",
       "      <td>NaN</td>\n",
       "      <td>NaN</td>\n",
       "      <td>NaN</td>\n",
       "      <td>NaN</td>\n",
       "      <td>NaN</td>\n",
       "      <td>NaN</td>\n",
       "      <td>NaN</td>\n",
       "      <td>NaN</td>\n",
       "      <td>NaN</td>\n",
       "      <td>NaN</td>\n",
       "      <td>NaN</td>\n",
       "      <td>nc</td>\n",
       "    </tr>\n",
       "  </tbody>\n",
       "</table>\n",
       "</div>"
      ],
      "text/plain": [
       "           id                  region  price  year manufacturer model  \\\n",
       "0  7222695916                prescott   6000   NaN          NaN   NaN   \n",
       "1  7218891961            fayetteville  11900   NaN          NaN   NaN   \n",
       "2  7221797935            florida keys  21000   NaN          NaN   NaN   \n",
       "3  7222270760  worcester / central MA   1500   NaN          NaN   NaN   \n",
       "4  7210384030              greensboro   4900   NaN          NaN   NaN   \n",
       "\n",
       "  condition cylinders fuel  odometer title_status transmission  VIN drive  \\\n",
       "0       NaN       NaN  NaN       NaN          NaN          NaN  NaN   NaN   \n",
       "1       NaN       NaN  NaN       NaN          NaN          NaN  NaN   NaN   \n",
       "2       NaN       NaN  NaN       NaN          NaN          NaN  NaN   NaN   \n",
       "3       NaN       NaN  NaN       NaN          NaN          NaN  NaN   NaN   \n",
       "4       NaN       NaN  NaN       NaN          NaN          NaN  NaN   NaN   \n",
       "\n",
       "  size type paint_color state  \n",
       "0  NaN  NaN         NaN    az  \n",
       "1  NaN  NaN         NaN    ar  \n",
       "2  NaN  NaN         NaN    fl  \n",
       "3  NaN  NaN         NaN    ma  \n",
       "4  NaN  NaN         NaN    nc  "
      ]
     },
     "execution_count": 40,
     "metadata": {},
     "output_type": "execute_result"
    }
   ],
   "source": [
    "data.head()"
   ]
  },
  {
   "cell_type": "code",
   "execution_count": 41,
   "metadata": {},
   "outputs": [
    {
     "data": {
      "text/html": [
       "<div>\n",
       "<style scoped>\n",
       "    .dataframe tbody tr th:only-of-type {\n",
       "        vertical-align: middle;\n",
       "    }\n",
       "\n",
       "    .dataframe tbody tr th {\n",
       "        vertical-align: top;\n",
       "    }\n",
       "\n",
       "    .dataframe thead th {\n",
       "        text-align: right;\n",
       "    }\n",
       "</style>\n",
       "<table border=\"1\" class=\"dataframe\">\n",
       "  <thead>\n",
       "    <tr style=\"text-align: right;\">\n",
       "      <th></th>\n",
       "      <th>id</th>\n",
       "      <th>region</th>\n",
       "      <th>price</th>\n",
       "      <th>year</th>\n",
       "      <th>manufacturer</th>\n",
       "      <th>model</th>\n",
       "      <th>condition</th>\n",
       "      <th>cylinders</th>\n",
       "      <th>fuel</th>\n",
       "      <th>odometer</th>\n",
       "      <th>title_status</th>\n",
       "      <th>transmission</th>\n",
       "      <th>VIN</th>\n",
       "      <th>drive</th>\n",
       "      <th>size</th>\n",
       "      <th>type</th>\n",
       "      <th>paint_color</th>\n",
       "      <th>state</th>\n",
       "    </tr>\n",
       "  </thead>\n",
       "  <tbody>\n",
       "    <tr>\n",
       "      <th>426875</th>\n",
       "      <td>7301591192</td>\n",
       "      <td>wyoming</td>\n",
       "      <td>23590</td>\n",
       "      <td>2019.0</td>\n",
       "      <td>nissan</td>\n",
       "      <td>maxima s sedan 4d</td>\n",
       "      <td>good</td>\n",
       "      <td>6 cylinders</td>\n",
       "      <td>gas</td>\n",
       "      <td>32226.0</td>\n",
       "      <td>clean</td>\n",
       "      <td>other</td>\n",
       "      <td>1N4AA6AV6KC367801</td>\n",
       "      <td>fwd</td>\n",
       "      <td>NaN</td>\n",
       "      <td>sedan</td>\n",
       "      <td>NaN</td>\n",
       "      <td>wy</td>\n",
       "    </tr>\n",
       "    <tr>\n",
       "      <th>426876</th>\n",
       "      <td>7301591187</td>\n",
       "      <td>wyoming</td>\n",
       "      <td>30590</td>\n",
       "      <td>2020.0</td>\n",
       "      <td>volvo</td>\n",
       "      <td>s60 t5 momentum sedan 4d</td>\n",
       "      <td>good</td>\n",
       "      <td>NaN</td>\n",
       "      <td>gas</td>\n",
       "      <td>12029.0</td>\n",
       "      <td>clean</td>\n",
       "      <td>other</td>\n",
       "      <td>7JR102FKXLG042696</td>\n",
       "      <td>fwd</td>\n",
       "      <td>NaN</td>\n",
       "      <td>sedan</td>\n",
       "      <td>red</td>\n",
       "      <td>wy</td>\n",
       "    </tr>\n",
       "    <tr>\n",
       "      <th>426877</th>\n",
       "      <td>7301591147</td>\n",
       "      <td>wyoming</td>\n",
       "      <td>34990</td>\n",
       "      <td>2020.0</td>\n",
       "      <td>cadillac</td>\n",
       "      <td>xt4 sport suv 4d</td>\n",
       "      <td>good</td>\n",
       "      <td>NaN</td>\n",
       "      <td>diesel</td>\n",
       "      <td>4174.0</td>\n",
       "      <td>clean</td>\n",
       "      <td>other</td>\n",
       "      <td>1GYFZFR46LF088296</td>\n",
       "      <td>NaN</td>\n",
       "      <td>NaN</td>\n",
       "      <td>hatchback</td>\n",
       "      <td>white</td>\n",
       "      <td>wy</td>\n",
       "    </tr>\n",
       "    <tr>\n",
       "      <th>426878</th>\n",
       "      <td>7301591140</td>\n",
       "      <td>wyoming</td>\n",
       "      <td>28990</td>\n",
       "      <td>2018.0</td>\n",
       "      <td>lexus</td>\n",
       "      <td>es 350 sedan 4d</td>\n",
       "      <td>good</td>\n",
       "      <td>6 cylinders</td>\n",
       "      <td>gas</td>\n",
       "      <td>30112.0</td>\n",
       "      <td>clean</td>\n",
       "      <td>other</td>\n",
       "      <td>58ABK1GG4JU103853</td>\n",
       "      <td>fwd</td>\n",
       "      <td>NaN</td>\n",
       "      <td>sedan</td>\n",
       "      <td>silver</td>\n",
       "      <td>wy</td>\n",
       "    </tr>\n",
       "    <tr>\n",
       "      <th>426879</th>\n",
       "      <td>7301591129</td>\n",
       "      <td>wyoming</td>\n",
       "      <td>30590</td>\n",
       "      <td>2019.0</td>\n",
       "      <td>bmw</td>\n",
       "      <td>4 series 430i gran coupe</td>\n",
       "      <td>good</td>\n",
       "      <td>NaN</td>\n",
       "      <td>gas</td>\n",
       "      <td>22716.0</td>\n",
       "      <td>clean</td>\n",
       "      <td>other</td>\n",
       "      <td>WBA4J1C58KBM14708</td>\n",
       "      <td>rwd</td>\n",
       "      <td>NaN</td>\n",
       "      <td>coupe</td>\n",
       "      <td>NaN</td>\n",
       "      <td>wy</td>\n",
       "    </tr>\n",
       "  </tbody>\n",
       "</table>\n",
       "</div>"
      ],
      "text/plain": [
       "                id   region  price    year manufacturer  \\\n",
       "426875  7301591192  wyoming  23590  2019.0       nissan   \n",
       "426876  7301591187  wyoming  30590  2020.0        volvo   \n",
       "426877  7301591147  wyoming  34990  2020.0     cadillac   \n",
       "426878  7301591140  wyoming  28990  2018.0        lexus   \n",
       "426879  7301591129  wyoming  30590  2019.0          bmw   \n",
       "\n",
       "                           model condition    cylinders    fuel  odometer  \\\n",
       "426875         maxima s sedan 4d      good  6 cylinders     gas   32226.0   \n",
       "426876  s60 t5 momentum sedan 4d      good          NaN     gas   12029.0   \n",
       "426877          xt4 sport suv 4d      good          NaN  diesel    4174.0   \n",
       "426878           es 350 sedan 4d      good  6 cylinders     gas   30112.0   \n",
       "426879  4 series 430i gran coupe      good          NaN     gas   22716.0   \n",
       "\n",
       "       title_status transmission                VIN drive size       type  \\\n",
       "426875        clean        other  1N4AA6AV6KC367801   fwd  NaN      sedan   \n",
       "426876        clean        other  7JR102FKXLG042696   fwd  NaN      sedan   \n",
       "426877        clean        other  1GYFZFR46LF088296   NaN  NaN  hatchback   \n",
       "426878        clean        other  58ABK1GG4JU103853   fwd  NaN      sedan   \n",
       "426879        clean        other  WBA4J1C58KBM14708   rwd  NaN      coupe   \n",
       "\n",
       "       paint_color state  \n",
       "426875         NaN    wy  \n",
       "426876         red    wy  \n",
       "426877       white    wy  \n",
       "426878      silver    wy  \n",
       "426879         NaN    wy  "
      ]
     },
     "execution_count": 41,
     "metadata": {},
     "output_type": "execute_result"
    }
   ],
   "source": [
    "data.tail()"
   ]
  },
  {
   "cell_type": "code",
   "execution_count": 73,
   "metadata": {},
   "outputs": [
    {
     "data": {
      "text/plain": [
       "Index(['id', 'price', 'year', 'odometer'], dtype='object')"
      ]
     },
     "execution_count": 73,
     "metadata": {},
     "output_type": "execute_result"
    }
   ],
   "source": [
    "# Get numeric columns\n",
    "cols = data.columns\n",
    "num_cols = data._get_numeric_data().columns\n",
    "num_cols"
   ]
  },
  {
   "cell_type": "code",
   "execution_count": 77,
   "metadata": {},
   "outputs": [
    {
     "data": {
      "text/plain": [
       "['region',\n",
       " 'manufacturer',\n",
       " 'model',\n",
       " 'condition',\n",
       " 'cylinders',\n",
       " 'fuel',\n",
       " 'title_status',\n",
       " 'transmission',\n",
       " 'VIN',\n",
       " 'drive',\n",
       " 'size',\n",
       " 'type',\n",
       " 'paint_color',\n",
       " 'state']"
      ]
     },
     "execution_count": 77,
     "metadata": {},
     "output_type": "execute_result"
    }
   ],
   "source": [
    "# Categoricl columns\n",
    "data.select_dtypes(include=['object']).columns.tolist()"
   ]
  },
  {
   "cell_type": "code",
   "execution_count": 82,
   "metadata": {},
   "outputs": [
    {
     "name": "stdout",
     "output_type": "stream",
     "text": [
      "Feature: region\n",
      "['prescott' 'fayetteville' 'florida keys' 'worcester / central MA'\n",
      " 'greensboro' 'hudson valley' 'medford-ashland' 'erie' 'el paso'\n",
      " 'bellingham' 'skagit / island / SJI' 'la crosse' 'auburn' 'birmingham'\n",
      " 'dothan' 'florence / muscle shoals' 'gadsden-anniston'\n",
      " 'huntsville / decatur' 'mobile' 'montgomery' 'tuscaloosa'\n",
      " 'anchorage / mat-su' 'fairbanks' 'kenai peninsula' 'southeast alaska'\n",
      " 'flagstaff / sedona' 'mohave county' 'phoenix' 'show low' 'sierra vista'\n",
      " 'tucson' 'yuma' 'fort smith' 'jonesboro' 'little rock' 'texarkana'\n",
      " 'bakersfield' 'chico' 'fresno / madera' 'gold country' 'hanford-corcoran'\n",
      " 'humboldt county' 'imperial county' 'inland empire' 'los angeles'\n",
      " 'mendocino county' 'merced' 'modesto' 'monterey bay' 'orange county'\n",
      " 'palm springs' 'redding' 'reno / tahoe' 'sacramento' 'san diego'\n",
      " 'san luis obispo' 'santa barbara' 'santa maria' 'SF bay area'\n",
      " 'siskiyou county' 'stockton' 'susanville' 'ventura county'\n",
      " 'visalia-tulare' 'yuba-sutter' 'boulder' 'colorado springs' 'denver'\n",
      " 'eastern CO' 'fort collins / north CO' 'high rockies' 'pueblo'\n",
      " 'western slope' 'eastern CT' 'hartford' 'new haven' 'northwest CT'\n",
      " 'washington, DC' 'delaware' 'daytona beach' 'ft myers / SW florida'\n",
      " 'gainesville' 'heartland florida' 'jacksonville' 'lakeland'\n",
      " 'north central FL' 'ocala' 'okaloosa / walton' 'orlando' 'panama city'\n",
      " 'pensacola' 'sarasota-bradenton' 'south florida' 'space coast'\n",
      " 'st augustine' 'tallahassee' 'tampa bay area' 'treasure coast' 'albany'\n",
      " 'athens' 'atlanta' 'augusta' 'brunswick' 'columbus'\n",
      " 'macon / warner robins' 'northwest GA' 'savannah / hinesville'\n",
      " 'statesboro' 'valdosta' 'hawaii' 'boise' 'east idaho'\n",
      " 'lewiston / clarkston' 'pullman / moscow' \"spokane / coeur d'alene\"\n",
      " 'twin falls' 'bloomington-normal' 'champaign urbana' 'chicago' 'decatur'\n",
      " 'la salle co' 'mattoon-charleston' 'peoria' 'quad cities, IA/IL'\n",
      " 'rockford' 'southern illinois' 'springfield' 'st louis, MO' 'western IL'\n",
      " 'bloomington' 'evansville' 'fort wayne' 'indianapolis' 'kokomo'\n",
      " 'lafayette / west lafayette' 'muncie / anderson' 'richmond'\n",
      " 'south bend / michiana' 'terre haute' 'ames' 'cedar rapids' 'des moines'\n",
      " 'dubuque' 'fort dodge' 'iowa city' 'mason city' 'omaha / council bluffs'\n",
      " 'sioux city' 'southeast IA' 'waterloo / cedar falls' 'kansas city, MO'\n",
      " 'lawrence' 'manhattan' 'northwest KS' 'salina' 'southeast KS'\n",
      " 'southwest KS' 'topeka' 'wichita' 'bowling green' 'eastern kentucky'\n",
      " 'huntington-ashland' 'lexington' 'louisville' 'owensboro' 'western KY'\n",
      " 'baton rouge' 'central louisiana' 'houma' 'lafayette' 'lake charles'\n",
      " 'monroe' 'new orleans' 'shreveport' 'maine' 'annapolis' 'baltimore'\n",
      " 'cumberland valley' 'eastern shore' 'frederick' 'southern maryland'\n",
      " 'western maryland' 'boston' 'cape cod / islands' 'south coast'\n",
      " 'western massachusetts' 'ann arbor' 'battle creek' 'central michigan'\n",
      " 'detroit metro' 'flint' 'grand rapids' 'holland' 'jackson' 'kalamazoo'\n",
      " 'lansing' 'muskegon' 'northern michigan' 'port huron'\n",
      " 'saginaw-midland-baycity' 'southwest michigan' 'the thumb'\n",
      " 'upper peninsula' 'bemidji' 'brainerd' 'duluth / superior'\n",
      " 'fargo / moorhead' 'mankato' 'minneapolis / st paul' 'rochester'\n",
      " 'southwest MN' 'st cloud' 'gulfport / biloxi' 'hattiesburg' 'meridian'\n",
      " 'north mississippi' 'southwest MS' 'columbia / jeff city' 'joplin'\n",
      " 'kansas city' 'kirksville' 'lake of the ozarks' 'southeast missouri'\n",
      " 'st joseph' 'st louis' 'billings' 'bozeman' 'butte' 'eastern montana'\n",
      " 'great falls' 'helena' 'kalispell' 'missoula' 'asheville' 'boone'\n",
      " 'charlotte' 'eastern NC' 'hickory / lenoir' 'outer banks'\n",
      " 'raleigh / durham / CH' 'wilmington' 'winston-salem' 'grand island'\n",
      " 'lincoln' 'north platte' 'scottsbluff / panhandle' 'elko' 'las vegas'\n",
      " 'central NJ' 'jersey shore' 'north jersey' 'south jersey' 'albuquerque'\n",
      " 'clovis / portales' 'farmington' 'las cruces' 'roswell / carlsbad'\n",
      " 'santa fe / taos' 'binghamton' 'buffalo' 'catskills' 'chautauqua'\n",
      " 'elmira-corning' 'finger lakes' 'glens falls' 'ithaca' 'long island'\n",
      " 'new york city' 'oneonta' 'plattsburgh-adirondacks'\n",
      " 'potsdam-canton-massena' 'syracuse' 'twin tiers NY/PA'\n",
      " 'utica-rome-oneida' 'watertown' 'new hampshire' 'bismarck' 'grand forks'\n",
      " 'north dakota' 'akron / canton' 'ashtabula' 'chillicothe' 'cincinnati'\n",
      " 'cleveland' 'dayton / springfield' 'lima / findlay' 'mansfield'\n",
      " 'northern panhandle' 'parkersburg-marietta' 'sandusky' 'toledo'\n",
      " 'tuscarawas co' 'youngstown' 'zanesville / cambridge' 'fort smith, AR'\n",
      " 'lawton' 'northwest OK' 'oklahoma city' 'stillwater' 'texoma' 'tulsa'\n",
      " 'bend' 'corvallis/albany' 'east oregon' 'eugene' 'klamath falls'\n",
      " 'oregon coast' 'portland' 'roseburg' 'salem' 'altoona-johnstown'\n",
      " 'harrisburg' 'lancaster' 'lehigh valley' 'meadville' 'philadelphia'\n",
      " 'pittsburgh' 'poconos' 'reading' 'scranton / wilkes-barre'\n",
      " 'state college' 'williamsport' 'york' 'rhode island' 'charleston'\n",
      " 'columbia' 'florence' 'greenville / upstate' 'hilton head' 'myrtle beach'\n",
      " 'northeast SD' 'pierre / central SD' 'rapid city / west SD'\n",
      " 'sioux falls / SE SD' 'south dakota' 'chattanooga' 'clarksville'\n",
      " 'cookeville' 'knoxville' 'memphis' 'nashville' 'tri-cities' 'abilene'\n",
      " 'amarillo' 'austin' 'beaumont / port arthur' 'brownsville'\n",
      " 'college station' 'corpus christi' 'dallas / fort worth'\n",
      " 'deep east texas' 'del rio / eagle pass' 'galveston' 'houston'\n",
      " 'killeen / temple / ft hood' 'laredo' 'lubbock' 'mcallen / edinburg'\n",
      " 'odessa / midland' 'san angelo' 'san antonio' 'san marcos' 'southwest TX'\n",
      " 'tyler / east TX' 'victoria' 'waco' 'wichita falls' 'logan'\n",
      " 'ogden-clearfield' 'provo / orem' 'salt lake city' 'st george' 'vermont'\n",
      " 'charlottesville' 'danville' 'fredericksburg' 'harrisonburg' 'lynchburg'\n",
      " 'new river valley' 'norfolk / hampton roads' 'roanoke' 'southwest VA'\n",
      " 'winchester' 'kennewick-pasco-richland' 'moses lake' 'olympic peninsula'\n",
      " 'seattle-tacoma' 'wenatchee' 'yakima' 'eastern panhandle' 'morgantown'\n",
      " 'southern WV' 'west virginia (old)' 'appleton-oshkosh-FDL' 'eau claire'\n",
      " 'green bay' 'janesville' 'kenosha-racine' 'madison' 'milwaukee'\n",
      " 'northern WI' 'sheboygan' 'wausau' 'wyoming']\n",
      "Feature: manufacturer\n",
      "[nan 'gmc' 'chevrolet' 'toyota' 'ford' 'jeep' 'nissan' 'ram' 'mazda'\n",
      " 'cadillac' 'honda' 'dodge' 'lexus' 'jaguar' 'buick' 'chrysler' 'volvo'\n",
      " 'audi' 'infiniti' 'lincoln' 'alfa-romeo' 'subaru' 'acura' 'hyundai'\n",
      " 'mercedes-benz' 'bmw' 'mitsubishi' 'volkswagen' 'porsche' 'kia' 'rover'\n",
      " 'ferrari' 'mini' 'pontiac' 'fiat' 'tesla' 'saturn' 'mercury'\n",
      " 'harley-davidson' 'datsun' 'aston-martin' 'land rover' 'morgan']\n",
      "Feature: model\n",
      "[nan 'sierra 1500 crew cab slt' 'silverado 1500' ... 'gand wagoneer'\n",
      " '96 Suburban' 'Paige Glenbrook Touring']\n",
      "Feature: condition\n",
      "[nan 'good' 'excellent' 'fair' 'like new' 'new' 'salvage']\n",
      "Feature: cylinders\n",
      "[nan '8 cylinders' '6 cylinders' '4 cylinders' '5 cylinders' 'other'\n",
      " '3 cylinders' '10 cylinders' '12 cylinders']\n",
      "Feature: fuel\n",
      "[nan 'gas' 'other' 'diesel' 'hybrid' 'electric']\n",
      "Feature: title_status\n",
      "[nan 'clean' 'rebuilt' 'lien' 'salvage' 'missing' 'parts only']\n",
      "Feature: transmission\n",
      "[nan 'other' 'automatic' 'manual']\n",
      "Feature: VIN\n",
      "[nan '3GTP1VEC4EG551563' '1GCSCSE06AZ123805' ... '2HGES15535H620534'\n",
      " '1FDWF37P64EA24868' 'SAJGX2749VCOO8376']\n",
      "Feature: drive\n",
      "[nan 'rwd' '4wd' 'fwd']\n",
      "Feature: size\n",
      "[nan 'full-size' 'mid-size' 'compact' 'sub-compact']\n",
      "Feature: type\n",
      "[nan 'pickup' 'truck' 'other' 'coupe' 'SUV' 'hatchback' 'mini-van' 'sedan'\n",
      " 'offroad' 'bus' 'van' 'convertible' 'wagon']\n",
      "Feature: paint_color\n",
      "[nan 'white' 'blue' 'red' 'black' 'silver' 'grey' 'brown' 'yellow'\n",
      " 'orange' 'green' 'custom' 'purple']\n",
      "Feature: state\n",
      "['az' 'ar' 'fl' 'ma' 'nc' 'ny' 'or' 'pa' 'tx' 'wa' 'wi' 'al' 'ak' 'ca'\n",
      " 'co' 'ct' 'dc' 'de' 'ga' 'hi' 'id' 'il' 'in' 'ia' 'ks' 'ky' 'la' 'me'\n",
      " 'md' 'mi' 'mn' 'ms' 'mo' 'mt' 'ne' 'nv' 'nj' 'nm' 'nh' 'nd' 'oh' 'ok'\n",
      " 'ri' 'sc' 'sd' 'tn' 'ut' 'vt' 'va' 'wv' 'wy']\n"
     ]
    }
   ],
   "source": [
    "# Check the unique values for each categorical feature\n",
    "for f in data.select_dtypes(include=['object']).columns.tolist():\n",
    "    print(f'Feature: {f}')\n",
    "    print(data[f].unique())"
   ]
  },
  {
   "cell_type": "code",
   "execution_count": 72,
   "metadata": {},
   "outputs": [
    {
     "data": {
      "text/plain": [
       "year\n",
       "1900.0      12\n",
       "1901.0       3\n",
       "1902.0       1\n",
       "1903.0      12\n",
       "1905.0       1\n",
       "          ... \n",
       "1995.0    1246\n",
       "1996.0    1302\n",
       "1997.0    1724\n",
       "1998.0    1988\n",
       "1999.0    3094\n",
       "Name: id, Length: 91, dtype: int64"
      ]
     },
     "execution_count": 72,
     "metadata": {},
     "output_type": "execute_result"
    }
   ],
   "source": [
    "# How many older cars (year 1999 and earlier) do we have in this dataset?\n",
    "cars_years = data[data['year'] <= 1999 ]\n",
    "cars_years.groupby('year')['id'].count()"
   ]
  },
  {
   "cell_type": "markdown",
   "metadata": {},
   "source": [
    "### Data Preparation\n",
    "\n",
    "After our initial exploration and fine tuning of the business understanding, it is time to construct our final dataset prior to modeling.  Here, we want to make sure to handle any integrity issues and cleaning, the engineering of new features, any transformations that we believe should happen (scaling, logarithms, normalization, etc.), and general preparation for modeling with `sklearn`. "
   ]
  },
  {
   "cell_type": "code",
   "execution_count": 61,
   "metadata": {},
   "outputs": [
    {
     "data": {
      "text/plain": [
       "size            71.77\n",
       "cylinders       41.62\n",
       "condition       40.79\n",
       "VIN             37.73\n",
       "drive           30.59\n",
       "paint_color     30.50\n",
       "type            21.75\n",
       "manufacturer     4.13\n",
       "title_status     1.93\n",
       "model            1.24\n",
       "odometer         1.03\n",
       "fuel             0.71\n",
       "transmission     0.60\n",
       "year             0.28\n",
       "id               0.00\n",
       "region           0.00\n",
       "price            0.00\n",
       "state            0.00\n",
       "dtype: float64"
      ]
     },
     "execution_count": 61,
     "metadata": {},
     "output_type": "execute_result"
    }
   ],
   "source": [
    "# Curious, what are the % of missing values in each column for this dataset?\n",
    "percent_of_data_missing = data.isnull().mean().round(4).mul(100).sort_values(ascending=False)\n",
    "percent_of_data_missing"
   ]
  },
  {
   "cell_type": "code",
   "execution_count": 85,
   "metadata": {},
   "outputs": [
    {
     "data": {
      "text/plain": [
       "size            306361\n",
       "cylinders       177678\n",
       "condition       174104\n",
       "VIN             161042\n",
       "drive           130567\n",
       "paint_color     130203\n",
       "type             92858\n",
       "manufacturer     17646\n",
       "title_status      8242\n",
       "model             5277\n",
       "odometer          4400\n",
       "fuel              3013\n",
       "transmission      2556\n",
       "year              1205\n",
       "id                   0\n",
       "region               0\n",
       "price                0\n",
       "state                0\n",
       "dtype: int64"
      ]
     },
     "execution_count": 85,
     "metadata": {},
     "output_type": "execute_result"
    }
   ],
   "source": [
    "data.isnull().sum().sort_values(ascending=False)"
   ]
  },
  {
   "cell_type": "markdown",
   "metadata": {},
   "source": [
    "#### Converting data types to easier to analyze data types"
   ]
  },
  {
   "cell_type": "code",
   "execution_count": 86,
   "metadata": {},
   "outputs": [
    {
     "data": {
      "text/plain": [
       "array([nan, '8 cylinders', '6 cylinders', '4 cylinders', '5 cylinders',\n",
       "       'other', '3 cylinders', '10 cylinders', '12 cylinders'],\n",
       "      dtype=object)"
      ]
     },
     "execution_count": 86,
     "metadata": {},
     "output_type": "execute_result"
    }
   ],
   "source": [
    "# The unique values above for categorical data 'cylinders' showed entries that can easily be converted to integers\n",
    "data['cylinders'].unique()"
   ]
  },
  {
   "cell_type": "code",
   "execution_count": 95,
   "metadata": {},
   "outputs": [
    {
     "data": {
      "text/plain": [
       "6 cylinders     94169\n",
       "4 cylinders     77642\n",
       "8 cylinders     72062\n",
       "5 cylinders      1712\n",
       "10 cylinders     1455\n",
       "other            1298\n",
       "3 cylinders       655\n",
       "12 cylinders      209\n",
       "Name: cylinders, dtype: int64"
      ]
     },
     "execution_count": 95,
     "metadata": {},
     "output_type": "execute_result"
    }
   ],
   "source": [
    "data['cylinders'].value_counts()"
   ]
  },
  {
   "cell_type": "code",
   "execution_count": 106,
   "metadata": {},
   "outputs": [],
   "source": [
    "# Let's ignore 'other' entry for cylinders and replace all Nan values with 0.\n",
    "data = data[data['cylinders'] != 'other']\n",
    "data['cylinders'].fillna(0, inplace=True)"
   ]
  },
  {
   "cell_type": "code",
   "execution_count": 117,
   "metadata": {},
   "outputs": [],
   "source": [
    "# Now let's convert the cylinders feature to integer values.\n",
    "mapping = {'3 cylinders': 3,'4 cylinders': 4,'5 cylinders': 5,  '6 cylinders': 6, '8 cylinders': 8,'10 cylinders':10,\n",
    "          '12 cylinders': 12, '0': 0}\n",
    "\n",
    "data = data.replace({'cylinders': mapping})"
   ]
  },
  {
   "cell_type": "code",
   "execution_count": 119,
   "metadata": {},
   "outputs": [
    {
     "name": "stdout",
     "output_type": "stream",
     "text": [
      "<class 'pandas.core.series.Series'>\n",
      "Int64Index: 425582 entries, 0 to 426879\n",
      "Series name: cylinders\n",
      "Non-Null Count   Dtype\n",
      "--------------   -----\n",
      "425582 non-null  int64\n",
      "dtypes: int64(1)\n",
      "memory usage: 22.6 MB\n"
     ]
    }
   ],
   "source": [
    "data['cylinders'].info()"
   ]
  },
  {
   "cell_type": "code",
   "execution_count": 121,
   "metadata": {},
   "outputs": [
    {
     "data": {
      "text/plain": [
       "0     177678\n",
       "6      94169\n",
       "4      77642\n",
       "8      72062\n",
       "5       1712\n",
       "10      1455\n",
       "3        655\n",
       "12       209\n",
       "Name: cylinders, dtype: int64"
      ]
     },
     "execution_count": 121,
     "metadata": {},
     "output_type": "execute_result"
    }
   ],
   "source": [
    "# Now let's convert all those zeros (previously NaNs) to the most common value, which is 6 cylinders \n",
    "# since the amount of zeros is high.\n",
    "data['cylinders'].value_counts()"
   ]
  },
  {
   "cell_type": "code",
   "execution_count": 122,
   "metadata": {},
   "outputs": [
    {
     "data": {
      "text/plain": [
       "6     271847\n",
       "4      77642\n",
       "8      72062\n",
       "5       1712\n",
       "10      1455\n",
       "3        655\n",
       "12       209\n",
       "Name: cylinders, dtype: int64"
      ]
     },
     "execution_count": 122,
     "metadata": {},
     "output_type": "execute_result"
    }
   ],
   "source": [
    "# Lets do the value replacement in place\n",
    "data.loc[data['cylinders'] == 0, 'cylinders'] = 6\n",
    "data['cylinders'].value_counts()"
   ]
  },
  {
   "cell_type": "code",
   "execution_count": 132,
   "metadata": {},
   "outputs": [
    {
     "data": {
      "text/plain": [
       "<seaborn.axisgrid.FacetGrid at 0x7fdb7da5fc70>"
      ]
     },
     "execution_count": 132,
     "metadata": {},
     "output_type": "execute_result"
    },
    {
     "data": {
      "image/png": "[encoded data removed]",
      "text/plain": [
       "<Figure size 620.5x500 with 1 Axes>"
      ]
     },
     "metadata": {},
     "output_type": "display_data"
    }
   ],
   "source": [
    "sns.lmplot(data=data, x='cylinders', y='price',hue='transmission', fit_reg=False)"
   ]
  },
  {
   "cell_type": "markdown",
   "metadata": {},
   "source": [
    "#### Dealing with our missing data -- drop, replace, other..."
   ]
  },
  {
   "cell_type": "code",
   "execution_count": null,
   "metadata": {},
   "outputs": [],
   "source": []
  },
  {
   "cell_type": "code",
   "execution_count": null,
   "metadata": {},
   "outputs": [],
   "source": []
  },
  {
   "cell_type": "markdown",
   "metadata": {},
   "source": [
    "### Modeling\n",
    "\n",
    "With your (almost?) final dataset in hand, it is now time to build some models.  Here, you should build a number of different regression models with the price as the target.  In building your models, you should explore different parameters and be sure to cross-validate your findings."
   ]
  },
  {
   "cell_type": "code",
   "execution_count": null,
   "metadata": {},
   "outputs": [],
   "source": [
    "df.head()"
   ]
  },
  {
   "cell_type": "code",
   "execution_count": null,
   "metadata": {},
   "outputs": [],
   "source": [
    "# split the data into X and y"
   ]
  },
  {
   "cell_type": "code",
   "execution_count": null,
   "metadata": {},
   "outputs": [],
   "source": [
    "X"
   ]
  },
  {
   "cell_type": "code",
   "execution_count": null,
   "metadata": {},
   "outputs": [],
   "source": [
    "y"
   ]
  },
  {
   "cell_type": "markdown",
   "metadata": {},
   "source": [
    "### Evaluation\n",
    "\n",
    "With some modeling accomplished, we aim to reflect on what we identify as a high quality model and what we are able to learn from this.  We should review our business objective and explore how well we can provide meaningful insight on drivers of used car prices.  Your goal now is to distill your findings and determine whether the earlier phases need revisitation and adjustment or if you have information of value to bring back to your client."
   ]
  },
  {
   "cell_type": "code",
   "execution_count": null,
   "metadata": {},
   "outputs": [],
   "source": []
  },
  {
   "cell_type": "code",
   "execution_count": null,
   "metadata": {},
   "outputs": [],
   "source": []
  },
  {
   "cell_type": "code",
   "execution_count": null,
   "metadata": {},
   "outputs": [],
   "source": []
  },
  {
   "cell_type": "code",
   "execution_count": null,
   "metadata": {},
   "outputs": [],
   "source": []
  },
  {
   "cell_type": "code",
   "execution_count": null,
   "metadata": {},
   "outputs": [],
   "source": []
  },
  {
   "cell_type": "code",
   "execution_count": null,
   "metadata": {},
   "outputs": [],
   "source": []
  },
  {
   "cell_type": "markdown",
   "metadata": {},
   "source": [
    "### Deployment\n",
    "\n",
    "Now that we've settled on our models and findings, it is time to deliver the information to the client.  You should organize your work as a basic report that details your primary findings.  Keep in mind that your audience is a group of used car dealers interested in fine tuning their inventory."
   ]
  },
  {
   "cell_type": "code",
   "execution_count": null,
   "metadata": {},
   "outputs": [],
   "source": []
  },
  {
   "cell_type": "code",
   "execution_count": null,
   "metadata": {},
   "outputs": [],
   "source": []
  },
  {
   "cell_type": "code",
   "execution_count": null,
   "metadata": {},
   "outputs": [],
   "source": []
  },
  {
   "cell_type": "code",
   "execution_count": null,
   "metadata": {},
   "outputs": [],
   "source": []
  },
  {
   "cell_type": "code",
   "execution_count": null,
   "metadata": {},
   "outputs": [],
   "source": []
  },
  {
   "cell_type": "code",
   "execution_count": null,
   "metadata": {},
   "outputs": [],
   "source": []
  },
  {
   "cell_type": "code",
   "execution_count": null,
   "metadata": {},
   "outputs": [],
   "source": []
  }
 ],
 "metadata": {
  "kernelspec": {
   "display_name": "Python 3 (ipykernel)",
   "language": "python",
   "name": "python3"
  },
  "language_info": {
   "codemirror_mode": {
    "name": "ipython",
    "version": 3
   },
   "file_extension": ".py",
   "mimetype": "text/x-python",
   "name": "python",
   "nbconvert_exporter": "python",
   "pygments_lexer": "ipython3",
   "version": "3.10.4"
  },
  "widgets": {
   "application/vnd.jupyter.widget-state+json": {
    "state": {},
    "version_major": 2,
    "version_minor": 0
   }
  }
 },
 "nbformat": 4,
 "nbformat_minor": 4
}
