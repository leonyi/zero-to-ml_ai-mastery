{
  "nbformat": 4,
  "nbformat_minor": 0,
  "metadata": {
    "colab": {
      "provenance": [],
      "mount_file_id": "1I9D8TwYrNFwBTMEhWkgF-5WprRPFQYxn",
      "authorship_tag": "ABX9TyMpoA77GIZnb8X0+0b5TUSU",
      "include_colab_link": true
    },
    "kernelspec": {
      "name": "python3",
      "display_name": "Python 3"
    },
    "language_info": {
      "name": "python"
    },
    "gpuClass": "standard"
  },
  "cells": [
    {
      "cell_type": "markdown",
      "metadata": {
        "id": "view-in-github",
        "colab_type": "text"
      },
      "source": [
        "<a href=\"https://colab.research.google.com/github/leonyi/zero-to-mlai-mastery/blob/main/capstone-stock-market-prediction/stock_prediction_modeling.ipynb\" target=\"_parent\"><img src=\"https://colab.research.google.com/assets/colab-badge.svg\" alt=\"Open In Colab\"/></a>"
      ]
    },
    {
      "cell_type": "markdown",
      "source": [
        "## Stock market prediction\n",
        "\n",
        "This notebook is the continuation of the [initial analysis](https://colab.research.google.com/drive/16DvzTrbjleZcIR70-Z6vzkXosIVRKewc?usp=sharing), which uses various libraries in an attempt to understand how realistic and reliable is to build a machine learning model that is capable of predicting the stock price for a give company using the principals of Financial Engineering. "
      ],
      "metadata": {
        "id": "87KJqmIPpwIz"
      }
    },
    {
      "cell_type": "code",
      "source": [
        "# Ensure the yfinance python library is loaded.\n",
        "!pip install yfinance"
      ],
      "metadata": {
        "id": "A8HCZA7prM0M"
      },
      "execution_count": null,
      "outputs": []
    },
    {
      "cell_type": "code",
      "execution_count": 2,
      "metadata": {
        "id": "Hg0V60BKbE7A"
      },
      "outputs": [],
      "source": [
        "import numpy as np\n",
        "import pandas as pd\n",
        "import matplotlib.pyplot as plt\n",
        "import plotly.express as px\n",
        "import seaborn as sns\n",
        "import pandas_datareader\n",
        "import pandas_datareader.data as pdr\n",
        "import datetime\n",
        "import keras.backend as K\n",
        "import yfinance as yf\n",
        "import os\n",
        "\n",
        "from glob import glob\n",
        "from numpy import arange\n",
        "from pandas import set_option\n",
        "from pandas.plotting import scatter_matrix\n",
        "from plotly import graph_objects as go\n",
        "\n",
        "from keras.preprocessing.sequence import TimeseriesGenerator\n",
        "from keras.models import Model, Sequential\n",
        "from keras.optimizers import SGD, Adam\n",
        "from keras.layers import Activation, Dense, Dropout, GRU, Input, LSTM, SimpleRNN\n",
        "\n",
        "from sklearn.preprocessing import MinMaxScaler, StandardScaler\n",
        "from sklearn.linear_model import LinearRegression\n",
        "from sklearn.metrics import mean_absolute_error as mae\n",
        "\n",
        "from sqlalchemy import label\n",
        "\n",
        "\n",
        "\n",
        "%matplotlib inline"
      ]
    },
    {
      "cell_type": "markdown",
      "source": [
        "# Problem Definition\n",
        "In a statement,\n",
        "\n",
        "> Given the characteristics and historical data trends for a given company stock, can we reliably predict the value of their stock?"
      ],
      "metadata": {
        "id": "EKX-TSLprg0n"
      }
    },
    {
      "cell_type": "markdown",
      "source": [
        "# Data\n",
        "\n",
        "The data is retreived from Yahoo for the SP500 companies. The list of companies came from [Kaggle](https://www.kaggle.com/camnugent/sandp500). We select a handful of choice and create a set of 100 companies for the analysis always containing the ones we are interested in."
      ],
      "metadata": {
        "id": "LTntAzlWsXrm"
      }
    },
    {
      "cell_type": "markdown",
      "source": [
        "# Features\n",
        "The data we will analyze are time series that are sampled at equally spaced intervals. The data contains the following features:\n",
        "\n",
        "*   volume - total number of shares that were traded during that time period.Traded means that the stocks were sold by someone and bought by someone else.\n",
        "*   open, high, low and close - give us information about how the stock price changed during the block of time:\n",
        "    - open: the price at the beginning of the period.\n",
        "    - high: the maximum price during that period.\n",
        "    - low: the minimum price during that period.\n",
        "    - close: the price at the end of the period.\n",
        "*   adjusted close - \n",
        "\n",
        "In the stock market a transaction to purchase a stock is more like an auction than a direct sale and they are performed via an order book through an event called an order. It is not a guranteed transaction. Any transaction requires someone willing to buy at a price at or above the requested price. The exchange collects the orders and matches them for execution. \n",
        "\n",
        "\n",
        "\n"
      ],
      "metadata": {
        "id": "YPq-vNjos0Af"
      }
    },
    {
      "cell_type": "markdown",
      "source": [
        "## Fetch & Analyze the Data\n",
        "We will use the data for a single company. I am choosing Tesla. This is data from 2018 - 2023."
      ],
      "metadata": {
        "id": "0AxXzm5uYiuU"
      }
    },
    {
      "cell_type": "code",
      "source": [
        "# Declare the variable that will hold the location of the data.\n",
        "data_dir = '/content/drive/MyDrive/Colab Notebooks/data'"
      ],
      "metadata": {
        "id": "cpwFfud-67nd"
      },
      "execution_count": 3,
      "outputs": []
    },
    {
      "cell_type": "code",
      "source": [
        "# Load the data for Tesla (stock symbol: TSLA)\n",
        "df = pd.read_csv(f\"{data_dir}/TSLA.csv\", parse_dates=True)"
      ],
      "metadata": {
        "id": "9ASLhLfN7QWG"
      },
      "execution_count": 4,
      "outputs": []
    },
    {
      "cell_type": "code",
      "source": [
        "# Inspect the shape of the data\n",
        "df.shape"
      ],
      "metadata": {
        "colab": {
          "base_uri": "https://localhost:8080/"
        },
        "id": "0Qr2CaUE8ckB",
        "outputId": "4659ec65-6dde-4ae0-9675-78ba3ab76a63"
      },
      "execution_count": 5,
      "outputs": [
        {
          "output_type": "execute_result",
          "data": {
            "text/plain": [
              "(1259, 7)"
            ]
          },
          "metadata": {},
          "execution_count": 5
        }
      ]
    },
    {
      "cell_type": "markdown",
      "source": [
        "We have 1259 instances to work with and the data has 7 attributes."
      ],
      "metadata": {
        "id": "8wTUIzkbEpcT"
      }
    },
    {
      "cell_type": "code",
      "source": [
        "df.dtypes"
      ],
      "metadata": {
        "colab": {
          "base_uri": "https://localhost:8080/"
        },
        "id": "gOpCWca2D1oD",
        "outputId": "f0458bf3-51b7-4c06-8274-51ecc240db3b"
      },
      "execution_count": 6,
      "outputs": [
        {
          "output_type": "execute_result",
          "data": {
            "text/plain": [
              "Date          object\n",
              "Open         float64\n",
              "High         float64\n",
              "Low          float64\n",
              "Close        float64\n",
              "Adj Close    float64\n",
              "Volume         int64\n",
              "dtype: object"
            ]
          },
          "metadata": {},
          "execution_count": 6
        }
      ]
    },
    {
      "cell_type": "markdown",
      "source": [
        "We can see that the majority of attributes are numeric, mostly real values (float). We have volume interpreted as int and the date as a date object."
      ],
      "metadata": {
        "id": "o8r38djEE1qm"
      }
    },
    {
      "cell_type": "code",
      "source": [
        "df.head()"
      ],
      "metadata": {
        "colab": {
          "base_uri": "https://localhost:8080/",
          "height": 206
        },
        "id": "5udEjU2GD1-D",
        "outputId": "3f0712af-bd7e-44e9-e751-1c3452a20760"
      },
      "execution_count": 7,
      "outputs": [
        {
          "output_type": "execute_result",
          "data": {
            "text/plain": [
              "         Date       Open       High        Low      Close  Adj Close    Volume\n",
              "0  2018-03-02  21.798668  22.348000  21.531334  22.341333  22.341333  76392000\n",
              "1  2018-03-05  22.159332  22.516666  21.952667  22.223333  22.223333  57357000\n",
              "2  2018-03-06  22.250000  22.424667  21.802000  21.879999  21.879999  64285500\n",
              "3  2018-03-07  21.695999  22.166668  21.449333  22.153334  22.153334  75109500\n",
              "4  2018-03-08  22.190666  22.219999  21.751333  21.940001  21.940001  53493000"
            ],
            "text/html": [
              "\n",
              "  <div id=\"df-e31ea4f2-f54d-4028-9c38-ca18667ad2a4\">\n",
              "    <div class=\"colab-df-container\">\n",
              "      <div>\n",
              "<style scoped>\n",
              "    .dataframe tbody tr th:only-of-type {\n",
              "        vertical-align: middle;\n",
              "    }\n",
              "\n",
              "    .dataframe tbody tr th {\n",
              "        vertical-align: top;\n",
              "    }\n",
              "\n",
              "    .dataframe thead th {\n",
              "        text-align: right;\n",
              "    }\n",
              "</style>\n",
              "<table border=\"1\" class=\"dataframe\">\n",
              "  <thead>\n",
              "    <tr style=\"text-align: right;\">\n",
              "      <th></th>\n",
              "      <th>Date</th>\n",
              "      <th>Open</th>\n",
              "      <th>High</th>\n",
              "      <th>Low</th>\n",
              "      <th>Close</th>\n",
              "      <th>Adj Close</th>\n",
              "      <th>Volume</th>\n",
              "    </tr>\n",
              "  </thead>\n",
              "  <tbody>\n",
              "    <tr>\n",
              "      <th>0</th>\n",
              "      <td>2018-03-02</td>\n",
              "      <td>21.798668</td>\n",
              "      <td>22.348000</td>\n",
              "      <td>21.531334</td>\n",
              "      <td>22.341333</td>\n",
              "      <td>22.341333</td>\n",
              "      <td>76392000</td>\n",
              "    </tr>\n",
              "    <tr>\n",
              "      <th>1</th>\n",
              "      <td>2018-03-05</td>\n",
              "      <td>22.159332</td>\n",
              "      <td>22.516666</td>\n",
              "      <td>21.952667</td>\n",
              "      <td>22.223333</td>\n",
              "      <td>22.223333</td>\n",
              "      <td>57357000</td>\n",
              "    </tr>\n",
              "    <tr>\n",
              "      <th>2</th>\n",
              "      <td>2018-03-06</td>\n",
              "      <td>22.250000</td>\n",
              "      <td>22.424667</td>\n",
              "      <td>21.802000</td>\n",
              "      <td>21.879999</td>\n",
              "      <td>21.879999</td>\n",
              "      <td>64285500</td>\n",
              "    </tr>\n",
              "    <tr>\n",
              "      <th>3</th>\n",
              "      <td>2018-03-07</td>\n",
              "      <td>21.695999</td>\n",
              "      <td>22.166668</td>\n",
              "      <td>21.449333</td>\n",
              "      <td>22.153334</td>\n",
              "      <td>22.153334</td>\n",
              "      <td>75109500</td>\n",
              "    </tr>\n",
              "    <tr>\n",
              "      <th>4</th>\n",
              "      <td>2018-03-08</td>\n",
              "      <td>22.190666</td>\n",
              "      <td>22.219999</td>\n",
              "      <td>21.751333</td>\n",
              "      <td>21.940001</td>\n",
              "      <td>21.940001</td>\n",
              "      <td>53493000</td>\n",
              "    </tr>\n",
              "  </tbody>\n",
              "</table>\n",
              "</div>\n",
              "      <button class=\"colab-df-convert\" onclick=\"convertToInteractive('df-e31ea4f2-f54d-4028-9c38-ca18667ad2a4')\"\n",
              "              title=\"Convert this dataframe to an interactive table.\"\n",
              "              style=\"display:none;\">\n",
              "        \n",
              "  <svg xmlns=\"http://www.w3.org/2000/svg\" height=\"24px\"viewBox=\"0 0 24 24\"\n",
              "       width=\"24px\">\n",
              "    <path d=\"M0 0h24v24H0V0z\" fill=\"none\"/>\n",
              "    <path d=\"M18.56 5.44l.94 2.06.94-2.06 2.06-.94-2.06-.94-.94-2.06-.94 2.06-2.06.94zm-11 1L8.5 8.5l.94-2.06 2.06-.94-2.06-.94L8.5 2.5l-.94 2.06-2.06.94zm10 10l.94 2.06.94-2.06 2.06-.94-2.06-.94-.94-2.06-.94 2.06-2.06.94z\"/><path d=\"M17.41 7.96l-1.37-1.37c-.4-.4-.92-.59-1.43-.59-.52 0-1.04.2-1.43.59L10.3 9.45l-7.72 7.72c-.78.78-.78 2.05 0 2.83L4 21.41c.39.39.9.59 1.41.59.51 0 1.02-.2 1.41-.59l7.78-7.78 2.81-2.81c.8-.78.8-2.07 0-2.86zM5.41 20L4 18.59l7.72-7.72 1.47 1.35L5.41 20z\"/>\n",
              "  </svg>\n",
              "      </button>\n",
              "      \n",
              "  <style>\n",
              "    .colab-df-container {\n",
              "      display:flex;\n",
              "      flex-wrap:wrap;\n",
              "      gap: 12px;\n",
              "    }\n",
              "\n",
              "    .colab-df-convert {\n",
              "      background-color: #E8F0FE;\n",
              "      border: none;\n",
              "      border-radius: 50%;\n",
              "      cursor: pointer;\n",
              "      display: none;\n",
              "      fill: #1967D2;\n",
              "      height: 32px;\n",
              "      padding: 0 0 0 0;\n",
              "      width: 32px;\n",
              "    }\n",
              "\n",
              "    .colab-df-convert:hover {\n",
              "      background-color: #E2EBFA;\n",
              "      box-shadow: 0px 1px 2px rgba(60, 64, 67, 0.3), 0px 1px 3px 1px rgba(60, 64, 67, 0.15);\n",
              "      fill: #174EA6;\n",
              "    }\n",
              "\n",
              "    [theme=dark] .colab-df-convert {\n",
              "      background-color: #3B4455;\n",
              "      fill: #D2E3FC;\n",
              "    }\n",
              "\n",
              "    [theme=dark] .colab-df-convert:hover {\n",
              "      background-color: #434B5C;\n",
              "      box-shadow: 0px 1px 3px 1px rgba(0, 0, 0, 0.15);\n",
              "      filter: drop-shadow(0px 1px 2px rgba(0, 0, 0, 0.3));\n",
              "      fill: #FFFFFF;\n",
              "    }\n",
              "  </style>\n",
              "\n",
              "      <script>\n",
              "        const buttonEl =\n",
              "          document.querySelector('#df-e31ea4f2-f54d-4028-9c38-ca18667ad2a4 button.colab-df-convert');\n",
              "        buttonEl.style.display =\n",
              "          google.colab.kernel.accessAllowed ? 'block' : 'none';\n",
              "\n",
              "        async function convertToInteractive(key) {\n",
              "          const element = document.querySelector('#df-e31ea4f2-f54d-4028-9c38-ca18667ad2a4');\n",
              "          const dataTable =\n",
              "            await google.colab.kernel.invokeFunction('convertToInteractive',\n",
              "                                                     [key], {});\n",
              "          if (!dataTable) return;\n",
              "\n",
              "          const docLinkHtml = 'Like what you see? Visit the ' +\n",
              "            '<a target=\"_blank\" href=https://colab.research.google.com/notebooks/data_table.ipynb>data table notebook</a>'\n",
              "            + ' to learn more about interactive tables.';\n",
              "          element.innerHTML = '';\n",
              "          dataTable['output_type'] = 'display_data';\n",
              "          await google.colab.output.renderOutput(dataTable, element);\n",
              "          const docLink = document.createElement('div');\n",
              "          docLink.innerHTML = docLinkHtml;\n",
              "          element.appendChild(docLink);\n",
              "        }\n",
              "      </script>\n",
              "    </div>\n",
              "  </div>\n",
              "  "
            ]
          },
          "metadata": {},
          "execution_count": 7
        }
      ]
    },
    {
      "cell_type": "code",
      "source": [
        "df.tail()"
      ],
      "metadata": {
        "colab": {
          "base_uri": "https://localhost:8080/",
          "height": 206
        },
        "id": "4El1PnrPbSjC",
        "outputId": "28db8c0b-989e-468b-d152-323b169484ba"
      },
      "execution_count": 8,
      "outputs": [
        {
          "output_type": "execute_result",
          "data": {
            "text/plain": [
              "            Date        Open        High         Low       Close   Adj Close  \\\n",
              "1254  2023-02-24  196.330002  197.669998  192.800003  196.880005  196.880005   \n",
              "1255  2023-02-27  202.029999  209.419998  201.259995  207.630005  207.630005   \n",
              "1256  2023-02-28  210.589996  211.229996  203.750000  205.710007  205.710007   \n",
              "1257  2023-03-01  206.210007  207.199997  198.520004  202.770004  202.770004   \n",
              "1258  2023-03-02  186.740005  193.750000  186.009995  190.899994  190.899994   \n",
              "\n",
              "         Volume  \n",
              "1254  142228100  \n",
              "1255  161028300  \n",
              "1256  153144900  \n",
              "1257  156852800  \n",
              "1258  181500700  "
            ],
            "text/html": [
              "\n",
              "  <div id=\"df-2fc74942-2681-4740-92b0-e30e3496b332\">\n",
              "    <div class=\"colab-df-container\">\n",
              "      <div>\n",
              "<style scoped>\n",
              "    .dataframe tbody tr th:only-of-type {\n",
              "        vertical-align: middle;\n",
              "    }\n",
              "\n",
              "    .dataframe tbody tr th {\n",
              "        vertical-align: top;\n",
              "    }\n",
              "\n",
              "    .dataframe thead th {\n",
              "        text-align: right;\n",
              "    }\n",
              "</style>\n",
              "<table border=\"1\" class=\"dataframe\">\n",
              "  <thead>\n",
              "    <tr style=\"text-align: right;\">\n",
              "      <th></th>\n",
              "      <th>Date</th>\n",
              "      <th>Open</th>\n",
              "      <th>High</th>\n",
              "      <th>Low</th>\n",
              "      <th>Close</th>\n",
              "      <th>Adj Close</th>\n",
              "      <th>Volume</th>\n",
              "    </tr>\n",
              "  </thead>\n",
              "  <tbody>\n",
              "    <tr>\n",
              "      <th>1254</th>\n",
              "      <td>2023-02-24</td>\n",
              "      <td>196.330002</td>\n",
              "      <td>197.669998</td>\n",
              "      <td>192.800003</td>\n",
              "      <td>196.880005</td>\n",
              "      <td>196.880005</td>\n",
              "      <td>142228100</td>\n",
              "    </tr>\n",
              "    <tr>\n",
              "      <th>1255</th>\n",
              "      <td>2023-02-27</td>\n",
              "      <td>202.029999</td>\n",
              "      <td>209.419998</td>\n",
              "      <td>201.259995</td>\n",
              "      <td>207.630005</td>\n",
              "      <td>207.630005</td>\n",
              "      <td>161028300</td>\n",
              "    </tr>\n",
              "    <tr>\n",
              "      <th>1256</th>\n",
              "      <td>2023-02-28</td>\n",
              "      <td>210.589996</td>\n",
              "      <td>211.229996</td>\n",
              "      <td>203.750000</td>\n",
              "      <td>205.710007</td>\n",
              "      <td>205.710007</td>\n",
              "      <td>153144900</td>\n",
              "    </tr>\n",
              "    <tr>\n",
              "      <th>1257</th>\n",
              "      <td>2023-03-01</td>\n",
              "      <td>206.210007</td>\n",
              "      <td>207.199997</td>\n",
              "      <td>198.520004</td>\n",
              "      <td>202.770004</td>\n",
              "      <td>202.770004</td>\n",
              "      <td>156852800</td>\n",
              "    </tr>\n",
              "    <tr>\n",
              "      <th>1258</th>\n",
              "      <td>2023-03-02</td>\n",
              "      <td>186.740005</td>\n",
              "      <td>193.750000</td>\n",
              "      <td>186.009995</td>\n",
              "      <td>190.899994</td>\n",
              "      <td>190.899994</td>\n",
              "      <td>181500700</td>\n",
              "    </tr>\n",
              "  </tbody>\n",
              "</table>\n",
              "</div>\n",
              "      <button class=\"colab-df-convert\" onclick=\"convertToInteractive('df-2fc74942-2681-4740-92b0-e30e3496b332')\"\n",
              "              title=\"Convert this dataframe to an interactive table.\"\n",
              "              style=\"display:none;\">\n",
              "        \n",
              "  <svg xmlns=\"http://www.w3.org/2000/svg\" height=\"24px\"viewBox=\"0 0 24 24\"\n",
              "       width=\"24px\">\n",
              "    <path d=\"M0 0h24v24H0V0z\" fill=\"none\"/>\n",
              "    <path d=\"M18.56 5.44l.94 2.06.94-2.06 2.06-.94-2.06-.94-.94-2.06-.94 2.06-2.06.94zm-11 1L8.5 8.5l.94-2.06 2.06-.94-2.06-.94L8.5 2.5l-.94 2.06-2.06.94zm10 10l.94 2.06.94-2.06 2.06-.94-2.06-.94-.94-2.06-.94 2.06-2.06.94z\"/><path d=\"M17.41 7.96l-1.37-1.37c-.4-.4-.92-.59-1.43-.59-.52 0-1.04.2-1.43.59L10.3 9.45l-7.72 7.72c-.78.78-.78 2.05 0 2.83L4 21.41c.39.39.9.59 1.41.59.51 0 1.02-.2 1.41-.59l7.78-7.78 2.81-2.81c.8-.78.8-2.07 0-2.86zM5.41 20L4 18.59l7.72-7.72 1.47 1.35L5.41 20z\"/>\n",
              "  </svg>\n",
              "      </button>\n",
              "      \n",
              "  <style>\n",
              "    .colab-df-container {\n",
              "      display:flex;\n",
              "      flex-wrap:wrap;\n",
              "      gap: 12px;\n",
              "    }\n",
              "\n",
              "    .colab-df-convert {\n",
              "      background-color: #E8F0FE;\n",
              "      border: none;\n",
              "      border-radius: 50%;\n",
              "      cursor: pointer;\n",
              "      display: none;\n",
              "      fill: #1967D2;\n",
              "      height: 32px;\n",
              "      padding: 0 0 0 0;\n",
              "      width: 32px;\n",
              "    }\n",
              "\n",
              "    .colab-df-convert:hover {\n",
              "      background-color: #E2EBFA;\n",
              "      box-shadow: 0px 1px 2px rgba(60, 64, 67, 0.3), 0px 1px 3px 1px rgba(60, 64, 67, 0.15);\n",
              "      fill: #174EA6;\n",
              "    }\n",
              "\n",
              "    [theme=dark] .colab-df-convert {\n",
              "      background-color: #3B4455;\n",
              "      fill: #D2E3FC;\n",
              "    }\n",
              "\n",
              "    [theme=dark] .colab-df-convert:hover {\n",
              "      background-color: #434B5C;\n",
              "      box-shadow: 0px 1px 3px 1px rgba(0, 0, 0, 0.15);\n",
              "      filter: drop-shadow(0px 1px 2px rgba(0, 0, 0, 0.3));\n",
              "      fill: #FFFFFF;\n",
              "    }\n",
              "  </style>\n",
              "\n",
              "      <script>\n",
              "        const buttonEl =\n",
              "          document.querySelector('#df-2fc74942-2681-4740-92b0-e30e3496b332 button.colab-df-convert');\n",
              "        buttonEl.style.display =\n",
              "          google.colab.kernel.accessAllowed ? 'block' : 'none';\n",
              "\n",
              "        async function convertToInteractive(key) {\n",
              "          const element = document.querySelector('#df-2fc74942-2681-4740-92b0-e30e3496b332');\n",
              "          const dataTable =\n",
              "            await google.colab.kernel.invokeFunction('convertToInteractive',\n",
              "                                                     [key], {});\n",
              "          if (!dataTable) return;\n",
              "\n",
              "          const docLinkHtml = 'Like what you see? Visit the ' +\n",
              "            '<a target=\"_blank\" href=https://colab.research.google.com/notebooks/data_table.ipynb>data table notebook</a>'\n",
              "            + ' to learn more about interactive tables.';\n",
              "          element.innerHTML = '';\n",
              "          dataTable['output_type'] = 'display_data';\n",
              "          await google.colab.output.renderOutput(dataTable, element);\n",
              "          const docLink = document.createElement('div');\n",
              "          docLink.innerHTML = docLinkHtml;\n",
              "          element.appendChild(docLink);\n",
              "        }\n",
              "      </script>\n",
              "    </div>\n",
              "  </div>\n",
              "  "
            ]
          },
          "metadata": {},
          "execution_count": 8
        }
      ]
    },
    {
      "cell_type": "markdown",
      "source": [
        "The open column is the price at the start of the trade day. The close/adj close is the price(s) at the end of the trade day - the adj close accounts for stock splits (as observed [on the analysis notebook](https://colab.research.google.com/drive/16DvzTrbjleZcIR70-Z6vzkXosIVRKewc?usp=sharing). The high and low columns represent the max and minimum prices, respectively at the end of the day. To train the model the numbers just need to be in the correct range (otherwise from the model's perspective they are just data).\n",
        "\n",
        "It is interesting tho see that the price of the stock hasn't really changed much in the past years for Netflix."
      ],
      "metadata": {
        "id": "VLJCXzZQbxlO"
      }
    },
    {
      "cell_type": "code",
      "source": [
        "# Summarizing the distribution of each attribute.\n",
        "df.describe()"
      ],
      "metadata": {
        "colab": {
          "base_uri": "https://localhost:8080/",
          "height": 300
        },
        "id": "N-X4GqRkD2TE",
        "outputId": "16bf85f5-fcc7-4966-a0d9-c31040e2f551"
      },
      "execution_count": 9,
      "outputs": [
        {
          "output_type": "execute_result",
          "data": {
            "text/plain": [
              "              Open         High          Low        Close    Adj Close  \\\n",
              "count  1259.000000  1259.000000  1259.000000  1259.000000  1259.000000   \n",
              "mean    136.588042   139.789737   133.084008   136.512472   136.512472   \n",
              "std     116.611607   119.254301   113.605229   116.438135   116.438135   \n",
              "min      12.073333    12.445333    11.799333    11.931333    11.931333   \n",
              "25%      21.088333    21.522334    20.659001    21.148001    21.148001   \n",
              "50%     118.959999   123.057335   115.599998   122.093330   122.093330   \n",
              "75%     235.556671   239.885003   231.284996   236.125000   236.125000   \n",
              "max     411.470001   414.496674   405.666656   409.970001   409.970001   \n",
              "\n",
              "             Volume  \n",
              "count  1.259000e+03  \n",
              "mean   1.358102e+08  \n",
              "std    9.041441e+07  \n",
              "min    2.940180e+07  \n",
              "25%    7.692690e+07  \n",
              "50%    1.049724e+08  \n",
              "75%    1.667970e+08  \n",
              "max    9.140820e+08  "
            ],
            "text/html": [
              "\n",
              "  <div id=\"df-82299d88-57ae-4482-97cd-b75ac8346919\">\n",
              "    <div class=\"colab-df-container\">\n",
              "      <div>\n",
              "<style scoped>\n",
              "    .dataframe tbody tr th:only-of-type {\n",
              "        vertical-align: middle;\n",
              "    }\n",
              "\n",
              "    .dataframe tbody tr th {\n",
              "        vertical-align: top;\n",
              "    }\n",
              "\n",
              "    .dataframe thead th {\n",
              "        text-align: right;\n",
              "    }\n",
              "</style>\n",
              "<table border=\"1\" class=\"dataframe\">\n",
              "  <thead>\n",
              "    <tr style=\"text-align: right;\">\n",
              "      <th></th>\n",
              "      <th>Open</th>\n",
              "      <th>High</th>\n",
              "      <th>Low</th>\n",
              "      <th>Close</th>\n",
              "      <th>Adj Close</th>\n",
              "      <th>Volume</th>\n",
              "    </tr>\n",
              "  </thead>\n",
              "  <tbody>\n",
              "    <tr>\n",
              "      <th>count</th>\n",
              "      <td>1259.000000</td>\n",
              "      <td>1259.000000</td>\n",
              "      <td>1259.000000</td>\n",
              "      <td>1259.000000</td>\n",
              "      <td>1259.000000</td>\n",
              "      <td>1.259000e+03</td>\n",
              "    </tr>\n",
              "    <tr>\n",
              "      <th>mean</th>\n",
              "      <td>136.588042</td>\n",
              "      <td>139.789737</td>\n",
              "      <td>133.084008</td>\n",
              "      <td>136.512472</td>\n",
              "      <td>136.512472</td>\n",
              "      <td>1.358102e+08</td>\n",
              "    </tr>\n",
              "    <tr>\n",
              "      <th>std</th>\n",
              "      <td>116.611607</td>\n",
              "      <td>119.254301</td>\n",
              "      <td>113.605229</td>\n",
              "      <td>116.438135</td>\n",
              "      <td>116.438135</td>\n",
              "      <td>9.041441e+07</td>\n",
              "    </tr>\n",
              "    <tr>\n",
              "      <th>min</th>\n",
              "      <td>12.073333</td>\n",
              "      <td>12.445333</td>\n",
              "      <td>11.799333</td>\n",
              "      <td>11.931333</td>\n",
              "      <td>11.931333</td>\n",
              "      <td>2.940180e+07</td>\n",
              "    </tr>\n",
              "    <tr>\n",
              "      <th>25%</th>\n",
              "      <td>21.088333</td>\n",
              "      <td>21.522334</td>\n",
              "      <td>20.659001</td>\n",
              "      <td>21.148001</td>\n",
              "      <td>21.148001</td>\n",
              "      <td>7.692690e+07</td>\n",
              "    </tr>\n",
              "    <tr>\n",
              "      <th>50%</th>\n",
              "      <td>118.959999</td>\n",
              "      <td>123.057335</td>\n",
              "      <td>115.599998</td>\n",
              "      <td>122.093330</td>\n",
              "      <td>122.093330</td>\n",
              "      <td>1.049724e+08</td>\n",
              "    </tr>\n",
              "    <tr>\n",
              "      <th>75%</th>\n",
              "      <td>235.556671</td>\n",
              "      <td>239.885003</td>\n",
              "      <td>231.284996</td>\n",
              "      <td>236.125000</td>\n",
              "      <td>236.125000</td>\n",
              "      <td>1.667970e+08</td>\n",
              "    </tr>\n",
              "    <tr>\n",
              "      <th>max</th>\n",
              "      <td>411.470001</td>\n",
              "      <td>414.496674</td>\n",
              "      <td>405.666656</td>\n",
              "      <td>409.970001</td>\n",
              "      <td>409.970001</td>\n",
              "      <td>9.140820e+08</td>\n",
              "    </tr>\n",
              "  </tbody>\n",
              "</table>\n",
              "</div>\n",
              "      <button class=\"colab-df-convert\" onclick=\"convertToInteractive('df-82299d88-57ae-4482-97cd-b75ac8346919')\"\n",
              "              title=\"Convert this dataframe to an interactive table.\"\n",
              "              style=\"display:none;\">\n",
              "        \n",
              "  <svg xmlns=\"http://www.w3.org/2000/svg\" height=\"24px\"viewBox=\"0 0 24 24\"\n",
              "       width=\"24px\">\n",
              "    <path d=\"M0 0h24v24H0V0z\" fill=\"none\"/>\n",
              "    <path d=\"M18.56 5.44l.94 2.06.94-2.06 2.06-.94-2.06-.94-.94-2.06-.94 2.06-2.06.94zm-11 1L8.5 8.5l.94-2.06 2.06-.94-2.06-.94L8.5 2.5l-.94 2.06-2.06.94zm10 10l.94 2.06.94-2.06 2.06-.94-2.06-.94-.94-2.06-.94 2.06-2.06.94z\"/><path d=\"M17.41 7.96l-1.37-1.37c-.4-.4-.92-.59-1.43-.59-.52 0-1.04.2-1.43.59L10.3 9.45l-7.72 7.72c-.78.78-.78 2.05 0 2.83L4 21.41c.39.39.9.59 1.41.59.51 0 1.02-.2 1.41-.59l7.78-7.78 2.81-2.81c.8-.78.8-2.07 0-2.86zM5.41 20L4 18.59l7.72-7.72 1.47 1.35L5.41 20z\"/>\n",
              "  </svg>\n",
              "      </button>\n",
              "      \n",
              "  <style>\n",
              "    .colab-df-container {\n",
              "      display:flex;\n",
              "      flex-wrap:wrap;\n",
              "      gap: 12px;\n",
              "    }\n",
              "\n",
              "    .colab-df-convert {\n",
              "      background-color: #E8F0FE;\n",
              "      border: none;\n",
              "      border-radius: 50%;\n",
              "      cursor: pointer;\n",
              "      display: none;\n",
              "      fill: #1967D2;\n",
              "      height: 32px;\n",
              "      padding: 0 0 0 0;\n",
              "      width: 32px;\n",
              "    }\n",
              "\n",
              "    .colab-df-convert:hover {\n",
              "      background-color: #E2EBFA;\n",
              "      box-shadow: 0px 1px 2px rgba(60, 64, 67, 0.3), 0px 1px 3px 1px rgba(60, 64, 67, 0.15);\n",
              "      fill: #174EA6;\n",
              "    }\n",
              "\n",
              "    [theme=dark] .colab-df-convert {\n",
              "      background-color: #3B4455;\n",
              "      fill: #D2E3FC;\n",
              "    }\n",
              "\n",
              "    [theme=dark] .colab-df-convert:hover {\n",
              "      background-color: #434B5C;\n",
              "      box-shadow: 0px 1px 3px 1px rgba(0, 0, 0, 0.15);\n",
              "      filter: drop-shadow(0px 1px 2px rgba(0, 0, 0, 0.3));\n",
              "      fill: #FFFFFF;\n",
              "    }\n",
              "  </style>\n",
              "\n",
              "      <script>\n",
              "        const buttonEl =\n",
              "          document.querySelector('#df-82299d88-57ae-4482-97cd-b75ac8346919 button.colab-df-convert');\n",
              "        buttonEl.style.display =\n",
              "          google.colab.kernel.accessAllowed ? 'block' : 'none';\n",
              "\n",
              "        async function convertToInteractive(key) {\n",
              "          const element = document.querySelector('#df-82299d88-57ae-4482-97cd-b75ac8346919');\n",
              "          const dataTable =\n",
              "            await google.colab.kernel.invokeFunction('convertToInteractive',\n",
              "                                                     [key], {});\n",
              "          if (!dataTable) return;\n",
              "\n",
              "          const docLinkHtml = 'Like what you see? Visit the ' +\n",
              "            '<a target=\"_blank\" href=https://colab.research.google.com/notebooks/data_table.ipynb>data table notebook</a>'\n",
              "            + ' to learn more about interactive tables.';\n",
              "          element.innerHTML = '';\n",
              "          dataTable['output_type'] = 'display_data';\n",
              "          await google.colab.output.renderOutput(dataTable, element);\n",
              "          const docLink = document.createElement('div');\n",
              "          docLink.innerHTML = docLinkHtml;\n",
              "          element.appendChild(docLink);\n",
              "        }\n",
              "      </script>\n",
              "    </div>\n",
              "  </div>\n",
              "  "
            ]
          },
          "metadata": {},
          "execution_count": 9
        }
      ]
    },
    {
      "cell_type": "code",
      "source": [
        "# Correlation betwwen attributes\n",
        "df.corr(method='pearson')"
      ],
      "metadata": {
        "colab": {
          "base_uri": "https://localhost:8080/",
          "height": 293
        },
        "id": "bp7Ji4-9D2q0",
        "outputId": "d9bf7481-e93a-430b-bd1e-15eb2dc1ea36"
      },
      "execution_count": 10,
      "outputs": [
        {
          "output_type": "stream",
          "name": "stderr",
          "text": [
            "<ipython-input-10-94f5db7dceb7>:2: FutureWarning: The default value of numeric_only in DataFrame.corr is deprecated. In a future version, it will default to False. Select only valid columns or specify the value of numeric_only to silence this warning.\n",
            "  df.corr(method='pearson')\n"
          ]
        },
        {
          "output_type": "execute_result",
          "data": {
            "text/plain": [
              "               Open      High       Low     Close  Adj Close    Volume\n",
              "Open       1.000000  0.999523  0.999316  0.998614   0.998614 -0.377229\n",
              "High       0.999523  1.000000  0.999333  0.999373   0.999373 -0.370923\n",
              "Low        0.999316  0.999333  1.000000  0.999441   0.999441 -0.383473\n",
              "Close      0.998614  0.999373  0.999441  1.000000   1.000000 -0.375789\n",
              "Adj Close  0.998614  0.999373  0.999441  1.000000   1.000000 -0.375789\n",
              "Volume    -0.377229 -0.370923 -0.383473 -0.375789  -0.375789  1.000000"
            ],
            "text/html": [
              "\n",
              "  <div id=\"df-da7f8468-ea34-4c25-ae76-def3f69248f9\">\n",
              "    <div class=\"colab-df-container\">\n",
              "      <div>\n",
              "<style scoped>\n",
              "    .dataframe tbody tr th:only-of-type {\n",
              "        vertical-align: middle;\n",
              "    }\n",
              "\n",
              "    .dataframe tbody tr th {\n",
              "        vertical-align: top;\n",
              "    }\n",
              "\n",
              "    .dataframe thead th {\n",
              "        text-align: right;\n",
              "    }\n",
              "</style>\n",
              "<table border=\"1\" class=\"dataframe\">\n",
              "  <thead>\n",
              "    <tr style=\"text-align: right;\">\n",
              "      <th></th>\n",
              "      <th>Open</th>\n",
              "      <th>High</th>\n",
              "      <th>Low</th>\n",
              "      <th>Close</th>\n",
              "      <th>Adj Close</th>\n",
              "      <th>Volume</th>\n",
              "    </tr>\n",
              "  </thead>\n",
              "  <tbody>\n",
              "    <tr>\n",
              "      <th>Open</th>\n",
              "      <td>1.000000</td>\n",
              "      <td>0.999523</td>\n",
              "      <td>0.999316</td>\n",
              "      <td>0.998614</td>\n",
              "      <td>0.998614</td>\n",
              "      <td>-0.377229</td>\n",
              "    </tr>\n",
              "    <tr>\n",
              "      <th>High</th>\n",
              "      <td>0.999523</td>\n",
              "      <td>1.000000</td>\n",
              "      <td>0.999333</td>\n",
              "      <td>0.999373</td>\n",
              "      <td>0.999373</td>\n",
              "      <td>-0.370923</td>\n",
              "    </tr>\n",
              "    <tr>\n",
              "      <th>Low</th>\n",
              "      <td>0.999316</td>\n",
              "      <td>0.999333</td>\n",
              "      <td>1.000000</td>\n",
              "      <td>0.999441</td>\n",
              "      <td>0.999441</td>\n",
              "      <td>-0.383473</td>\n",
              "    </tr>\n",
              "    <tr>\n",
              "      <th>Close</th>\n",
              "      <td>0.998614</td>\n",
              "      <td>0.999373</td>\n",
              "      <td>0.999441</td>\n",
              "      <td>1.000000</td>\n",
              "      <td>1.000000</td>\n",
              "      <td>-0.375789</td>\n",
              "    </tr>\n",
              "    <tr>\n",
              "      <th>Adj Close</th>\n",
              "      <td>0.998614</td>\n",
              "      <td>0.999373</td>\n",
              "      <td>0.999441</td>\n",
              "      <td>1.000000</td>\n",
              "      <td>1.000000</td>\n",
              "      <td>-0.375789</td>\n",
              "    </tr>\n",
              "    <tr>\n",
              "      <th>Volume</th>\n",
              "      <td>-0.377229</td>\n",
              "      <td>-0.370923</td>\n",
              "      <td>-0.383473</td>\n",
              "      <td>-0.375789</td>\n",
              "      <td>-0.375789</td>\n",
              "      <td>1.000000</td>\n",
              "    </tr>\n",
              "  </tbody>\n",
              "</table>\n",
              "</div>\n",
              "      <button class=\"colab-df-convert\" onclick=\"convertToInteractive('df-da7f8468-ea34-4c25-ae76-def3f69248f9')\"\n",
              "              title=\"Convert this dataframe to an interactive table.\"\n",
              "              style=\"display:none;\">\n",
              "        \n",
              "  <svg xmlns=\"http://www.w3.org/2000/svg\" height=\"24px\"viewBox=\"0 0 24 24\"\n",
              "       width=\"24px\">\n",
              "    <path d=\"M0 0h24v24H0V0z\" fill=\"none\"/>\n",
              "    <path d=\"M18.56 5.44l.94 2.06.94-2.06 2.06-.94-2.06-.94-.94-2.06-.94 2.06-2.06.94zm-11 1L8.5 8.5l.94-2.06 2.06-.94-2.06-.94L8.5 2.5l-.94 2.06-2.06.94zm10 10l.94 2.06.94-2.06 2.06-.94-2.06-.94-.94-2.06-.94 2.06-2.06.94z\"/><path d=\"M17.41 7.96l-1.37-1.37c-.4-.4-.92-.59-1.43-.59-.52 0-1.04.2-1.43.59L10.3 9.45l-7.72 7.72c-.78.78-.78 2.05 0 2.83L4 21.41c.39.39.9.59 1.41.59.51 0 1.02-.2 1.41-.59l7.78-7.78 2.81-2.81c.8-.78.8-2.07 0-2.86zM5.41 20L4 18.59l7.72-7.72 1.47 1.35L5.41 20z\"/>\n",
              "  </svg>\n",
              "      </button>\n",
              "      \n",
              "  <style>\n",
              "    .colab-df-container {\n",
              "      display:flex;\n",
              "      flex-wrap:wrap;\n",
              "      gap: 12px;\n",
              "    }\n",
              "\n",
              "    .colab-df-convert {\n",
              "      background-color: #E8F0FE;\n",
              "      border: none;\n",
              "      border-radius: 50%;\n",
              "      cursor: pointer;\n",
              "      display: none;\n",
              "      fill: #1967D2;\n",
              "      height: 32px;\n",
              "      padding: 0 0 0 0;\n",
              "      width: 32px;\n",
              "    }\n",
              "\n",
              "    .colab-df-convert:hover {\n",
              "      background-color: #E2EBFA;\n",
              "      box-shadow: 0px 1px 2px rgba(60, 64, 67, 0.3), 0px 1px 3px 1px rgba(60, 64, 67, 0.15);\n",
              "      fill: #174EA6;\n",
              "    }\n",
              "\n",
              "    [theme=dark] .colab-df-convert {\n",
              "      background-color: #3B4455;\n",
              "      fill: #D2E3FC;\n",
              "    }\n",
              "\n",
              "    [theme=dark] .colab-df-convert:hover {\n",
              "      background-color: #434B5C;\n",
              "      box-shadow: 0px 1px 3px 1px rgba(0, 0, 0, 0.15);\n",
              "      filter: drop-shadow(0px 1px 2px rgba(0, 0, 0, 0.3));\n",
              "      fill: #FFFFFF;\n",
              "    }\n",
              "  </style>\n",
              "\n",
              "      <script>\n",
              "        const buttonEl =\n",
              "          document.querySelector('#df-da7f8468-ea34-4c25-ae76-def3f69248f9 button.colab-df-convert');\n",
              "        buttonEl.style.display =\n",
              "          google.colab.kernel.accessAllowed ? 'block' : 'none';\n",
              "\n",
              "        async function convertToInteractive(key) {\n",
              "          const element = document.querySelector('#df-da7f8468-ea34-4c25-ae76-def3f69248f9');\n",
              "          const dataTable =\n",
              "            await google.colab.kernel.invokeFunction('convertToInteractive',\n",
              "                                                     [key], {});\n",
              "          if (!dataTable) return;\n",
              "\n",
              "          const docLinkHtml = 'Like what you see? Visit the ' +\n",
              "            '<a target=\"_blank\" href=https://colab.research.google.com/notebooks/data_table.ipynb>data table notebook</a>'\n",
              "            + ' to learn more about interactive tables.';\n",
              "          element.innerHTML = '';\n",
              "          dataTable['output_type'] = 'display_data';\n",
              "          await google.colab.output.renderOutput(dataTable, element);\n",
              "          const docLink = document.createElement('div');\n",
              "          docLink.innerHTML = docLinkHtml;\n",
              "          element.appendChild(docLink);\n",
              "        }\n",
              "      </script>\n",
              "    </div>\n",
              "  </div>\n",
              "  "
            ]
          },
          "metadata": {},
          "execution_count": 10
        }
      ]
    },
    {
      "cell_type": "markdown",
      "source": [
        "The majority of attributes have a strong correlation (very close to 1). Volume on the other hand has a lower negative correlation with all the other attributes."
      ],
      "metadata": {
        "id": "0alB6QFYGRBZ"
      }
    },
    {
      "cell_type": "markdown",
      "source": [
        "# Modeling"
      ],
      "metadata": {
        "id": "DEOWy4AQ5uH5"
      }
    },
    {
      "cell_type": "markdown",
      "source": [
        "## Baseline Model\n",
        "(A.K.A Persistence or Naive Model)\n",
        "This is the model we will use to compare the results of the other models to. We will forecast the next value. "
      ],
      "metadata": {
        "id": "T-2LgaeF52Z4"
      }
    },
    {
      "cell_type": "code",
      "source": [
        "# Let's get our single value time series and for this model and prediction we will focus on the closing price (since the adjusted closed prikce is the same).\n",
        "closing_price_series = df['Close'].values.reshape(-1,1)"
      ],
      "metadata": {
        "id": "e4Nce55UD2-g"
      },
      "execution_count": 11,
      "outputs": []
    },
    {
      "cell_type": "markdown",
      "source": [
        "### Fit, transform and flatten the baseline model."
      ],
      "metadata": {
        "id": "qbUdxa_anhn_"
      }
    },
    {
      "cell_type": "code",
      "source": [
        "# The previous value was reshaped to the Nx1 matrix and so now we use it to normalize the output (with an approximated boundary).\n",
        "scaler_model = StandardScaler()\n",
        "\n",
        "# Train the model on the second half of the data.\n",
        "# This excludes the test data. Diving by half is an approximation - mean variance won't change much.\n",
        "scaler_model.fit(closing_price_series[:len(closing_price_series)//2]) \n",
        "\n",
        "# Flannen the series to get a vector.\n",
        "closing_price_series = scaler_model.transform(closing_price_series).flatten() # Transform is applied to the entire dataset."
      ],
      "metadata": {
        "id": "KupMRCe0D3lE"
      },
      "execution_count": 12,
      "outputs": []
    },
    {
      "cell_type": "code",
      "source": [
        "# Let's visualize this data\n",
        "plt.plot(closing_price_series);"
      ],
      "metadata": {
        "id": "mSFg8wr35i0l",
        "colab": {
          "base_uri": "https://localhost:8080/",
          "height": 430
        },
        "outputId": "79b06be3-22a3-4016-c353-b2acb64d9986"
      },
      "execution_count": 13,
      "outputs": [
        {
          "output_type": "display_data",
          "data": {
            "text/plain": [
              "<Figure size 640x480 with 1 Axes>"
            ],
            "image/png": "[encoded data removed]"
          },
          "metadata": {}
        }
      ]
    },
    {
      "cell_type": "markdown",
      "source": [
        "### Create the dataset\n",
        "Using the T past values to predict the next value."
      ],
      "metadata": {
        "id": "6A295WvfnxU4"
      }
    },
    {
      "cell_type": "markdown",
      "source": [
        "#### Helper utils\n",
        "* create_dataset\n",
        "* BaselineModel Class: \n",
        "Class will be called with train and test datasets generated on this section. \n"
      ],
      "metadata": {
        "id": "NLFxMtFtz1s-"
      }
    },
    {
      "cell_type": "code",
      "source": [
        "def create_dataset(series, model_type=\"baseline\"):\n",
        "  \"\"\"\n",
        "  Creates the dataset needed with the correct shape for either the baseline\n",
        "  model or a RNN.\n",
        "  \"\"\"\n",
        "\n",
        "  # We will be converting time series into a supervised learning dataset.\n",
        "  X = []\n",
        "  Y = []\n",
        "  T = 10  # Past values\n",
        "\n",
        "  # Let's generate predictions, excluding the last value of the close price series.\n",
        "  for t in range(len(series) - T):\n",
        "    x = series[t:t+T]\n",
        "    y = series[t+T]\n",
        "    X.append(x) # previous\n",
        "    Y.append(y) # prediction (next value)\n",
        "\n",
        "  # Now we convert the values to numpy arrays.\n",
        "  if (model_type != \"baseline\"):\n",
        "        X = np.array(X).reshape(-1, T, 1)\n",
        "  else:\n",
        "    X = np.array(X).reshape(-1,T)\n",
        "  \n",
        "  Y = np.array(Y)\n",
        "\n",
        "  return X, Y\n"
      ],
      "metadata": {
        "id": "Oe_dN2dQnehE"
      },
      "execution_count": 14,
      "outputs": []
    },
    {
      "cell_type": "code",
      "source": [
        "# The BaselineModel is then simple. The data (X) is of size NxT, where N=len(X) and T is the past values.\n",
        "# Each row is a sample and each column is a sequence of values of the time series input.\n",
        "# All we have to do is retrieve the last value\n",
        "class BaselineModel:\n",
        "  def predict(self, X):\n",
        "    # Return the last value for each sequence passed in as an argument.\n",
        "    print(X[:, -1]) \n",
        "    return X[:, -1]\n"
      ],
      "metadata": {
        "id": "WSYf8cp5Z45c"
      },
      "execution_count": 15,
      "outputs": []
    },
    {
      "cell_type": "code",
      "source": [
        "X, Y = create_dataset(closing_price_series)\n",
        "print(f'Shape of X: {X.shape}\\nShape of Y: {Y.shape}')"
      ],
      "metadata": {
        "colab": {
          "base_uri": "https://localhost:8080/"
        },
        "id": "OQEKM6asl9aD",
        "outputId": "b2190768-c0de-4701-f277-d5e2df69ba4f"
      },
      "execution_count": 16,
      "outputs": [
        {
          "output_type": "stream",
          "name": "stdout",
          "text": [
            "Shape of X: (1249, 10)\n",
            "Shape of Y: (1249,)\n"
          ]
        }
      ]
    },
    {
      "cell_type": "markdown",
      "source": [
        "### Split into train and test data"
      ],
      "metadata": {
        "id": "Ip25wENPyF_s"
      }
    },
    {
      "cell_type": "code",
      "source": [
        "N = len(X)  # Stores the total size of the input\n",
        "\n",
        "# train_test_split selects values at random, which would generate values that \n",
        "# are dispersed. Not good for our time series data. \n",
        "# Remember we can only predict using values from the past. \n",
        "Xtrain, Ytrain = X[:-N//2], Y[:-N//2] # Second half \n",
        "Xtest, Ytest = X[-N//2:], Y[-N//2:]   # First half"
      ],
      "metadata": {
        "id": "QyXqQCGfx3SH"
      },
      "execution_count": 17,
      "outputs": []
    },
    {
      "cell_type": "markdown",
      "source": [
        "### Get the predictions"
      ],
      "metadata": {
        "id": "2ix7WkdOzpW2"
      }
    },
    {
      "cell_type": "code",
      "source": [
        "# Instantiate the model\n",
        "baseline_model = BaselineModel()\n",
        "\n",
        "# Generate the predicted data\n",
        "Ptrain = baseline_model.predict(Xtrain)\n",
        "Ptest = baseline_model.predict(Xtest)"
      ],
      "metadata": {
        "id": "ELyrEYfuZ5Ur",
        "colab": {
          "base_uri": "https://localhost:8080/"
        },
        "outputId": "17eeb1fc-8b74-40ff-ffa1-180f7f5c0741"
      },
      "execution_count": 18,
      "outputs": [
        {
          "output_type": "stream",
          "name": "stdout",
          "text": [
            "[-0.37824629 -0.38986014 -0.41114751 -0.41937277 -0.40303152 -0.42333509\n",
            " -0.44399396 -0.43677976 -0.50509614 -0.56357497 -0.54075724 -0.57805798\n",
            " -0.53693158 -0.48389075 -0.43257153 -0.45011514 -0.4764579  -0.43535876\n",
            " -0.4456609  -0.4643796  -0.44727315 -0.4722223  -0.48184126 -0.46637441\n",
            " -0.44798367 -0.47487299 -0.49364633 -0.49340039 -0.50096982 -0.48788041\n",
            " -0.4643796  -0.46487151 -0.44842086 -0.44505966 -0.49069506 -0.46435221\n",
            " -0.44063276 -0.44281899 -0.42948357 -0.43448433 -0.44530564 -0.47014551\n",
            " -0.49143288 -0.48514775 -0.49044908 -0.51154523 -0.49058574 -0.51649131\n",
            " -0.50539668 -0.50873058 -0.50599792 -0.49258055 -0.47082865 -0.4899299\n",
            " -0.47055541 -0.45711071 -0.4724409  -0.39491554 -0.40423388 -0.39994355\n",
            " -0.36048409 -0.33132659 -0.32583404 -0.29047343 -0.28924374 -0.25464833\n",
            " -0.30460131 -0.27817644 -0.31837381 -0.35630304 -0.35799736 -0.3334308\n",
            " -0.32659911 -0.3117608  -0.33083476 -0.3523681  -0.41852559 -0.42317118\n",
            " -0.42388169 -0.39762087 -0.38679955 -0.39639113 -0.4025396  -0.39663711\n",
            " -0.42060251 -0.38619831 -0.38302845 -0.39292065 -0.41109283 -0.43945778\n",
            " -0.45522518 -0.42431889 -0.43003013 -0.45590835 -0.47506425 -0.45328504\n",
            " -0.44590684 -0.31282649 -0.31657034 -0.33345806 -0.23076491 -0.25598734\n",
            " -0.30487447 -0.29656726 -0.29405315 -0.31801855 -0.34247591 -0.35132967\n",
            " -0.43317265 -0.4251386  -0.38835717 -0.3890676  -0.3932759  -0.38584306\n",
            " -0.39554403 -0.41579297 -0.43451167 -0.43959444 -0.44366609 -0.47839816\n",
            " -0.5008332  -0.50025934 -0.54865463 -0.48782577 -0.50438566 -0.47405319\n",
            " -0.47700446 -0.46131901 -0.46230276 -0.48930137 -0.45088021 -0.45276583\n",
            " -0.45066161 -0.44907674 -0.44549694 -0.42202346 -0.42765272 -0.54447371\n",
            " -0.41896287 -0.44541492 -0.46241204 -0.49785455 -0.5521798  -0.58330472\n",
            " -0.54985703 -0.56603431 -0.57874124 -0.56084226 -0.55862885 -0.51217373\n",
            " -0.52531773 -0.54682378 -0.55750851 -0.55491242 -0.46421564 -0.47962777\n",
            " -0.407595   -0.36376327 -0.35296922 -0.36649586 -0.34621955 -0.32720031\n",
            " -0.32137976 -0.33507036 -0.33599947 -0.3165976  -0.30774384 -0.31017593\n",
            " -0.36272484 -0.3423665  -0.32796551 -0.31583244 -0.29979177 -0.3020872\n",
            " -0.31842849 -0.34384218 -0.37761779 -0.32250009 -0.32818411 -0.31739005\n",
            " -0.33569885 -0.31025782 -0.28836934 -0.28506277 -0.27588105 -0.28979021\n",
            " -0.27016986 -0.26577026 -0.26620741 -0.23836172 -0.2686395  -0.31588708\n",
            " -0.34701209 -0.35810664 -0.40617405 -0.39417764 -0.46079979 -0.37690736\n",
            " -0.40412456 -0.35564729 -0.35857122 -0.42054779 -0.44721851 -0.39986162\n",
            " -0.35266864 -0.3516029  -0.3429131  -0.32531482 -0.31905699 -0.35419895\n",
            " -0.32679041 -0.32236351 -0.31892041 -0.44202645 -0.45115357 -0.4821145\n",
            " -0.47140251 -0.45629087 -0.45809446 -0.4551432  -0.42423687 -0.42901903\n",
            " -0.41483659 -0.41297836 -0.38986014 -0.40114591 -0.42767997 -0.43235285\n",
            " -0.41311494 -0.41592963 -0.4258765  -0.43790017 -0.42666896 -0.43279013\n",
            " -0.44120661 -0.47216766 -0.46265802 -0.45156347 -0.4540502  -0.40792288\n",
            " -0.3938771  -0.46243942 -0.48820833 -0.51231031 -0.51313014 -0.51217373\n",
            " -0.49154216 -0.47301476 -0.49367363 -0.47837078 -0.47563811 -0.51534359\n",
            " -0.53157556 -0.53709554 -0.52034435 -0.51919664 -0.54512959 -0.55636072\n",
            " -0.5362757  -0.51698315 -0.50662641 -0.50323795 -0.47776958 -0.48678738\n",
            " -0.47058271 -0.53624845 -0.51662793 -0.52143743 -0.52386952 -0.51362206\n",
            " -0.53449949 -0.53646704 -0.54007411 -0.52100015 -0.5268207  -0.52127347\n",
            " -0.54999369 -0.54685116 -0.56117026 -0.59131138 -0.62544226 -0.60814455\n",
            " -0.61574132 -0.62853014 -0.60095768 -0.57108971 -0.57024262 -0.592869\n",
            " -0.59893553 -0.6067509  -0.61347323 -0.64765874 -0.63317568 -0.63415944\n",
            " -0.64405164 -0.69132655 -0.7068207  -0.70758586 -0.74133413 -0.73379201\n",
            " -0.74707271 -0.75234675 -0.74917688 -0.75365842 -0.76202034 -0.77893549\n",
            " -0.73895672 -0.7307861  -0.70520845 -0.70917081 -0.68627115 -0.67473936\n",
            " -0.69616335 -0.68345651 -0.68069654 -0.6530694  -0.65386185 -0.64924369\n",
            " -0.66785307 -0.6617319  -0.6568678  -0.66747047 -0.66880949 -0.65905391\n",
            " -0.65735968 -0.6472215  -0.65438107 -0.62609809 -0.63101687 -0.638559\n",
            " -0.63932416 -0.61511282 -0.61598726 -0.59827965 -0.57527071 -0.5783313\n",
            " -0.57155429 -0.57516144 -0.56248189 -0.5693135  -0.55704389 -0.54417309\n",
            " -0.64271262 -0.64484409 -0.62372068 -0.60598574 -0.60776204 -0.62896738\n",
            " -0.62762837 -0.64407898 -0.63743863 -0.63014244 -0.61680705 -0.62579752\n",
            " -0.64219344 -0.62582482 -0.66785307 -0.67872903 -0.6669786  -0.64815062\n",
            " -0.65080131 -0.66454655 -0.66093944 -0.6903155  -0.68047794 -0.68299197\n",
            " -0.67886565 -0.6621418  -0.65148444 -0.65312404 -0.66495645 -0.64063583\n",
            " -0.64645639 -0.63459664 -0.62434918 -0.59275972 -0.59612088 -0.59795178\n",
            " -0.60448285 -0.59907219 -0.60262453 -0.59412599 -0.61046736 -0.60880035\n",
            " -0.65804282 -0.64304054 -0.6051659  -0.606341   -0.6097841  -0.59934535\n",
            " -0.60360829 -0.63120817 -0.63558039 -0.61839201 -0.61202498 -0.59978263\n",
            " -0.59920877 -0.59060095 -0.56581572 -0.56327435 -0.55819157 -0.55212516\n",
            " -0.5658431  -0.57527071 -0.56958674 -0.57204621 -0.44907674 -0.37133266\n",
            " -0.37248037 -0.40387862 -0.40718506 -0.40743104 -0.41183064 -0.40046277\n",
            " -0.40114591 -0.37556834 -0.35108373 -0.34671147 -0.32498682 -0.3117608\n",
            " -0.32219959 -0.31334571 -0.30563962 -0.31159688 -0.28555465 -0.30550305\n",
            " -0.29837082 -0.35791534 -0.34889758 -0.36917393 -0.3626975  -0.36638658\n",
            " -0.35291458 -0.34928013 -0.35794268 -0.36521148 -0.35012723 -0.34018048\n",
            " -0.31473936 -0.30419141 -0.28511745 -0.2886425  -0.22549095 -0.23234982\n",
            " -0.19365551 -0.16389682 -0.15966126 -0.12241516 -0.10593725 -0.09038842\n",
            " -0.09191877 -0.13476674 -0.12484725 -0.09224665 -0.0574053  -0.03409574\n",
            "  0.01378033  0.07685006  0.04733734  0.0386202   0.16626243  0.20195091\n",
            "  0.14888278  0.13519218  0.12702156  0.22731     0.28841226  0.29562639\n",
            "  0.2754594   0.25687728  0.28114321  0.31964638  0.48311392  0.50978456\n",
            "  0.86347205  1.15603006  0.73968278  0.7786505   0.77621841  0.83964331\n",
            "  0.84811447  0.82874006  0.92905568  0.91820719  1.07771212  1.23899338\n",
            "  1.18977837  1.19412325  1.01046151  0.91787915  0.86019278  0.58747388\n",
            "  0.55738731  0.76405816  0.76922284  0.78012609  0.71191898  0.65436927\n",
            "  0.3934554   0.49546538  0.46513299  0.26379091  0.22572509 -0.05177605\n",
            " -0.09241061 -0.28090915 -0.09940622 -0.09970676 -0.08123404  0.11199203\n",
            "  0.20558544  0.17528027  0.13756968  0.10414928  0.16391244  0.04793854\n",
            " -0.02608908  0.04370298  0.14270701  0.22252793  0.23179155  0.29781254\n",
            "  0.51082296  0.67188562  0.72637478  0.76840304  0.7921225   0.77154548\n",
            "  0.60857003  0.73260528  0.66024451  0.71358596  0.91470932  0.83374073\n",
            "  0.91951874  0.86860938  0.6484667   0.81207073  0.83125409  0.87052234\n",
            "  0.86358132  0.97119322  0.94897677  0.94383944  0.89342196  0.92722483\n",
            "  0.91585704  0.95537127  0.94001365  0.96064527  0.99354636  0.96425241\n",
            "  0.96969024  0.97340671  0.93400196  1.01376812  1.18619857  1.14100052\n",
            "  1.1448261   1.0940534   1.15220431  1.32780471  1.30252772  1.53310925\n",
            "  1.39043732  1.28779873  1.43978886  1.41582359  1.44222091  1.47547731\n",
            "  1.46711559  1.44913471  1.46952018  1.35767256  1.42634437  1.3546394\n",
            "  1.49020647  1.68274935  1.79156352  2.03485181  2.480056    2.5300089\n",
            "  2.46447999  2.54208737  2.95299665  2.82294955  2.87689224  2.95671278\n",
            "  2.8327323   2.83327894  3.22175314  3.01778787  3.08328956  2.86669918\n",
            "  2.60417318  2.9391966   2.76673898  2.82855142  2.796798    2.64177462\n",
            "  2.78999369  2.79545891  2.79004841  2.80250936  2.70175638  2.6084635\n",
            "  2.4877347   2.98062362  3.16163472  3.24282191  3.74817174  3.88876687\n",
            "  3.86537545  4.20231187  4.33388883  4.23611458  4.26109087  4.61587147\n",
            "  4.84973226  4.78045938  5.54068433  5.22273989  4.84454037  4.29295406]\n",
            "[ 4.44762219  3.24375102  3.73658518  3.80572145  3.82457672  4.46538451\n",
            "  4.87719536  4.76788895  4.51744113  4.77321783  4.8721398   4.52837222\n",
            "  3.92896423  4.03048246  4.29759931  4.48697209  4.45786964  4.5936822\n",
            "  4.85533446  4.40348947  4.5481835   4.38832344  4.54299161  4.55146277\n",
            "  4.66186246  4.77526744  4.83470256  5.03486947  4.86517161  4.73933318\n",
            "  4.6185497   4.49708317  4.50664765  4.54968647  4.47918455  4.47440231\n",
            "  4.53452044  4.27956367  4.345284    4.03389805  4.20427889  4.5238633\n",
            "  4.48396614  4.71774499  4.60652595  4.48779205  4.33886246  4.43136288\n",
            "  4.35799072  4.31344897  4.30784677  4.76583999  5.38109698  5.55366441\n",
            "  5.42167715  5.86218075  6.3203103   6.57472039  6.73540042  6.48727554\n",
            "  6.72173736  6.50394515  6.83951493  6.91684871  7.50054398  7.6114897\n",
            "  6.99117715  7.29983047  7.06646193  7.47417416  7.38426938  7.24107833\n",
            "  7.69374266  8.227977    7.61121638  7.48114239  7.55820281  7.77394601\n",
            "  7.8001795   7.8316055   8.22497105  8.37376369  8.70304887  8.77601071\n",
            "  9.06116318  9.88177958 10.75595558  9.81551261 10.33813284 10.40603978\n",
            " 10.27746745 10.02005145 10.27131927 10.35193288 10.27733112 10.29987503\n",
            " 10.76661335 10.79790235 10.5392567  10.14670984  9.57421958 10.20655588\n",
            " 10.65716999 10.40986503 10.34564709 10.37625309 10.52914558 10.33840554\n",
            "  9.72847806  9.82193481  9.8828729   9.6109738   9.63734301  9.49018967\n",
            "  9.40711674  8.49441084  8.28044393  8.87042376  8.05335994  7.96154315\n",
            "  8.54810738  8.11101938  7.65685207  7.22290635  6.901956    6.42442482\n",
            "  7.93530966  7.85988794  8.29082771  8.21062436  8.40477938  7.9803981\n",
            "  8.32102344  7.65630543  7.6796693   7.88639471  7.7792749   7.34355288\n",
            "  7.48182537  7.18560549  7.08422421  7.41665171  7.85811165  7.77367269\n",
            "  8.17400709  8.18179462  7.89964811  8.07494813  7.98231138  8.32334638\n",
            "  9.14778869  8.7366602   8.82711162  8.83981838  8.49618713  8.55575859\n",
            "  8.89911651  8.56532303  8.69799331  8.81823019  8.36105693  8.21977854\n",
            "  7.98203806  8.42527429  8.08997783  7.93558298  7.89923842  7.79812989\n",
            "  7.91877703  7.32674693  7.1649742   6.79183024  6.54315868  6.78978063\n",
            "  6.6133879   6.62759763  6.43070999  6.74933745  6.66872379  7.01795724\n",
            "  6.99404673  7.19134402  7.35147802  7.27455332  7.25651772  6.99992163\n",
            "  6.55887139  6.91698566  7.00005862  6.97901707  6.91329674  7.06823822\n",
            "  7.06509529  7.17166907  6.92122126  6.99650603  7.15677636  7.24845682\n",
            "  7.21457156  7.25392208  7.70289745  8.02056858  7.91194518  8.14217144\n",
            "  8.03341167  8.01892866  7.99460784  8.00799819  7.74402365  7.54003083\n",
            "  7.65152323  7.70808935  8.1009083   7.86644644  7.65931138  7.6213275\n",
            "  7.53415592  7.56148208  7.75659404  7.68540788  7.60301854  7.52267886\n",
            "  7.71724352  7.54180712  7.57186652  7.98682026  8.12140321  8.42841719\n",
            "  8.42937352  8.44549588  8.49618713  8.28399647  8.48429972  8.43278912\n",
            "  8.40314003  8.600301    8.53089174  8.10732985  7.82777959  8.14586036\n",
            "  7.93380669  8.02657982  8.3823718   8.41229421  8.44932179  8.31214259\n",
            "  8.45915955  8.71862521  8.7843455   8.76207434  8.7388468   8.75496916\n",
            "  9.01935339  9.03233343  9.04586016  8.79186037  8.88381415  8.90417207\n",
            "  9.05911356  9.07496322  9.10912119  8.70851409  8.83435317  9.00596362\n",
            "  9.02919116  9.31270431  9.5445705   9.35601707  9.40725435  9.32759764\n",
            "  9.32404505  9.41026029  9.39741593  9.42692864  9.57531286  9.46436592\n",
            "  9.55249502  9.74077451  9.81400902  9.91293226 10.25055165 10.62055333\n",
            " 10.54075902 10.56166424 10.94696832 11.16120794 12.73494416 12.64708899\n",
            " 12.91256716 13.44789412 13.95288905 15.24529807 14.74535808 15.31730296\n",
            " 15.53659876 15.42975227 14.62156926 12.71636188 13.323695   13.26302961\n",
            " 12.85190177 12.57822638 13.14306609 13.6114431  13.71214136 14.26796327\n",
            " 14.53863271 13.88498212 13.98021517 13.5145714  14.26700759 14.37317106\n",
            " 13.69328641 13.55118802 12.59981461 12.51838161 13.10235024 13.33749504\n",
            " 12.44719606 12.62796134 11.93632564 11.82838583 12.06721963 11.39676308\n",
            " 11.47396049 11.02812862 11.55539349 12.51646898 13.3107143  13.67880335\n",
            " 13.60406526 13.57291258 13.35635003 13.17107648 15.12492424 14.43916406\n",
            " 13.59928302 13.27928896 12.76363753 13.18938479 13.27518973 13.84658794\n",
            " 12.82648829 13.07311019 12.81214156 12.33584003 12.3443112  11.6287656\n",
            " 11.43884619 11.28035211 11.54009109 10.06022193 10.2959134  11.53066298\n",
            " 11.45592484 11.10628174 10.90789112 11.34757603 11.12923592 11.32954043\n",
            " 11.4661723  11.09111571 10.48241656 10.69775073 11.33541468 11.34853171\n",
            " 10.70581163 10.44115408  9.95679042  9.17128893  9.67314155  9.797477\n",
            " 10.62492526 10.54212504 10.75417929 10.1994507  10.18578703  9.72519817\n",
            "  9.99600395 10.46834386 10.18592337  9.59908643  9.20312458  9.68844391\n",
            " 10.2122938  10.64091064 11.10259278 11.31806332 12.31302219 12.38311569\n",
            " 12.58546793 12.54065281 13.65010999 13.75572809 13.67948637 13.45554593\n",
            " 13.55105169 14.38259917 13.64218546 13.02050693 13.17763498 12.7435517\n",
            " 12.06640028 12.2169698  12.70092318 12.1903267  12.45389093 12.77989688\n",
            " 12.08375287 12.51523933 12.46427476 12.36822236 10.70676858 10.77631416\n",
            " 10.72166063 10.62943353 11.06911844 11.15533369 11.74790981 10.66386486\n",
            " 10.55961401  9.48650075  9.6631668   8.76084468  8.67886504  9.24712035\n",
            "  8.62926707  9.13808726  8.43032985  8.42500097  7.80304908  7.95334469\n",
            "  7.3147238   7.7333665   8.40191042  9.11103447  9.09231519  8.84787923\n",
            "  9.32103914  8.34479762  8.49905609  8.52392355  8.64607306  8.55753488\n",
            "  8.25106755  7.5750088   7.78624308  8.28262987  7.46693266  7.61695495\n",
            "  8.44809214  8.40915193  8.36747909  8.80347381  8.77122847  8.26882983\n",
            "  8.09776598  7.9331231   8.04748504  8.2853625   8.23070958  8.75578912\n",
            "  9.01074586  8.33769306  8.28549945  8.44822847  8.50042269  8.57229126\n",
            "  8.59196617  8.7962323   8.8769823   9.86920919  9.89120769  9.73503532\n",
            "  9.34262606  9.99682453 10.24604211 10.91212672 10.91731923 11.05299546\n",
            " 11.33213603 11.38282667 10.5440389  10.63640237 10.3457847  10.79762842\n",
            " 10.48091425 11.03017762 11.41097339 11.29797745 11.19277092 11.14658855\n",
            " 10.89231479 10.61549715 10.88357096 10.90994139 10.86785825 10.54075902\n",
            " 10.40672275 10.11487542 10.02920558 10.09274059  9.80786079  9.98042884\n",
            " 10.36081435 10.58871768 11.01583093 11.21012351 10.70635827 11.13593078\n",
            " 11.1826598  11.16626411 11.40072594 11.38678956 11.06173933 10.56125393\n",
            " 10.01772852 10.04560254 10.32966168 10.52928195  9.72588115  9.60455164\n",
            "  8.66793396  8.95650263  8.6027603   8.49290787  7.87560122  7.87109234\n",
            "  7.60629781  7.63663048  7.82026472  7.13450516  7.72311905  7.75755033\n",
            "  7.83338113  7.2283716   7.52185885  7.39110124  7.84895747  7.93995492\n",
            "  7.95840022  8.09899563  8.05882516  8.07030288  7.54399311  7.55751984\n",
            "  7.23615975  6.81027554  6.57335441  6.01138366  6.54958023  6.7647768\n",
            "  6.55900772  6.70124245  6.39381878  6.24010695  6.11795744  5.61296255\n",
            "  5.69658215  6.2413366   6.22740023  6.22985949  6.14419093  6.71271956\n",
            "  6.71271956  6.71927809  6.21059424  6.10279141  5.86586967  5.84127614\n",
            "  6.07122909  5.61091355  5.32931306  5.15920554  5.19486648  4.88990212\n",
            "  4.87514574  4.38039892  4.37097142  3.87007543  3.77989798  3.20399081\n",
            "  3.35196411  3.72538144  3.78112759  3.16300099  3.39008465  3.25481811\n",
            "  3.36631051  3.64135218  3.60364158  3.78276723  3.79670364  3.74915561\n",
            "  4.12175322  4.01067056  3.9446769   4.20086329  4.62428824  4.63002677\n",
            "  4.65216103  5.30144026  6.02409042  5.56336523  5.83225834  6.16796511\n",
            "  6.44915529  6.51924756  6.71517887  6.79920812  6.98284232  7.23001152\n",
            "  6.80248735  6.71026025  7.30912159  7.51366101  7.01358469  7.27059108\n",
            "  6.8221623   6.96521703  7.01481496  6.8020777   7.24271829  7.16401791\n",
            "  7.04350771]\n"
          ]
        }
      ]
    },
    {
      "cell_type": "markdown",
      "source": [
        "### Calculate the MAE"
      ],
      "metadata": {
        "id": "MR8rIvmN02hu"
      }
    },
    {
      "cell_type": "code",
      "source": [
        "# Our data was scaled with the StandardScaler, we need to inverse_transform to calculate the MAE correctly. We convert the data back to the correct range.\n",
        "Ytrain2 = scaler_model.inverse_transform(Ytrain.reshape(-1,1)).flatten()\n",
        "Ytest2 = scaler_model.inverse_transform(Ytest.reshape(-1,1)).flatten()\n",
        "Ptrain2 = scaler_model.inverse_transform(Ptrain.reshape(-1,1)).flatten()\n",
        "Ptest2 = scaler_model.inverse_transform(Ptest.reshape(-1, 1)).flatten()"
      ],
      "metadata": {
        "id": "LOQJHTZhZ6a6"
      },
      "execution_count": 19,
      "outputs": []
    },
    {
      "cell_type": "code",
      "source": [
        "# Now we can calculate the MAE regression loss\n",
        "print(f'Baseline Model:')\n",
        "print(\"Train MAE:\", mae(Ytrain2, Ptrain2))\n",
        "print(\"Test MAE:\", mae(Ytest2, Ptest2))"
      ],
      "metadata": {
        "id": "HWtI5e8KpPVf",
        "colab": {
          "base_uri": "https://localhost:8080/"
        },
        "outputId": "5f5f12bb-9edd-4d53-8ec0-f601f02a36b1"
      },
      "execution_count": 20,
      "outputs": [
        {
          "output_type": "stream",
          "name": "stdout",
          "text": [
            "Baseline Model:\n",
            "Train MAE: 1.0834358573717946\n",
            "Test MAE: 7.107424646399999\n"
          ]
        }
      ]
    },
    {
      "cell_type": "markdown",
      "source": [
        "Interestingly enough the model didn't do as well on the train data but it did worse on the test. "
      ],
      "metadata": {
        "id": "Wd7sRXWFaY5n"
      }
    },
    {
      "cell_type": "code",
      "source": [
        "# Let's visualize the \"one-step\" forecast here.\n",
        "plt.plot(Ytest, label='Target');\n",
        "plt.plot(Ptest, label='Prediction');\n",
        "plt.legend();\n",
        "plt.title(\"One-step forecast\");"
      ],
      "metadata": {
        "colab": {
          "base_uri": "https://localhost:8080/",
          "height": 452
        },
        "id": "NzhkS4GmaX_l",
        "outputId": "500cd442-7e4d-4d4c-ed8d-41dc68efc97e"
      },
      "execution_count": 21,
      "outputs": [
        {
          "output_type": "display_data",
          "data": {
            "text/plain": [
              "<Figure size 640x480 with 1 Axes>"
            ],
            "image/png": "[encoded data removed]"
          },
          "metadata": {}
        }
      ]
    },
    {
      "cell_type": "markdown",
      "source": [
        "The results look very accurate (almost as if the model was overfitted) but that is because this model hasn't learned the patterns on the data, it just added the last value. We can zoom-in a bit more to see that this is the case for all the trends.  Really not a good model for prediction.\n"
      ],
      "metadata": {
        "id": "OJs62fXFbNBI"
      }
    },
    {
      "cell_type": "code",
      "source": [
        "plt.plot(Ytest[0:100], label='Target');\n",
        "plt.plot(Ptest[0:100], label='Prediction');\n",
        "plt.legend();\n",
        "plt.title(\"One-step forecast a closer look (misleading)\");"
      ],
      "metadata": {
        "colab": {
          "base_uri": "https://localhost:8080/",
          "height": 452
        },
        "id": "3Ix6-cRo5PbJ",
        "outputId": "12f0fa34-af57-4a5c-9343-64e8fb0e71ac"
      },
      "execution_count": 22,
      "outputs": [
        {
          "output_type": "display_data",
          "data": {
            "text/plain": [
              "<Figure size 640x480 with 1 Axes>"
            ],
            "image/png": "[encoded data removed]"
          },
          "metadata": {}
        }
      ]
    },
    {
      "cell_type": "code",
      "source": [
        "# Let's try a different approach, selecting a slice from the ndarray and using \n",
        "# the baselinemodel to predict the next value. This example illustrates that the\n",
        "# baseline model is not predicting it's just adding the last value of the input\n",
        "# series as the next prediction.\n",
        "prediction = []\n",
        "input_value = Xtest[0] \n",
        "\n",
        "# Look back 10 values.\n",
        "T = 10\n",
        "\n",
        "while len(prediction) < len(Ytest):\n",
        "  # It is the exact same value, over and over.\n",
        "  p = baseline_model.predict(input_value.reshape(1, T))[0]\n",
        "  prediction.append(p)\n",
        "\n",
        "  # Update the input value with the latest prediction\n",
        "  input_value = np.roll(input_value,-1) # Roll value one cell to the left.\n",
        "  input_value[-1] = p"
      ],
      "metadata": {
        "id": "5qYShgjD5P2y",
        "colab": {
          "base_uri": "https://localhost:8080/"
        },
        "outputId": "1e5a8544-1e9b-4573-b5a5-f81abe740f6f"
      },
      "execution_count": 23,
      "outputs": [
        {
          "output_type": "stream",
          "name": "stdout",
          "text": [
            "[4.44762219]\n",
            "[4.44762219]\n",
            "[4.44762219]\n",
            "[4.44762219]\n",
            "[4.44762219]\n",
            "[4.44762219]\n",
            "[4.44762219]\n",
            "[4.44762219]\n",
            "[4.44762219]\n",
            "[4.44762219]\n",
            "[4.44762219]\n",
            "[4.44762219]\n",
            "[4.44762219]\n",
            "[4.44762219]\n",
            "[4.44762219]\n",
            "[4.44762219]\n",
            "[4.44762219]\n",
            "[4.44762219]\n",
            "[4.44762219]\n",
            "[4.44762219]\n",
            "[4.44762219]\n",
            "[4.44762219]\n",
            "[4.44762219]\n",
            "[4.44762219]\n",
            "[4.44762219]\n",
            "[4.44762219]\n",
            "[4.44762219]\n",
            "[4.44762219]\n",
            "[4.44762219]\n",
            "[4.44762219]\n",
            "[4.44762219]\n",
            "[4.44762219]\n",
            "[4.44762219]\n",
            "[4.44762219]\n",
            "[4.44762219]\n",
            "[4.44762219]\n",
            "[4.44762219]\n",
            "[4.44762219]\n",
            "[4.44762219]\n",
            "[4.44762219]\n",
            "[4.44762219]\n",
            "[4.44762219]\n",
            "[4.44762219]\n",
            "[4.44762219]\n",
            "[4.44762219]\n",
            "[4.44762219]\n",
            "[4.44762219]\n",
            "[4.44762219]\n",
            "[4.44762219]\n",
            "[4.44762219]\n",
            "[4.44762219]\n",
            "[4.44762219]\n",
            "[4.44762219]\n",
            "[4.44762219]\n",
            "[4.44762219]\n",
            "[4.44762219]\n",
            "[4.44762219]\n",
            "[4.44762219]\n",
            "[4.44762219]\n",
            "[4.44762219]\n",
            "[4.44762219]\n",
            "[4.44762219]\n",
            "[4.44762219]\n",
            "[4.44762219]\n",
            "[4.44762219]\n",
            "[4.44762219]\n",
            "[4.44762219]\n",
            "[4.44762219]\n",
            "[4.44762219]\n",
            "[4.44762219]\n",
            "[4.44762219]\n",
            "[4.44762219]\n",
            "[4.44762219]\n",
            "[4.44762219]\n",
            "[4.44762219]\n",
            "[4.44762219]\n",
            "[4.44762219]\n",
            "[4.44762219]\n",
            "[4.44762219]\n",
            "[4.44762219]\n",
            "[4.44762219]\n",
            "[4.44762219]\n",
            "[4.44762219]\n",
            "[4.44762219]\n",
            "[4.44762219]\n",
            "[4.44762219]\n",
            "[4.44762219]\n",
            "[4.44762219]\n",
            "[4.44762219]\n",
            "[4.44762219]\n",
            "[4.44762219]\n",
            "[4.44762219]\n",
            "[4.44762219]\n",
            "[4.44762219]\n",
            "[4.44762219]\n",
            "[4.44762219]\n",
            "[4.44762219]\n",
            "[4.44762219]\n",
            "[4.44762219]\n",
            "[4.44762219]\n",
            "[4.44762219]\n",
            "[4.44762219]\n",
            "[4.44762219]\n",
            "[4.44762219]\n",
            "[4.44762219]\n",
            "[4.44762219]\n",
            "[4.44762219]\n",
            "[4.44762219]\n",
            "[4.44762219]\n",
            "[4.44762219]\n",
            "[4.44762219]\n",
            "[4.44762219]\n",
            "[4.44762219]\n",
            "[4.44762219]\n",
            "[4.44762219]\n",
            "[4.44762219]\n",
            "[4.44762219]\n",
            "[4.44762219]\n",
            "[4.44762219]\n",
            "[4.44762219]\n",
            "[4.44762219]\n",
            "[4.44762219]\n",
            "[4.44762219]\n",
            "[4.44762219]\n",
            "[4.44762219]\n",
            "[4.44762219]\n",
            "[4.44762219]\n",
            "[4.44762219]\n",
            "[4.44762219]\n",
            "[4.44762219]\n",
            "[4.44762219]\n",
            "[4.44762219]\n",
            "[4.44762219]\n",
            "[4.44762219]\n",
            "[4.44762219]\n",
            "[4.44762219]\n",
            "[4.44762219]\n",
            "[4.44762219]\n",
            "[4.44762219]\n",
            "[4.44762219]\n",
            "[4.44762219]\n",
            "[4.44762219]\n",
            "[4.44762219]\n",
            "[4.44762219]\n",
            "[4.44762219]\n",
            "[4.44762219]\n",
            "[4.44762219]\n",
            "[4.44762219]\n",
            "[4.44762219]\n",
            "[4.44762219]\n",
            "[4.44762219]\n",
            "[4.44762219]\n",
            "[4.44762219]\n",
            "[4.44762219]\n",
            "[4.44762219]\n",
            "[4.44762219]\n",
            "[4.44762219]\n",
            "[4.44762219]\n",
            "[4.44762219]\n",
            "[4.44762219]\n",
            "[4.44762219]\n",
            "[4.44762219]\n",
            "[4.44762219]\n",
            "[4.44762219]\n",
            "[4.44762219]\n",
            "[4.44762219]\n",
            "[4.44762219]\n",
            "[4.44762219]\n",
            "[4.44762219]\n",
            "[4.44762219]\n",
            "[4.44762219]\n",
            "[4.44762219]\n",
            "[4.44762219]\n",
            "[4.44762219]\n",
            "[4.44762219]\n",
            "[4.44762219]\n",
            "[4.44762219]\n",
            "[4.44762219]\n",
            "[4.44762219]\n",
            "[4.44762219]\n",
            "[4.44762219]\n",
            "[4.44762219]\n",
            "[4.44762219]\n",
            "[4.44762219]\n",
            "[4.44762219]\n",
            "[4.44762219]\n",
            "[4.44762219]\n",
            "[4.44762219]\n",
            "[4.44762219]\n",
            "[4.44762219]\n",
            "[4.44762219]\n",
            "[4.44762219]\n",
            "[4.44762219]\n",
            "[4.44762219]\n",
            "[4.44762219]\n",
            "[4.44762219]\n",
            "[4.44762219]\n",
            "[4.44762219]\n",
            "[4.44762219]\n",
            "[4.44762219]\n",
            "[4.44762219]\n",
            "[4.44762219]\n",
            "[4.44762219]\n",
            "[4.44762219]\n",
            "[4.44762219]\n",
            "[4.44762219]\n",
            "[4.44762219]\n",
            "[4.44762219]\n",
            "[4.44762219]\n",
            "[4.44762219]\n",
            "[4.44762219]\n",
            "[4.44762219]\n",
            "[4.44762219]\n",
            "[4.44762219]\n",
            "[4.44762219]\n",
            "[4.44762219]\n",
            "[4.44762219]\n",
            "[4.44762219]\n",
            "[4.44762219]\n",
            "[4.44762219]\n",
            "[4.44762219]\n",
            "[4.44762219]\n",
            "[4.44762219]\n",
            "[4.44762219]\n",
            "[4.44762219]\n",
            "[4.44762219]\n",
            "[4.44762219]\n",
            "[4.44762219]\n",
            "[4.44762219]\n",
            "[4.44762219]\n",
            "[4.44762219]\n",
            "[4.44762219]\n",
            "[4.44762219]\n",
            "[4.44762219]\n",
            "[4.44762219]\n",
            "[4.44762219]\n",
            "[4.44762219]\n",
            "[4.44762219]\n",
            "[4.44762219]\n",
            "[4.44762219]\n",
            "[4.44762219]\n",
            "[4.44762219]\n",
            "[4.44762219]\n",
            "[4.44762219]\n",
            "[4.44762219]\n",
            "[4.44762219]\n",
            "[4.44762219]\n",
            "[4.44762219]\n",
            "[4.44762219]\n",
            "[4.44762219]\n",
            "[4.44762219]\n",
            "[4.44762219]\n",
            "[4.44762219]\n",
            "[4.44762219]\n",
            "[4.44762219]\n",
            "[4.44762219]\n",
            "[4.44762219]\n",
            "[4.44762219]\n",
            "[4.44762219]\n",
            "[4.44762219]\n",
            "[4.44762219]\n",
            "[4.44762219]\n",
            "[4.44762219]\n",
            "[4.44762219]\n",
            "[4.44762219]\n",
            "[4.44762219]\n",
            "[4.44762219]\n",
            "[4.44762219]\n",
            "[4.44762219]\n",
            "[4.44762219]\n",
            "[4.44762219]\n",
            "[4.44762219]\n",
            "[4.44762219]\n",
            "[4.44762219]\n",
            "[4.44762219]\n",
            "[4.44762219]\n",
            "[4.44762219]\n",
            "[4.44762219]\n",
            "[4.44762219]\n",
            "[4.44762219]\n",
            "[4.44762219]\n",
            "[4.44762219]\n",
            "[4.44762219]\n",
            "[4.44762219]\n",
            "[4.44762219]\n",
            "[4.44762219]\n",
            "[4.44762219]\n",
            "[4.44762219]\n",
            "[4.44762219]\n",
            "[4.44762219]\n",
            "[4.44762219]\n",
            "[4.44762219]\n",
            "[4.44762219]\n",
            "[4.44762219]\n",
            "[4.44762219]\n",
            "[4.44762219]\n",
            "[4.44762219]\n",
            "[4.44762219]\n",
            "[4.44762219]\n",
            "[4.44762219]\n",
            "[4.44762219]\n",
            "[4.44762219]\n",
            "[4.44762219]\n",
            "[4.44762219]\n",
            "[4.44762219]\n",
            "[4.44762219]\n",
            "[4.44762219]\n",
            "[4.44762219]\n",
            "[4.44762219]\n",
            "[4.44762219]\n",
            "[4.44762219]\n",
            "[4.44762219]\n",
            "[4.44762219]\n",
            "[4.44762219]\n",
            "[4.44762219]\n",
            "[4.44762219]\n",
            "[4.44762219]\n",
            "[4.44762219]\n",
            "[4.44762219]\n",
            "[4.44762219]\n",
            "[4.44762219]\n",
            "[4.44762219]\n",
            "[4.44762219]\n",
            "[4.44762219]\n",
            "[4.44762219]\n",
            "[4.44762219]\n",
            "[4.44762219]\n",
            "[4.44762219]\n",
            "[4.44762219]\n",
            "[4.44762219]\n",
            "[4.44762219]\n",
            "[4.44762219]\n",
            "[4.44762219]\n",
            "[4.44762219]\n",
            "[4.44762219]\n",
            "[4.44762219]\n",
            "[4.44762219]\n",
            "[4.44762219]\n",
            "[4.44762219]\n",
            "[4.44762219]\n",
            "[4.44762219]\n",
            "[4.44762219]\n",
            "[4.44762219]\n",
            "[4.44762219]\n",
            "[4.44762219]\n",
            "[4.44762219]\n",
            "[4.44762219]\n",
            "[4.44762219]\n",
            "[4.44762219]\n",
            "[4.44762219]\n",
            "[4.44762219]\n",
            "[4.44762219]\n",
            "[4.44762219]\n",
            "[4.44762219]\n",
            "[4.44762219]\n",
            "[4.44762219]\n",
            "[4.44762219]\n",
            "[4.44762219]\n",
            "[4.44762219]\n",
            "[4.44762219]\n",
            "[4.44762219]\n",
            "[4.44762219]\n",
            "[4.44762219]\n",
            "[4.44762219]\n",
            "[4.44762219]\n",
            "[4.44762219]\n",
            "[4.44762219]\n",
            "[4.44762219]\n",
            "[4.44762219]\n",
            "[4.44762219]\n",
            "[4.44762219]\n",
            "[4.44762219]\n",
            "[4.44762219]\n",
            "[4.44762219]\n",
            "[4.44762219]\n",
            "[4.44762219]\n",
            "[4.44762219]\n",
            "[4.44762219]\n",
            "[4.44762219]\n",
            "[4.44762219]\n",
            "[4.44762219]\n",
            "[4.44762219]\n",
            "[4.44762219]\n",
            "[4.44762219]\n",
            "[4.44762219]\n",
            "[4.44762219]\n",
            "[4.44762219]\n",
            "[4.44762219]\n",
            "[4.44762219]\n",
            "[4.44762219]\n",
            "[4.44762219]\n",
            "[4.44762219]\n",
            "[4.44762219]\n",
            "[4.44762219]\n",
            "[4.44762219]\n",
            "[4.44762219]\n",
            "[4.44762219]\n",
            "[4.44762219]\n",
            "[4.44762219]\n",
            "[4.44762219]\n",
            "[4.44762219]\n",
            "[4.44762219]\n",
            "[4.44762219]\n",
            "[4.44762219]\n",
            "[4.44762219]\n",
            "[4.44762219]\n",
            "[4.44762219]\n",
            "[4.44762219]\n",
            "[4.44762219]\n",
            "[4.44762219]\n",
            "[4.44762219]\n",
            "[4.44762219]\n",
            "[4.44762219]\n",
            "[4.44762219]\n",
            "[4.44762219]\n",
            "[4.44762219]\n",
            "[4.44762219]\n",
            "[4.44762219]\n",
            "[4.44762219]\n",
            "[4.44762219]\n",
            "[4.44762219]\n",
            "[4.44762219]\n",
            "[4.44762219]\n",
            "[4.44762219]\n",
            "[4.44762219]\n",
            "[4.44762219]\n",
            "[4.44762219]\n",
            "[4.44762219]\n",
            "[4.44762219]\n",
            "[4.44762219]\n",
            "[4.44762219]\n",
            "[4.44762219]\n",
            "[4.44762219]\n",
            "[4.44762219]\n",
            "[4.44762219]\n",
            "[4.44762219]\n",
            "[4.44762219]\n",
            "[4.44762219]\n",
            "[4.44762219]\n",
            "[4.44762219]\n",
            "[4.44762219]\n",
            "[4.44762219]\n",
            "[4.44762219]\n",
            "[4.44762219]\n",
            "[4.44762219]\n",
            "[4.44762219]\n",
            "[4.44762219]\n",
            "[4.44762219]\n",
            "[4.44762219]\n",
            "[4.44762219]\n",
            "[4.44762219]\n",
            "[4.44762219]\n",
            "[4.44762219]\n",
            "[4.44762219]\n",
            "[4.44762219]\n",
            "[4.44762219]\n",
            "[4.44762219]\n",
            "[4.44762219]\n",
            "[4.44762219]\n",
            "[4.44762219]\n",
            "[4.44762219]\n",
            "[4.44762219]\n",
            "[4.44762219]\n",
            "[4.44762219]\n",
            "[4.44762219]\n",
            "[4.44762219]\n",
            "[4.44762219]\n",
            "[4.44762219]\n",
            "[4.44762219]\n",
            "[4.44762219]\n",
            "[4.44762219]\n",
            "[4.44762219]\n",
            "[4.44762219]\n",
            "[4.44762219]\n",
            "[4.44762219]\n",
            "[4.44762219]\n",
            "[4.44762219]\n",
            "[4.44762219]\n",
            "[4.44762219]\n",
            "[4.44762219]\n",
            "[4.44762219]\n",
            "[4.44762219]\n",
            "[4.44762219]\n",
            "[4.44762219]\n",
            "[4.44762219]\n",
            "[4.44762219]\n",
            "[4.44762219]\n",
            "[4.44762219]\n",
            "[4.44762219]\n",
            "[4.44762219]\n",
            "[4.44762219]\n",
            "[4.44762219]\n",
            "[4.44762219]\n",
            "[4.44762219]\n",
            "[4.44762219]\n",
            "[4.44762219]\n",
            "[4.44762219]\n",
            "[4.44762219]\n",
            "[4.44762219]\n",
            "[4.44762219]\n",
            "[4.44762219]\n",
            "[4.44762219]\n",
            "[4.44762219]\n",
            "[4.44762219]\n",
            "[4.44762219]\n",
            "[4.44762219]\n",
            "[4.44762219]\n",
            "[4.44762219]\n",
            "[4.44762219]\n",
            "[4.44762219]\n",
            "[4.44762219]\n",
            "[4.44762219]\n",
            "[4.44762219]\n",
            "[4.44762219]\n",
            "[4.44762219]\n",
            "[4.44762219]\n",
            "[4.44762219]\n",
            "[4.44762219]\n",
            "[4.44762219]\n",
            "[4.44762219]\n",
            "[4.44762219]\n",
            "[4.44762219]\n",
            "[4.44762219]\n",
            "[4.44762219]\n",
            "[4.44762219]\n",
            "[4.44762219]\n",
            "[4.44762219]\n",
            "[4.44762219]\n",
            "[4.44762219]\n",
            "[4.44762219]\n",
            "[4.44762219]\n",
            "[4.44762219]\n",
            "[4.44762219]\n",
            "[4.44762219]\n",
            "[4.44762219]\n",
            "[4.44762219]\n",
            "[4.44762219]\n",
            "[4.44762219]\n",
            "[4.44762219]\n",
            "[4.44762219]\n",
            "[4.44762219]\n",
            "[4.44762219]\n",
            "[4.44762219]\n",
            "[4.44762219]\n",
            "[4.44762219]\n",
            "[4.44762219]\n",
            "[4.44762219]\n",
            "[4.44762219]\n",
            "[4.44762219]\n",
            "[4.44762219]\n",
            "[4.44762219]\n",
            "[4.44762219]\n",
            "[4.44762219]\n",
            "[4.44762219]\n",
            "[4.44762219]\n",
            "[4.44762219]\n",
            "[4.44762219]\n",
            "[4.44762219]\n",
            "[4.44762219]\n",
            "[4.44762219]\n",
            "[4.44762219]\n",
            "[4.44762219]\n",
            "[4.44762219]\n",
            "[4.44762219]\n",
            "[4.44762219]\n",
            "[4.44762219]\n",
            "[4.44762219]\n",
            "[4.44762219]\n",
            "[4.44762219]\n",
            "[4.44762219]\n",
            "[4.44762219]\n",
            "[4.44762219]\n",
            "[4.44762219]\n",
            "[4.44762219]\n",
            "[4.44762219]\n",
            "[4.44762219]\n",
            "[4.44762219]\n",
            "[4.44762219]\n",
            "[4.44762219]\n",
            "[4.44762219]\n",
            "[4.44762219]\n",
            "[4.44762219]\n",
            "[4.44762219]\n",
            "[4.44762219]\n",
            "[4.44762219]\n",
            "[4.44762219]\n",
            "[4.44762219]\n",
            "[4.44762219]\n",
            "[4.44762219]\n",
            "[4.44762219]\n",
            "[4.44762219]\n",
            "[4.44762219]\n",
            "[4.44762219]\n",
            "[4.44762219]\n",
            "[4.44762219]\n",
            "[4.44762219]\n",
            "[4.44762219]\n",
            "[4.44762219]\n",
            "[4.44762219]\n",
            "[4.44762219]\n",
            "[4.44762219]\n",
            "[4.44762219]\n",
            "[4.44762219]\n",
            "[4.44762219]\n",
            "[4.44762219]\n",
            "[4.44762219]\n",
            "[4.44762219]\n",
            "[4.44762219]\n",
            "[4.44762219]\n",
            "[4.44762219]\n",
            "[4.44762219]\n",
            "[4.44762219]\n",
            "[4.44762219]\n",
            "[4.44762219]\n",
            "[4.44762219]\n",
            "[4.44762219]\n",
            "[4.44762219]\n",
            "[4.44762219]\n",
            "[4.44762219]\n",
            "[4.44762219]\n",
            "[4.44762219]\n",
            "[4.44762219]\n",
            "[4.44762219]\n",
            "[4.44762219]\n",
            "[4.44762219]\n"
          ]
        }
      ]
    },
    {
      "cell_type": "code",
      "source": [
        "# Visualize the results\n",
        "plt.plot(Ytest, label=\"Target\");\n",
        "plt.plot(prediction, label=\"Prediction\");\n",
        "plt.legend();\n",
        "plt.title(\"Straight Line Prediction (more accurate visual)\");"
      ],
      "metadata": {
        "colab": {
          "base_uri": "https://localhost:8080/",
          "height": 452
        },
        "id": "-RdHMkX15Ql_",
        "outputId": "cc51738e-e415-4a8e-e359-a9ad17644002"
      },
      "execution_count": 24,
      "outputs": [
        {
          "output_type": "display_data",
          "data": {
            "text/plain": [
              "<Figure size 640x480 with 1 Axes>"
            ],
            "image/png": "[encoded data removed]"
          },
          "metadata": {}
        }
      ]
    },
    {
      "cell_type": "markdown",
      "source": [
        "## Evaluating Other Models for Prediction"
      ],
      "metadata": {
        "id": "qYz3Opxgk5nd"
      }
    },
    {
      "cell_type": "markdown",
      "source": [
        "### LSTM"
      ],
      "metadata": {
        "id": "4MXvNN4vlKNn"
      }
    },
    {
      "cell_type": "code",
      "source": [
        "# Creates the dataset.\n",
        "# We will attempt to predict the next value using the past 10 values.\n",
        "X1, Y1 = create_dataset(closing_price_series, model_type=\"lstm\")\n",
        "print(f'Shape of X: {X1.shape}\\nShape of Y: {Y1.shape}')"
      ],
      "metadata": {
        "colab": {
          "base_uri": "https://localhost:8080/"
        },
        "id": "WDn2k-5Tklr0",
        "outputId": "c09e3b79-638f-4f22-ad4d-72cb0863e5c2"
      },
      "execution_count": 25,
      "outputs": [
        {
          "output_type": "stream",
          "name": "stdout",
          "text": [
            "Shape of X: (1249, 10, 1)\n",
            "Shape of Y: (1249,)\n"
          ]
        }
      ]
    },
    {
      "cell_type": "code",
      "source": [
        "# Stores the total size of the input.\n",
        "N = len(X1)  \n",
        "# Model will look 10 days back to predict the next day.\n",
        "look_back = 10  \n",
        "\n",
        "# Data split into train and test (as before).\n",
        "Xtrain, Ytrain = X1[:-N//2], Y1[:-N//2] # Second half \n",
        "Xtest, Ytest = X1[-N//2:], Y1[-N//2:]   # First half"
      ],
      "metadata": {
        "id": "Dx8KzO135Q5P"
      },
      "execution_count": 26,
      "outputs": []
    },
    {
      "cell_type": "code",
      "source": [
        "# Instantiate the model - autoregressive RNN model.\n",
        "inputs = Input(shape=(look_back, 1))\n",
        "#x = LSTM(5)(inputs)\n",
        "# Multiple LSTMs\n",
        "x = LSTM(5, return_sequences=True)(inputs)\n",
        "x = LSTM(5, return_sequences=True)(x)\n",
        "x = LSTM(5)(x)\n",
        "\n",
        "outputs = Dense(1)(x)\n",
        "model = Model(inputs, outputs)"
      ],
      "metadata": {
        "id": "OHtyNMfvqueM"
      },
      "execution_count": 27,
      "outputs": []
    },
    {
      "cell_type": "code",
      "source": [
        "# Compile the model.\n",
        "model.compile(loss='mse', optimizer=Adam(learning_rate=0.01))"
      ],
      "metadata": {
        "id": "NMidIb9Lqu0s"
      },
      "execution_count": 28,
      "outputs": []
    },
    {
      "cell_type": "code",
      "source": [
        "# Train the model \n",
        "rnn_trained = model.fit(Xtrain, Ytrain, epochs=80,\n",
        "                        validation_data=(Xtest, Ytest))"
      ],
      "metadata": {
        "id": "NhfPP8Woqv-N",
        "colab": {
          "base_uri": "https://localhost:8080/"
        },
        "outputId": "2eafdc72-780c-49c5-b6fa-0ed53782ed28"
      },
      "execution_count": 29,
      "outputs": [
        {
          "output_type": "stream",
          "name": "stdout",
          "text": [
            "Epoch 1/80\n",
            "20/20 [==============================] - 13s 161ms/step - loss: 0.6695 - val_loss: 51.4238\n",
            "Epoch 2/80\n",
            "20/20 [==============================] - 1s 29ms/step - loss: 0.3101 - val_loss: 50.0832\n",
            "Epoch 3/80\n",
            "20/20 [==============================] - 1s 25ms/step - loss: 0.1588 - val_loss: 37.7856\n",
            "Epoch 4/80\n",
            "20/20 [==============================] - 1s 32ms/step - loss: 0.0934 - val_loss: 32.8815\n",
            "Epoch 5/80\n",
            "20/20 [==============================] - 0s 25ms/step - loss: 0.0600 - val_loss: 30.4209\n",
            "Epoch 6/80\n",
            "20/20 [==============================] - 1s 27ms/step - loss: 0.0532 - val_loss: 28.4470\n",
            "Epoch 7/80\n",
            "20/20 [==============================] - 1s 30ms/step - loss: 0.0692 - val_loss: 27.0006\n",
            "Epoch 8/80\n",
            "20/20 [==============================] - 0s 23ms/step - loss: 0.0538 - val_loss: 27.8284\n",
            "Epoch 9/80\n",
            "20/20 [==============================] - 1s 34ms/step - loss: 0.0411 - val_loss: 26.5888\n",
            "Epoch 10/80\n",
            "20/20 [==============================] - 1s 33ms/step - loss: 0.0356 - val_loss: 25.3462\n",
            "Epoch 11/80\n",
            "20/20 [==============================] - 0s 25ms/step - loss: 0.0342 - val_loss: 24.0761\n",
            "Epoch 12/80\n",
            "20/20 [==============================] - 1s 31ms/step - loss: 0.0298 - val_loss: 22.9529\n",
            "Epoch 13/80\n",
            "20/20 [==============================] - 0s 22ms/step - loss: 0.0265 - val_loss: 22.2720\n",
            "Epoch 14/80\n",
            "20/20 [==============================] - 0s 22ms/step - loss: 0.0223 - val_loss: 21.8851\n",
            "Epoch 15/80\n",
            "20/20 [==============================] - 0s 18ms/step - loss: 0.0457 - val_loss: 22.3205\n",
            "Epoch 16/80\n",
            "20/20 [==============================] - 0s 18ms/step - loss: 0.0308 - val_loss: 22.1992\n",
            "Epoch 17/80\n",
            "20/20 [==============================] - 0s 25ms/step - loss: 0.0237 - val_loss: 21.3291\n",
            "Epoch 18/80\n",
            "20/20 [==============================] - 1s 30ms/step - loss: 0.0200 - val_loss: 20.7342\n",
            "Epoch 19/80\n",
            "20/20 [==============================] - 1s 31ms/step - loss: 0.0176 - val_loss: 20.3835\n",
            "Epoch 20/80\n",
            "20/20 [==============================] - 0s 25ms/step - loss: 0.0170 - val_loss: 20.1820\n",
            "Epoch 21/80\n",
            "20/20 [==============================] - 1s 26ms/step - loss: 0.0157 - val_loss: 20.2004\n",
            "Epoch 22/80\n",
            "20/20 [==============================] - 1s 26ms/step - loss: 0.0199 - val_loss: 20.4504\n",
            "Epoch 23/80\n",
            "20/20 [==============================] - 0s 22ms/step - loss: 0.0169 - val_loss: 20.2241\n",
            "Epoch 24/80\n",
            "20/20 [==============================] - 1s 26ms/step - loss: 0.0207 - val_loss: 20.1574\n",
            "Epoch 25/80\n",
            "20/20 [==============================] - 0s 23ms/step - loss: 0.0159 - val_loss: 20.5489\n",
            "Epoch 26/80\n",
            "20/20 [==============================] - 0s 17ms/step - loss: 0.0136 - val_loss: 20.0407\n",
            "Epoch 27/80\n",
            "20/20 [==============================] - 0s 16ms/step - loss: 0.0129 - val_loss: 19.9529\n",
            "Epoch 28/80\n",
            "20/20 [==============================] - 0s 23ms/step - loss: 0.0120 - val_loss: 20.0565\n",
            "Epoch 29/80\n",
            "20/20 [==============================] - 0s 17ms/step - loss: 0.0121 - val_loss: 20.5085\n",
            "Epoch 30/80\n",
            "20/20 [==============================] - 0s 17ms/step - loss: 0.0130 - val_loss: 20.4252\n",
            "Epoch 31/80\n",
            "20/20 [==============================] - 0s 17ms/step - loss: 0.0122 - val_loss: 20.5933\n",
            "Epoch 32/80\n",
            "20/20 [==============================] - 0s 16ms/step - loss: 0.0129 - val_loss: 20.2387\n",
            "Epoch 33/80\n",
            "20/20 [==============================] - 0s 16ms/step - loss: 0.0109 - val_loss: 20.2944\n",
            "Epoch 34/80\n",
            "20/20 [==============================] - 0s 16ms/step - loss: 0.0109 - val_loss: 20.4788\n",
            "Epoch 35/80\n",
            "20/20 [==============================] - 0s 16ms/step - loss: 0.0102 - val_loss: 20.7322\n",
            "Epoch 36/80\n",
            "20/20 [==============================] - 1s 27ms/step - loss: 0.0105 - val_loss: 20.8475\n",
            "Epoch 37/80\n",
            "20/20 [==============================] - 0s 19ms/step - loss: 0.0120 - val_loss: 20.1248\n",
            "Epoch 38/80\n",
            "20/20 [==============================] - 0s 16ms/step - loss: 0.0140 - val_loss: 20.2113\n",
            "Epoch 39/80\n",
            "20/20 [==============================] - 0s 19ms/step - loss: 0.0110 - val_loss: 20.5202\n",
            "Epoch 40/80\n",
            "20/20 [==============================] - 1s 26ms/step - loss: 0.0110 - val_loss: 20.6722\n",
            "Epoch 41/80\n",
            "20/20 [==============================] - 0s 23ms/step - loss: 0.0118 - val_loss: 20.8417\n",
            "Epoch 42/80\n",
            "20/20 [==============================] - 1s 28ms/step - loss: 0.0093 - val_loss: 21.0876\n",
            "Epoch 43/80\n",
            "20/20 [==============================] - 0s 23ms/step - loss: 0.0090 - val_loss: 20.8375\n",
            "Epoch 44/80\n",
            "20/20 [==============================] - 1s 28ms/step - loss: 0.0092 - val_loss: 21.0628\n",
            "Epoch 45/80\n",
            "20/20 [==============================] - 1s 38ms/step - loss: 0.0089 - val_loss: 21.3843\n",
            "Epoch 46/80\n",
            "20/20 [==============================] - 1s 35ms/step - loss: 0.0090 - val_loss: 21.1246\n",
            "Epoch 47/80\n",
            "20/20 [==============================] - 1s 41ms/step - loss: 0.0094 - val_loss: 21.2517\n",
            "Epoch 48/80\n",
            "20/20 [==============================] - 1s 55ms/step - loss: 0.0092 - val_loss: 21.1029\n",
            "Epoch 49/80\n",
            "20/20 [==============================] - 1s 46ms/step - loss: 0.0098 - val_loss: 20.9907\n",
            "Epoch 50/80\n",
            "20/20 [==============================] - 1s 48ms/step - loss: 0.0096 - val_loss: 21.1059\n",
            "Epoch 51/80\n",
            "20/20 [==============================] - 1s 54ms/step - loss: 0.0087 - val_loss: 21.2923\n",
            "Epoch 52/80\n",
            "20/20 [==============================] - 1s 33ms/step - loss: 0.0109 - val_loss: 20.7730\n",
            "Epoch 53/80\n",
            "20/20 [==============================] - 1s 30ms/step - loss: 0.0093 - val_loss: 21.1433\n",
            "Epoch 54/80\n",
            "20/20 [==============================] - 1s 27ms/step - loss: 0.0091 - val_loss: 21.3586\n",
            "Epoch 55/80\n",
            "20/20 [==============================] - 1s 27ms/step - loss: 0.0094 - val_loss: 21.0846\n",
            "Epoch 56/80\n",
            "20/20 [==============================] - 1s 26ms/step - loss: 0.0113 - val_loss: 21.0309\n",
            "Epoch 57/80\n",
            "20/20 [==============================] - 0s 16ms/step - loss: 0.0089 - val_loss: 21.0566\n",
            "Epoch 58/80\n",
            "20/20 [==============================] - 0s 17ms/step - loss: 0.0096 - val_loss: 21.7841\n",
            "Epoch 59/80\n",
            "20/20 [==============================] - 0s 20ms/step - loss: 0.0087 - val_loss: 21.3999\n",
            "Epoch 60/80\n",
            "20/20 [==============================] - 0s 17ms/step - loss: 0.0093 - val_loss: 21.3309\n",
            "Epoch 61/80\n",
            "20/20 [==============================] - 0s 21ms/step - loss: 0.0082 - val_loss: 20.8839\n",
            "Epoch 62/80\n",
            "20/20 [==============================] - 0s 20ms/step - loss: 0.0088 - val_loss: 21.1678\n",
            "Epoch 63/80\n",
            "20/20 [==============================] - 1s 36ms/step - loss: 0.0088 - val_loss: 21.2801\n",
            "Epoch 64/80\n",
            "20/20 [==============================] - 1s 31ms/step - loss: 0.0086 - val_loss: 21.2320\n",
            "Epoch 65/80\n",
            "20/20 [==============================] - 1s 26ms/step - loss: 0.0104 - val_loss: 21.4982\n",
            "Epoch 66/80\n",
            "20/20 [==============================] - 1s 29ms/step - loss: 0.0097 - val_loss: 21.2039\n",
            "Epoch 67/80\n",
            "20/20 [==============================] - 0s 17ms/step - loss: 0.0094 - val_loss: 21.5871\n",
            "Epoch 68/80\n",
            "20/20 [==============================] - 0s 17ms/step - loss: 0.0083 - val_loss: 21.5679\n",
            "Epoch 69/80\n",
            "20/20 [==============================] - 0s 17ms/step - loss: 0.0086 - val_loss: 21.5511\n",
            "Epoch 70/80\n",
            "20/20 [==============================] - 0s 16ms/step - loss: 0.0084 - val_loss: 21.3560\n",
            "Epoch 71/80\n",
            "20/20 [==============================] - 1s 36ms/step - loss: 0.0089 - val_loss: 21.5861\n",
            "Epoch 72/80\n",
            "20/20 [==============================] - 1s 37ms/step - loss: 0.0092 - val_loss: 21.5393\n",
            "Epoch 73/80\n",
            "20/20 [==============================] - 1s 43ms/step - loss: 0.0102 - val_loss: 21.5231\n",
            "Epoch 74/80\n",
            "20/20 [==============================] - 1s 51ms/step - loss: 0.0086 - val_loss: 21.5950\n",
            "Epoch 75/80\n",
            "20/20 [==============================] - 1s 61ms/step - loss: 0.0087 - val_loss: 21.7845\n",
            "Epoch 76/80\n",
            "20/20 [==============================] - 1s 53ms/step - loss: 0.0116 - val_loss: 21.4994\n",
            "Epoch 77/80\n",
            "20/20 [==============================] - 1s 55ms/step - loss: 0.0100 - val_loss: 21.6530\n",
            "Epoch 78/80\n",
            "20/20 [==============================] - 1s 46ms/step - loss: 0.0087 - val_loss: 21.2628\n",
            "Epoch 79/80\n",
            "20/20 [==============================] - 1s 52ms/step - loss: 0.0078 - val_loss: 21.3220\n",
            "Epoch 80/80\n",
            "20/20 [==============================] - 1s 31ms/step - loss: 0.0089 - val_loss: 21.7644\n"
          ]
        }
      ]
    },
    {
      "cell_type": "code",
      "source": [
        "# Plot the loss per iteration\n",
        "plt.plot(rnn_trained.history['loss'], label='Loss');\n",
        "plt.plot(rnn_trained.history['val_loss'], label='Val_loss');\n",
        "plt.legend();"
      ],
      "metadata": {
        "id": "pHa_a4GOqwUv",
        "colab": {
          "base_uri": "https://localhost:8080/",
          "height": 430
        },
        "outputId": "8ed5cbf3-f2fc-4a60-caed-4479dd091b3f"
      },
      "execution_count": 30,
      "outputs": [
        {
          "output_type": "display_data",
          "data": {
            "text/plain": [
              "<Figure size 640x480 with 1 Axes>"
            ],
            "image/png": "[encoded data removed]"
          },
          "metadata": {}
        }
      ]
    },
    {
      "cell_type": "markdown",
      "source": [
        "Single LSTM results:\n",
        "Loss per iteration decreased and the final loss stayed very close to zero the last two values were 0.0080 and 0.0083 but the validation loss was a bit high at 19.2691 and it stayed at that level.  \n",
        "\n",
        "Multiple LSTM results:\n",
        "Loss per iteration also decreased with a similar pattern as the single LSTM but with slightly higher validation loss staying predominantly at  ~21."
      ],
      "metadata": {
        "id": "3DmAA_qlCRhA"
      }
    },
    {
      "cell_type": "code",
      "source": [
        "# We will attempt some predictions\n",
        "Ptrain = model.predict(Xtrain)\n",
        "Ptest = model.predict(Xtest)"
      ],
      "metadata": {
        "id": "KYUt1UKYqxQN",
        "colab": {
          "base_uri": "https://localhost:8080/"
        },
        "outputId": "da8d3f60-bb82-456c-da70-1e4549037b6a"
      },
      "execution_count": 31,
      "outputs": [
        {
          "output_type": "stream",
          "name": "stdout",
          "text": [
            "20/20 [==============================] - 1s 3ms/step\n",
            "20/20 [==============================] - 0s 3ms/step\n"
          ]
        }
      ]
    },
    {
      "cell_type": "code",
      "source": [
        "# Let's get the data back to its original scale\n",
        "Ytrain2 = scaler_model.inverse_transform(Ytrain.reshape(-1,1)).flatten()\n",
        "Ytest2 = scaler_model.inverse_transform(Ytest.reshape(-1,1)).flatten()\n",
        "Ptrain2 = scaler_model.inverse_transform(Ptrain.reshape(-1,1)).flatten()\n",
        "Ptest2 = scaler_model.inverse_transform(Ptest.reshape(-1, 1)).flatten()"
      ],
      "metadata": {
        "id": "D0eQphVWqxn1"
      },
      "execution_count": 32,
      "outputs": []
    },
    {
      "cell_type": "code",
      "source": [
        "# Let's see how the MAE differs from the baseline\n",
        "print(f'LSTM Model:')\n",
        "print(\"Train MAE:\", mae(Ytrain2, Ptrain2))\n",
        "print(\"Test MAE:\", mae(Ytest2, Ptest2))"
      ],
      "metadata": {
        "id": "t_HwQFeUqx_I",
        "colab": {
          "base_uri": "https://localhost:8080/"
        },
        "outputId": "78e2899e-12e8-40dd-e947-2d4c48db71b2"
      },
      "execution_count": 33,
      "outputs": [
        {
          "output_type": "stream",
          "name": "stdout",
          "text": [
            "LSTM Model:\n",
            "Train MAE: 1.3457314842625154\n",
            "Test MAE: 96.66472707405079\n"
          ]
        }
      ]
    },
    {
      "cell_type": "markdown",
      "source": [
        "Well, the MAE for the validation set is definetly higher than expected. Performing worse than the baseline."
      ],
      "metadata": {
        "id": "jcZLyj25E5Ed"
      }
    },
    {
      "cell_type": "code",
      "source": [
        "# Let's plot the one-step forecast (like we did before)\n",
        "plt.plot(Ytest, label='Target')\n",
        "plt.plot(Ptest, label='Prediction')"
      ],
      "metadata": {
        "id": "y8NOuoiYqyTT",
        "colab": {
          "base_uri": "https://localhost:8080/",
          "height": 449
        },
        "outputId": "290f16cc-42b2-4624-b058-1377afd76100"
      },
      "execution_count": 34,
      "outputs": [
        {
          "output_type": "execute_result",
          "data": {
            "text/plain": [
              "[<matplotlib.lines.Line2D at 0x7f7d5ee3ca30>]"
            ]
          },
          "metadata": {},
          "execution_count": 34
        },
        {
          "output_type": "display_data",
          "data": {
            "text/plain": [
              "<Figure size 640x480 with 1 Axes>"
            ],
            "image/png": "[encoded data removed]"
          },
          "metadata": {}
        }
      ]
    },
    {
      "cell_type": "markdown",
      "source": [
        "Definitely performed very bad, especially when attempting to hit the higher values. This could be because the training set may have not included those high values. [Differencing](https://otexts.com/fpp2/stationarity.html#differencing) could be useful here to eliminate (or reduce) trend and seasonality.\n",
        "\n",
        "One lesson learned is that one-step prediction on stock prices is very misleading and a higher order model (like an RNN) is not necessarily better at prediction.  Let's explore now if we can do better at predicting if a stock would go up or down instead of just focusing on the price."
      ],
      "metadata": {
        "id": "xoGUSt-VG1p4"
      }
    },
    {
      "cell_type": "markdown",
      "source": [
        "# Binary Classification\n",
        "Exploring if we can predict whether the stock return is positive or negative."
      ],
      "metadata": {
        "id": "qobvPlUfRbDg"
      }
    },
    {
      "cell_type": "code",
      "source": [
        "df.head()"
      ],
      "metadata": {
        "colab": {
          "base_uri": "https://localhost:8080/",
          "height": 206
        },
        "id": "SE1X301jSuAZ",
        "outputId": "6b6d9ded-f181-4cac-f8b7-9cae3ecd30d1"
      },
      "execution_count": 35,
      "outputs": [
        {
          "output_type": "execute_result",
          "data": {
            "text/plain": [
              "         Date       Open       High        Low      Close  Adj Close    Volume\n",
              "0  2018-03-02  21.798668  22.348000  21.531334  22.341333  22.341333  76392000\n",
              "1  2018-03-05  22.159332  22.516666  21.952667  22.223333  22.223333  57357000\n",
              "2  2018-03-06  22.250000  22.424667  21.802000  21.879999  21.879999  64285500\n",
              "3  2018-03-07  21.695999  22.166668  21.449333  22.153334  22.153334  75109500\n",
              "4  2018-03-08  22.190666  22.219999  21.751333  21.940001  21.940001  53493000"
            ],
            "text/html": [
              "\n",
              "  <div id=\"df-d6ba7530-5b73-4d07-9f38-967dbd9d3426\">\n",
              "    <div class=\"colab-df-container\">\n",
              "      <div>\n",
              "<style scoped>\n",
              "    .dataframe tbody tr th:only-of-type {\n",
              "        vertical-align: middle;\n",
              "    }\n",
              "\n",
              "    .dataframe tbody tr th {\n",
              "        vertical-align: top;\n",
              "    }\n",
              "\n",
              "    .dataframe thead th {\n",
              "        text-align: right;\n",
              "    }\n",
              "</style>\n",
              "<table border=\"1\" class=\"dataframe\">\n",
              "  <thead>\n",
              "    <tr style=\"text-align: right;\">\n",
              "      <th></th>\n",
              "      <th>Date</th>\n",
              "      <th>Open</th>\n",
              "      <th>High</th>\n",
              "      <th>Low</th>\n",
              "      <th>Close</th>\n",
              "      <th>Adj Close</th>\n",
              "      <th>Volume</th>\n",
              "    </tr>\n",
              "  </thead>\n",
              "  <tbody>\n",
              "    <tr>\n",
              "      <th>0</th>\n",
              "      <td>2018-03-02</td>\n",
              "      <td>21.798668</td>\n",
              "      <td>22.348000</td>\n",
              "      <td>21.531334</td>\n",
              "      <td>22.341333</td>\n",
              "      <td>22.341333</td>\n",
              "      <td>76392000</td>\n",
              "    </tr>\n",
              "    <tr>\n",
              "      <th>1</th>\n",
              "      <td>2018-03-05</td>\n",
              "      <td>22.159332</td>\n",
              "      <td>22.516666</td>\n",
              "      <td>21.952667</td>\n",
              "      <td>22.223333</td>\n",
              "      <td>22.223333</td>\n",
              "      <td>57357000</td>\n",
              "    </tr>\n",
              "    <tr>\n",
              "      <th>2</th>\n",
              "      <td>2018-03-06</td>\n",
              "      <td>22.250000</td>\n",
              "      <td>22.424667</td>\n",
              "      <td>21.802000</td>\n",
              "      <td>21.879999</td>\n",
              "      <td>21.879999</td>\n",
              "      <td>64285500</td>\n",
              "    </tr>\n",
              "    <tr>\n",
              "      <th>3</th>\n",
              "      <td>2018-03-07</td>\n",
              "      <td>21.695999</td>\n",
              "      <td>22.166668</td>\n",
              "      <td>21.449333</td>\n",
              "      <td>22.153334</td>\n",
              "      <td>22.153334</td>\n",
              "      <td>75109500</td>\n",
              "    </tr>\n",
              "    <tr>\n",
              "      <th>4</th>\n",
              "      <td>2018-03-08</td>\n",
              "      <td>22.190666</td>\n",
              "      <td>22.219999</td>\n",
              "      <td>21.751333</td>\n",
              "      <td>21.940001</td>\n",
              "      <td>21.940001</td>\n",
              "      <td>53493000</td>\n",
              "    </tr>\n",
              "  </tbody>\n",
              "</table>\n",
              "</div>\n",
              "      <button class=\"colab-df-convert\" onclick=\"convertToInteractive('df-d6ba7530-5b73-4d07-9f38-967dbd9d3426')\"\n",
              "              title=\"Convert this dataframe to an interactive table.\"\n",
              "              style=\"display:none;\">\n",
              "        \n",
              "  <svg xmlns=\"http://www.w3.org/2000/svg\" height=\"24px\"viewBox=\"0 0 24 24\"\n",
              "       width=\"24px\">\n",
              "    <path d=\"M0 0h24v24H0V0z\" fill=\"none\"/>\n",
              "    <path d=\"M18.56 5.44l.94 2.06.94-2.06 2.06-.94-2.06-.94-.94-2.06-.94 2.06-2.06.94zm-11 1L8.5 8.5l.94-2.06 2.06-.94-2.06-.94L8.5 2.5l-.94 2.06-2.06.94zm10 10l.94 2.06.94-2.06 2.06-.94-2.06-.94-.94-2.06-.94 2.06-2.06.94z\"/><path d=\"M17.41 7.96l-1.37-1.37c-.4-.4-.92-.59-1.43-.59-.52 0-1.04.2-1.43.59L10.3 9.45l-7.72 7.72c-.78.78-.78 2.05 0 2.83L4 21.41c.39.39.9.59 1.41.59.51 0 1.02-.2 1.41-.59l7.78-7.78 2.81-2.81c.8-.78.8-2.07 0-2.86zM5.41 20L4 18.59l7.72-7.72 1.47 1.35L5.41 20z\"/>\n",
              "  </svg>\n",
              "      </button>\n",
              "      \n",
              "  <style>\n",
              "    .colab-df-container {\n",
              "      display:flex;\n",
              "      flex-wrap:wrap;\n",
              "      gap: 12px;\n",
              "    }\n",
              "\n",
              "    .colab-df-convert {\n",
              "      background-color: #E8F0FE;\n",
              "      border: none;\n",
              "      border-radius: 50%;\n",
              "      cursor: pointer;\n",
              "      display: none;\n",
              "      fill: #1967D2;\n",
              "      height: 32px;\n",
              "      padding: 0 0 0 0;\n",
              "      width: 32px;\n",
              "    }\n",
              "\n",
              "    .colab-df-convert:hover {\n",
              "      background-color: #E2EBFA;\n",
              "      box-shadow: 0px 1px 2px rgba(60, 64, 67, 0.3), 0px 1px 3px 1px rgba(60, 64, 67, 0.15);\n",
              "      fill: #174EA6;\n",
              "    }\n",
              "\n",
              "    [theme=dark] .colab-df-convert {\n",
              "      background-color: #3B4455;\n",
              "      fill: #D2E3FC;\n",
              "    }\n",
              "\n",
              "    [theme=dark] .colab-df-convert:hover {\n",
              "      background-color: #434B5C;\n",
              "      box-shadow: 0px 1px 3px 1px rgba(0, 0, 0, 0.15);\n",
              "      filter: drop-shadow(0px 1px 2px rgba(0, 0, 0, 0.3));\n",
              "      fill: #FFFFFF;\n",
              "    }\n",
              "  </style>\n",
              "\n",
              "      <script>\n",
              "        const buttonEl =\n",
              "          document.querySelector('#df-d6ba7530-5b73-4d07-9f38-967dbd9d3426 button.colab-df-convert');\n",
              "        buttonEl.style.display =\n",
              "          google.colab.kernel.accessAllowed ? 'block' : 'none';\n",
              "\n",
              "        async function convertToInteractive(key) {\n",
              "          const element = document.querySelector('#df-d6ba7530-5b73-4d07-9f38-967dbd9d3426');\n",
              "          const dataTable =\n",
              "            await google.colab.kernel.invokeFunction('convertToInteractive',\n",
              "                                                     [key], {});\n",
              "          if (!dataTable) return;\n",
              "\n",
              "          const docLinkHtml = 'Like what you see? Visit the ' +\n",
              "            '<a target=\"_blank\" href=https://colab.research.google.com/notebooks/data_table.ipynb>data table notebook</a>'\n",
              "            + ' to learn more about interactive tables.';\n",
              "          element.innerHTML = '';\n",
              "          dataTable['output_type'] = 'display_data';\n",
              "          await google.colab.output.renderOutput(dataTable, element);\n",
              "          const docLink = document.createElement('div');\n",
              "          docLink.innerHTML = docLinkHtml;\n",
              "          element.appendChild(docLink);\n",
              "        }\n",
              "      </script>\n",
              "    </div>\n",
              "  </div>\n",
              "  "
            ]
          },
          "metadata": {},
          "execution_count": 35
        }
      ]
    },
    {
      "cell_type": "code",
      "source": [
        "# Calculate the returns by shifting the data (everything up by 1)\n",
        "df['PrevClose'] = df['Close'].shift(1) "
      ],
      "metadata": {
        "id": "pO2wP9TGG-oz"
      },
      "execution_count": 36,
      "outputs": []
    },
    {
      "cell_type": "code",
      "source": [
        "df.head()"
      ],
      "metadata": {
        "colab": {
          "base_uri": "https://localhost:8080/",
          "height": 206
        },
        "id": "idmAzyJ5G-8U",
        "outputId": "6ba5d0d6-a0b3-4653-ce91-c4448206d990"
      },
      "execution_count": 37,
      "outputs": [
        {
          "output_type": "execute_result",
          "data": {
            "text/plain": [
              "         Date       Open       High        Low      Close  Adj Close  \\\n",
              "0  2018-03-02  21.798668  22.348000  21.531334  22.341333  22.341333   \n",
              "1  2018-03-05  22.159332  22.516666  21.952667  22.223333  22.223333   \n",
              "2  2018-03-06  22.250000  22.424667  21.802000  21.879999  21.879999   \n",
              "3  2018-03-07  21.695999  22.166668  21.449333  22.153334  22.153334   \n",
              "4  2018-03-08  22.190666  22.219999  21.751333  21.940001  21.940001   \n",
              "\n",
              "     Volume  PrevClose  \n",
              "0  76392000        NaN  \n",
              "1  57357000  22.341333  \n",
              "2  64285500  22.223333  \n",
              "3  75109500  21.879999  \n",
              "4  53493000  22.153334  "
            ],
            "text/html": [
              "\n",
              "  <div id=\"df-5aa449ce-f00b-4e20-847b-9b30c560495f\">\n",
              "    <div class=\"colab-df-container\">\n",
              "      <div>\n",
              "<style scoped>\n",
              "    .dataframe tbody tr th:only-of-type {\n",
              "        vertical-align: middle;\n",
              "    }\n",
              "\n",
              "    .dataframe tbody tr th {\n",
              "        vertical-align: top;\n",
              "    }\n",
              "\n",
              "    .dataframe thead th {\n",
              "        text-align: right;\n",
              "    }\n",
              "</style>\n",
              "<table border=\"1\" class=\"dataframe\">\n",
              "  <thead>\n",
              "    <tr style=\"text-align: right;\">\n",
              "      <th></th>\n",
              "      <th>Date</th>\n",
              "      <th>Open</th>\n",
              "      <th>High</th>\n",
              "      <th>Low</th>\n",
              "      <th>Close</th>\n",
              "      <th>Adj Close</th>\n",
              "      <th>Volume</th>\n",
              "      <th>PrevClose</th>\n",
              "    </tr>\n",
              "  </thead>\n",
              "  <tbody>\n",
              "    <tr>\n",
              "      <th>0</th>\n",
              "      <td>2018-03-02</td>\n",
              "      <td>21.798668</td>\n",
              "      <td>22.348000</td>\n",
              "      <td>21.531334</td>\n",
              "      <td>22.341333</td>\n",
              "      <td>22.341333</td>\n",
              "      <td>76392000</td>\n",
              "      <td>NaN</td>\n",
              "    </tr>\n",
              "    <tr>\n",
              "      <th>1</th>\n",
              "      <td>2018-03-05</td>\n",
              "      <td>22.159332</td>\n",
              "      <td>22.516666</td>\n",
              "      <td>21.952667</td>\n",
              "      <td>22.223333</td>\n",
              "      <td>22.223333</td>\n",
              "      <td>57357000</td>\n",
              "      <td>22.341333</td>\n",
              "    </tr>\n",
              "    <tr>\n",
              "      <th>2</th>\n",
              "      <td>2018-03-06</td>\n",
              "      <td>22.250000</td>\n",
              "      <td>22.424667</td>\n",
              "      <td>21.802000</td>\n",
              "      <td>21.879999</td>\n",
              "      <td>21.879999</td>\n",
              "      <td>64285500</td>\n",
              "      <td>22.223333</td>\n",
              "    </tr>\n",
              "    <tr>\n",
              "      <th>3</th>\n",
              "      <td>2018-03-07</td>\n",
              "      <td>21.695999</td>\n",
              "      <td>22.166668</td>\n",
              "      <td>21.449333</td>\n",
              "      <td>22.153334</td>\n",
              "      <td>22.153334</td>\n",
              "      <td>75109500</td>\n",
              "      <td>21.879999</td>\n",
              "    </tr>\n",
              "    <tr>\n",
              "      <th>4</th>\n",
              "      <td>2018-03-08</td>\n",
              "      <td>22.190666</td>\n",
              "      <td>22.219999</td>\n",
              "      <td>21.751333</td>\n",
              "      <td>21.940001</td>\n",
              "      <td>21.940001</td>\n",
              "      <td>53493000</td>\n",
              "      <td>22.153334</td>\n",
              "    </tr>\n",
              "  </tbody>\n",
              "</table>\n",
              "</div>\n",
              "      <button class=\"colab-df-convert\" onclick=\"convertToInteractive('df-5aa449ce-f00b-4e20-847b-9b30c560495f')\"\n",
              "              title=\"Convert this dataframe to an interactive table.\"\n",
              "              style=\"display:none;\">\n",
              "        \n",
              "  <svg xmlns=\"http://www.w3.org/2000/svg\" height=\"24px\"viewBox=\"0 0 24 24\"\n",
              "       width=\"24px\">\n",
              "    <path d=\"M0 0h24v24H0V0z\" fill=\"none\"/>\n",
              "    <path d=\"M18.56 5.44l.94 2.06.94-2.06 2.06-.94-2.06-.94-.94-2.06-.94 2.06-2.06.94zm-11 1L8.5 8.5l.94-2.06 2.06-.94-2.06-.94L8.5 2.5l-.94 2.06-2.06.94zm10 10l.94 2.06.94-2.06 2.06-.94-2.06-.94-.94-2.06-.94 2.06-2.06.94z\"/><path d=\"M17.41 7.96l-1.37-1.37c-.4-.4-.92-.59-1.43-.59-.52 0-1.04.2-1.43.59L10.3 9.45l-7.72 7.72c-.78.78-.78 2.05 0 2.83L4 21.41c.39.39.9.59 1.41.59.51 0 1.02-.2 1.41-.59l7.78-7.78 2.81-2.81c.8-.78.8-2.07 0-2.86zM5.41 20L4 18.59l7.72-7.72 1.47 1.35L5.41 20z\"/>\n",
              "  </svg>\n",
              "      </button>\n",
              "      \n",
              "  <style>\n",
              "    .colab-df-container {\n",
              "      display:flex;\n",
              "      flex-wrap:wrap;\n",
              "      gap: 12px;\n",
              "    }\n",
              "\n",
              "    .colab-df-convert {\n",
              "      background-color: #E8F0FE;\n",
              "      border: none;\n",
              "      border-radius: 50%;\n",
              "      cursor: pointer;\n",
              "      display: none;\n",
              "      fill: #1967D2;\n",
              "      height: 32px;\n",
              "      padding: 0 0 0 0;\n",
              "      width: 32px;\n",
              "    }\n",
              "\n",
              "    .colab-df-convert:hover {\n",
              "      background-color: #E2EBFA;\n",
              "      box-shadow: 0px 1px 2px rgba(60, 64, 67, 0.3), 0px 1px 3px 1px rgba(60, 64, 67, 0.15);\n",
              "      fill: #174EA6;\n",
              "    }\n",
              "\n",
              "    [theme=dark] .colab-df-convert {\n",
              "      background-color: #3B4455;\n",
              "      fill: #D2E3FC;\n",
              "    }\n",
              "\n",
              "    [theme=dark] .colab-df-convert:hover {\n",
              "      background-color: #434B5C;\n",
              "      box-shadow: 0px 1px 3px 1px rgba(0, 0, 0, 0.15);\n",
              "      filter: drop-shadow(0px 1px 2px rgba(0, 0, 0, 0.3));\n",
              "      fill: #FFFFFF;\n",
              "    }\n",
              "  </style>\n",
              "\n",
              "      <script>\n",
              "        const buttonEl =\n",
              "          document.querySelector('#df-5aa449ce-f00b-4e20-847b-9b30c560495f button.colab-df-convert');\n",
              "        buttonEl.style.display =\n",
              "          google.colab.kernel.accessAllowed ? 'block' : 'none';\n",
              "\n",
              "        async function convertToInteractive(key) {\n",
              "          const element = document.querySelector('#df-5aa449ce-f00b-4e20-847b-9b30c560495f');\n",
              "          const dataTable =\n",
              "            await google.colab.kernel.invokeFunction('convertToInteractive',\n",
              "                                                     [key], {});\n",
              "          if (!dataTable) return;\n",
              "\n",
              "          const docLinkHtml = 'Like what you see? Visit the ' +\n",
              "            '<a target=\"_blank\" href=https://colab.research.google.com/notebooks/data_table.ipynb>data table notebook</a>'\n",
              "            + ' to learn more about interactive tables.';\n",
              "          element.innerHTML = '';\n",
              "          dataTable['output_type'] = 'display_data';\n",
              "          await google.colab.output.renderOutput(dataTable, element);\n",
              "          const docLink = document.createElement('div');\n",
              "          docLink.innerHTML = docLinkHtml;\n",
              "          element.appendChild(docLink);\n",
              "        }\n",
              "      </script>\n",
              "    </div>\n",
              "  </div>\n",
              "  "
            ]
          },
          "metadata": {},
          "execution_count": 37
        }
      ]
    },
    {
      "cell_type": "markdown",
      "source": [
        "We can see that entry 0 now has a NaN value as the previous close value due to the 1-value shifting.  This shouldn't present a problem as we will see in the next steps. To predict the return we will be looking back at N previous values (i.e. 10), so we won't really use that value to make the majority of the predictions."
      ],
      "metadata": {
        "id": "rGD0JLsE4EeX"
      }
    },
    {
      "cell_type": "code",
      "source": [
        "# Let's calculate the stock return. The formula to calculate it is as follows:\n",
        "# Return (R) = Final Price - Initial Price / Initial Price. In our case this \n",
        "# translates to the following:\n",
        "df['Return'] = (df['Close'] - df['PrevClose']) / df['PrevClose'] "
      ],
      "metadata": {
        "id": "QUX1vrQnG_PI"
      },
      "execution_count": 39,
      "outputs": []
    },
    {
      "cell_type": "code",
      "source": [
        "df.head()"
      ],
      "metadata": {
        "colab": {
          "base_uri": "https://localhost:8080/",
          "height": 206
        },
        "id": "ZDhbVFy7G_h6",
        "outputId": "3de25c0a-9a4d-40fa-fb9e-0243b32b254d"
      },
      "execution_count": 40,
      "outputs": [
        {
          "output_type": "execute_result",
          "data": {
            "text/plain": [
              "         Date       Open       High        Low      Close  Adj Close  \\\n",
              "0  2018-03-02  21.798668  22.348000  21.531334  22.341333  22.341333   \n",
              "1  2018-03-05  22.159332  22.516666  21.952667  22.223333  22.223333   \n",
              "2  2018-03-06  22.250000  22.424667  21.802000  21.879999  21.879999   \n",
              "3  2018-03-07  21.695999  22.166668  21.449333  22.153334  22.153334   \n",
              "4  2018-03-08  22.190666  22.219999  21.751333  21.940001  21.940001   \n",
              "\n",
              "     Volume  PrevClose    Return  \n",
              "0  76392000        NaN       NaN  \n",
              "1  57357000  22.341333 -0.005282  \n",
              "2  64285500  22.223333 -0.015449  \n",
              "3  75109500  21.879999  0.012492  \n",
              "4  53493000  22.153334 -0.009630  "
            ],
            "text/html": [
              "\n",
              "  <div id=\"df-91e63c63-6527-4c8a-aa6a-d3b9cd57e60c\">\n",
              "    <div class=\"colab-df-container\">\n",
              "      <div>\n",
              "<style scoped>\n",
              "    .dataframe tbody tr th:only-of-type {\n",
              "        vertical-align: middle;\n",
              "    }\n",
              "\n",
              "    .dataframe tbody tr th {\n",
              "        vertical-align: top;\n",
              "    }\n",
              "\n",
              "    .dataframe thead th {\n",
              "        text-align: right;\n",
              "    }\n",
              "</style>\n",
              "<table border=\"1\" class=\"dataframe\">\n",
              "  <thead>\n",
              "    <tr style=\"text-align: right;\">\n",
              "      <th></th>\n",
              "      <th>Date</th>\n",
              "      <th>Open</th>\n",
              "      <th>High</th>\n",
              "      <th>Low</th>\n",
              "      <th>Close</th>\n",
              "      <th>Adj Close</th>\n",
              "      <th>Volume</th>\n",
              "      <th>PrevClose</th>\n",
              "      <th>Return</th>\n",
              "    </tr>\n",
              "  </thead>\n",
              "  <tbody>\n",
              "    <tr>\n",
              "      <th>0</th>\n",
              "      <td>2018-03-02</td>\n",
              "      <td>21.798668</td>\n",
              "      <td>22.348000</td>\n",
              "      <td>21.531334</td>\n",
              "      <td>22.341333</td>\n",
              "      <td>22.341333</td>\n",
              "      <td>76392000</td>\n",
              "      <td>NaN</td>\n",
              "      <td>NaN</td>\n",
              "    </tr>\n",
              "    <tr>\n",
              "      <th>1</th>\n",
              "      <td>2018-03-05</td>\n",
              "      <td>22.159332</td>\n",
              "      <td>22.516666</td>\n",
              "      <td>21.952667</td>\n",
              "      <td>22.223333</td>\n",
              "      <td>22.223333</td>\n",
              "      <td>57357000</td>\n",
              "      <td>22.341333</td>\n",
              "      <td>-0.005282</td>\n",
              "    </tr>\n",
              "    <tr>\n",
              "      <th>2</th>\n",
              "      <td>2018-03-06</td>\n",
              "      <td>22.250000</td>\n",
              "      <td>22.424667</td>\n",
              "      <td>21.802000</td>\n",
              "      <td>21.879999</td>\n",
              "      <td>21.879999</td>\n",
              "      <td>64285500</td>\n",
              "      <td>22.223333</td>\n",
              "      <td>-0.015449</td>\n",
              "    </tr>\n",
              "    <tr>\n",
              "      <th>3</th>\n",
              "      <td>2018-03-07</td>\n",
              "      <td>21.695999</td>\n",
              "      <td>22.166668</td>\n",
              "      <td>21.449333</td>\n",
              "      <td>22.153334</td>\n",
              "      <td>22.153334</td>\n",
              "      <td>75109500</td>\n",
              "      <td>21.879999</td>\n",
              "      <td>0.012492</td>\n",
              "    </tr>\n",
              "    <tr>\n",
              "      <th>4</th>\n",
              "      <td>2018-03-08</td>\n",
              "      <td>22.190666</td>\n",
              "      <td>22.219999</td>\n",
              "      <td>21.751333</td>\n",
              "      <td>21.940001</td>\n",
              "      <td>21.940001</td>\n",
              "      <td>53493000</td>\n",
              "      <td>22.153334</td>\n",
              "      <td>-0.009630</td>\n",
              "    </tr>\n",
              "  </tbody>\n",
              "</table>\n",
              "</div>\n",
              "      <button class=\"colab-df-convert\" onclick=\"convertToInteractive('df-91e63c63-6527-4c8a-aa6a-d3b9cd57e60c')\"\n",
              "              title=\"Convert this dataframe to an interactive table.\"\n",
              "              style=\"display:none;\">\n",
              "        \n",
              "  <svg xmlns=\"http://www.w3.org/2000/svg\" height=\"24px\"viewBox=\"0 0 24 24\"\n",
              "       width=\"24px\">\n",
              "    <path d=\"M0 0h24v24H0V0z\" fill=\"none\"/>\n",
              "    <path d=\"M18.56 5.44l.94 2.06.94-2.06 2.06-.94-2.06-.94-.94-2.06-.94 2.06-2.06.94zm-11 1L8.5 8.5l.94-2.06 2.06-.94-2.06-.94L8.5 2.5l-.94 2.06-2.06.94zm10 10l.94 2.06.94-2.06 2.06-.94-2.06-.94-.94-2.06-.94 2.06-2.06.94z\"/><path d=\"M17.41 7.96l-1.37-1.37c-.4-.4-.92-.59-1.43-.59-.52 0-1.04.2-1.43.59L10.3 9.45l-7.72 7.72c-.78.78-.78 2.05 0 2.83L4 21.41c.39.39.9.59 1.41.59.51 0 1.02-.2 1.41-.59l7.78-7.78 2.81-2.81c.8-.78.8-2.07 0-2.86zM5.41 20L4 18.59l7.72-7.72 1.47 1.35L5.41 20z\"/>\n",
              "  </svg>\n",
              "      </button>\n",
              "      \n",
              "  <style>\n",
              "    .colab-df-container {\n",
              "      display:flex;\n",
              "      flex-wrap:wrap;\n",
              "      gap: 12px;\n",
              "    }\n",
              "\n",
              "    .colab-df-convert {\n",
              "      background-color: #E8F0FE;\n",
              "      border: none;\n",
              "      border-radius: 50%;\n",
              "      cursor: pointer;\n",
              "      display: none;\n",
              "      fill: #1967D2;\n",
              "      height: 32px;\n",
              "      padding: 0 0 0 0;\n",
              "      width: 32px;\n",
              "    }\n",
              "\n",
              "    .colab-df-convert:hover {\n",
              "      background-color: #E2EBFA;\n",
              "      box-shadow: 0px 1px 2px rgba(60, 64, 67, 0.3), 0px 1px 3px 1px rgba(60, 64, 67, 0.15);\n",
              "      fill: #174EA6;\n",
              "    }\n",
              "\n",
              "    [theme=dark] .colab-df-convert {\n",
              "      background-color: #3B4455;\n",
              "      fill: #D2E3FC;\n",
              "    }\n",
              "\n",
              "    [theme=dark] .colab-df-convert:hover {\n",
              "      background-color: #434B5C;\n",
              "      box-shadow: 0px 1px 3px 1px rgba(0, 0, 0, 0.15);\n",
              "      filter: drop-shadow(0px 1px 2px rgba(0, 0, 0, 0.3));\n",
              "      fill: #FFFFFF;\n",
              "    }\n",
              "  </style>\n",
              "\n",
              "      <script>\n",
              "        const buttonEl =\n",
              "          document.querySelector('#df-91e63c63-6527-4c8a-aa6a-d3b9cd57e60c button.colab-df-convert');\n",
              "        buttonEl.style.display =\n",
              "          google.colab.kernel.accessAllowed ? 'block' : 'none';\n",
              "\n",
              "        async function convertToInteractive(key) {\n",
              "          const element = document.querySelector('#df-91e63c63-6527-4c8a-aa6a-d3b9cd57e60c');\n",
              "          const dataTable =\n",
              "            await google.colab.kernel.invokeFunction('convertToInteractive',\n",
              "                                                     [key], {});\n",
              "          if (!dataTable) return;\n",
              "\n",
              "          const docLinkHtml = 'Like what you see? Visit the ' +\n",
              "            '<a target=\"_blank\" href=https://colab.research.google.com/notebooks/data_table.ipynb>data table notebook</a>'\n",
              "            + ' to learn more about interactive tables.';\n",
              "          element.innerHTML = '';\n",
              "          dataTable['output_type'] = 'display_data';\n",
              "          await google.colab.output.renderOutput(dataTable, element);\n",
              "          const docLink = document.createElement('div');\n",
              "          docLink.innerHTML = docLinkHtml;\n",
              "          element.appendChild(docLink);\n",
              "        }\n",
              "      </script>\n",
              "    </div>\n",
              "  </div>\n",
              "  "
            ]
          },
          "metadata": {},
          "execution_count": 40
        }
      ]
    },
    {
      "cell_type": "code",
      "source": [
        "# For calculations let's convert the data into numpy arrays.\n",
        "input_data = df[['Open','High','Low','Close', 'Volume']].values\n",
        "targets = df['Return'].values"
      ],
      "metadata": {
        "id": "NtcGgySKG_2D"
      },
      "execution_count": 42,
      "outputs": []
    },
    {
      "cell_type": "code",
      "source": [
        "input_data.size"
      ],
      "metadata": {
        "colab": {
          "base_uri": "https://localhost:8080/"
        },
        "id": "8nno8T_QxsZQ",
        "outputId": "5484d782-9025-4199-b2e4-17258b3377d9"
      },
      "execution_count": 82,
      "outputs": [
        {
          "output_type": "execute_result",
          "data": {
            "text/plain": [
              "6295"
            ]
          },
          "metadata": {},
          "execution_count": 82
        }
      ]
    },
    {
      "cell_type": "markdown",
      "source": [
        "**OBSERVATION:** Because the volume and the price are in different ranges. This data will need to be normalized."
      ],
      "metadata": {
        "id": "joPmCO6P-b1Y"
      }
    },
    {
      "cell_type": "code",
      "source": [
        "# Let's set the training at about 2/3's of the data set instead of half like \n",
        "# we did before.\n",
        "split_percent=.67 \n",
        "\n",
        "# Hyper-parameter\n",
        "look_back=10 # We have been using 10 but we can expand to more or less. \n",
        "\n",
        "train_data=int((len(input_data) - look_back) * split_percent)"
      ],
      "metadata": {
        "id": "bQikvIszHAL9"
      },
      "execution_count": 62,
      "outputs": []
    },
    {
      "cell_type": "code",
      "source": [
        "# Input Dimensionality\n",
        "D = input_data.shape[1]\n",
        "D"
      ],
      "metadata": {
        "colab": {
          "base_uri": "https://localhost:8080/"
        },
        "id": "wGClcYnuHAew",
        "outputId": "c39f02fc-1e0c-4848-9e32-b40645edce10"
      },
      "execution_count": 59,
      "outputs": [
        {
          "output_type": "execute_result",
          "data": {
            "text/plain": [
              "5"
            ]
          },
          "metadata": {},
          "execution_count": 59
        }
      ]
    },
    {
      "cell_type": "code",
      "source": [
        "train_data"
      ],
      "metadata": {
        "colab": {
          "base_uri": "https://localhost:8080/"
        },
        "id": "uQxtNRvfCLxZ",
        "outputId": "6f23c8d8-8342-460c-ae7c-edc0f406668c"
      },
      "execution_count": 81,
      "outputs": [
        {
          "output_type": "execute_result",
          "data": {
            "text/plain": [
              "836"
            ]
          },
          "metadata": {},
          "execution_count": 81
        }
      ]
    },
    {
      "cell_type": "code",
      "source": [
        "# Setting the first part of the input_data array as training data.\n",
        "train_data_input=input_data[:train_data + look_back - 1]\n",
        "train_data_input"
      ],
      "metadata": {
        "colab": {
          "base_uri": "https://localhost:8080/"
        },
        "id": "xAmerQRaHAyw",
        "outputId": "6fa426dc-c27f-4ee9-aae3-af195af2c8d8"
      },
      "execution_count": 64,
      "outputs": [
        {
          "output_type": "execute_result",
          "data": {
            "text/plain": [
              "array([[2.17986680e+01, 2.23480000e+01, 2.15313340e+01, 2.23413330e+01,\n",
              "        7.63920000e+07],\n",
              "       [2.21593320e+01, 2.25166660e+01, 2.19526670e+01, 2.22233330e+01,\n",
              "        5.73570000e+07],\n",
              "       [2.22500000e+01, 2.24246670e+01, 2.18020000e+01, 2.18799990e+01,\n",
              "        6.42855000e+07],\n",
              "       ...,\n",
              "       [2.21423340e+02, 2.21899994e+02, 2.12773331e+02, 2.14883331e+02,\n",
              "        5.63760000e+07],\n",
              "       [2.09456665e+02, 2.18143326e+02, 2.06820007e+02, 2.17603333e+02,\n",
              "        6.83199000e+07],\n",
              "       [2.17726669e+02, 2.19636673e+02, 2.14896667e+02, 2.18983337e+02,\n",
              "        5.44215000e+07]])"
            ]
          },
          "metadata": {},
          "execution_count": 64
        }
      ]
    },
    {
      "cell_type": "code",
      "source": [
        "train_data_input.size"
      ],
      "metadata": {
        "colab": {
          "base_uri": "https://localhost:8080/"
        },
        "id": "wrlZuJAjxWGW",
        "outputId": "10b6e26d-8438-418c-87ff-ad66b7d06585"
      },
      "execution_count": 79,
      "outputs": [
        {
          "output_type": "execute_result",
          "data": {
            "text/plain": [
              "4225"
            ]
          },
          "metadata": {},
          "execution_count": 79
        }
      ]
    },
    {
      "cell_type": "code",
      "source": [
        "# Scaling the data\n",
        "# Instantiate the scaler model\n",
        "scaler_model=StandardScaler()\n",
        "\n",
        "# Train the model with the train data\n",
        "scaler_model.fit(train_data_input)\n",
        "\n",
        "# Standarize the whole data set\n",
        "input_data=scaler_model.transform(input_data)"
      ],
      "metadata": {
        "id": "CEPzMC_FE8j8"
      },
      "execution_count": 67,
      "outputs": []
    },
    {
      "cell_type": "markdown",
      "source": [
        "### Create Xtrain and Ytrain data"
      ],
      "metadata": {
        "id": "JU7wTp_1t1IO"
      }
    },
    {
      "cell_type": "code",
      "source": [
        "# Initializing a 3-D array with zeros with train_data layers,\n",
        "# 10 rows and 5 columns\n",
        "Xtrain=np.zeros((train_data, look_back, D))\n",
        "Ytrain=np.zeros(train_data)\n",
        "\n",
        "for t_data in range(train_data):\n",
        "  Xtrain[t_data, :, :] = input_data[t_data:t_data+T]\n",
        "  # Binary: true if > 0; false otherwise.\n",
        "  Ytrain[t_data] = (targets[t_data+look_back] > 0) \n"
      ],
      "metadata": {
        "id": "yf-gakLbE_cz"
      },
      "execution_count": 78,
      "outputs": []
    },
    {
      "cell_type": "markdown",
      "source": [
        "### Create Xtest and Ytest data"
      ],
      "metadata": {
        "id": "fNuBRvaet8KH"
      }
    },
    {
      "cell_type": "code",
      "source": [
        "# For readibility creating a new var to hold the result of \n",
        "# input_data - look_back.\n",
        "Ntrain_data = len(input_data) - look_back # = 1249\n",
        "# Initialize the arrays with zeros like before\n",
        "Xtest=np.zeros((Ntrain_data - train_data, look_back, D))\n",
        "Ytest=np.zeros(Ntrain_data - train_data)\n",
        "\n",
        "# We will be indexing here as we populate the data from input_data\n",
        "# Ntrain_data - train_data = 413\n",
        "\n",
        "# From zero to 413\n",
        "for n in range(Ntrain_data - train_data):\n",
        "  # starts at train_data value\n",
        "  i = n + train_data\n",
        "  # The comma selecting specific cols to assign data to from input_data\n",
        "  Xtest[n, :, :] = input_data[i:i+look_back]\n",
        "  Ytest[n] = (targets[i+look_back] > 0)"
      ],
      "metadata": {
        "id": "q-4ybfI9E_wG"
      },
      "execution_count": 89,
      "outputs": []
    },
    {
      "cell_type": "markdown",
      "source": [
        "### Create the RNN model\n"
      ],
      "metadata": {
        "id": "jLHBPTdS6yTM"
      }
    },
    {
      "cell_type": "code",
      "source": [
        "# We'll use the functional API again.\n",
        "inputs = Input(shape=(look_back, D))\n",
        "features = LSTM(50)(inputs)\n",
        "outputs = Dense(1, activation='sigmoid')(features)\n",
        "rnn_model = Model(inputs=inputs, outputs=outputs)\n",
        "rnn_model.compile(\n",
        "    loss='binary_crossentropy', # This is classification so no mse.\n",
        "    optimizer=Adam(learning_rate=0.001),\n",
        "    metrics=['accuracy']\n",
        ")\n"
      ],
      "metadata": {
        "id": "6Lola8kd0O-5"
      },
      "execution_count": 96,
      "outputs": []
    },
    {
      "cell_type": "code",
      "source": [
        "inputs.shape"
      ],
      "metadata": {
        "colab": {
          "base_uri": "https://localhost:8080/"
        },
        "id": "B5xa4McQ0SgQ",
        "outputId": "1a6cdad0-5ff2-4663-b9a3-4929153bf078"
      },
      "execution_count": 97,
      "outputs": [
        {
          "output_type": "execute_result",
          "data": {
            "text/plain": [
              "TensorShape([None, 10, 5])"
            ]
          },
          "metadata": {},
          "execution_count": 97
        }
      ]
    },
    {
      "cell_type": "code",
      "source": [
        "inputs.dtype"
      ],
      "metadata": {
        "colab": {
          "base_uri": "https://localhost:8080/"
        },
        "id": "FPMn3DaI0I49",
        "outputId": "1743aadf-4141-4340-fc9a-492ac0fb6d67"
      },
      "execution_count": 98,
      "outputs": [
        {
          "output_type": "execute_result",
          "data": {
            "text/plain": [
              "tf.float32"
            ]
          },
          "metadata": {},
          "execution_count": 98
        }
      ]
    },
    {
      "cell_type": "code",
      "source": [
        "features.shape"
      ],
      "metadata": {
        "colab": {
          "base_uri": "https://localhost:8080/"
        },
        "id": "rKyAoZDaFAMI",
        "outputId": "2cacf407-4355-4c66-e3ff-f27e98deb14a"
      },
      "execution_count": 99,
      "outputs": [
        {
          "output_type": "execute_result",
          "data": {
            "text/plain": [
              "TensorShape([None, 50])"
            ]
          },
          "metadata": {},
          "execution_count": 99
        }
      ]
    },
    {
      "cell_type": "code",
      "source": [
        "rnn_model.summary()"
      ],
      "metadata": {
        "colab": {
          "base_uri": "https://localhost:8080/"
        },
        "id": "S5oBIjJcE821",
        "outputId": "31832f7e-78d6-4e49-d5d5-f74901d8dd39"
      },
      "execution_count": 100,
      "outputs": [
        {
          "output_type": "stream",
          "name": "stdout",
          "text": [
            "Model: \"model_3\"\n",
            "_________________________________________________________________\n",
            " Layer (type)                Output Shape              Param #   \n",
            "=================================================================\n",
            " input_4 (InputLayer)        [(None, 10, 5)]           0         \n",
            "                                                                 \n",
            " lstm_5 (LSTM)               (None, 50)                11200     \n",
            "                                                                 \n",
            " dense_3 (Dense)             (None, 1)                 51        \n",
            "                                                                 \n",
            "=================================================================\n",
            "Total params: 11,251\n",
            "Trainable params: 11,251\n",
            "Non-trainable params: 0\n",
            "_________________________________________________________________\n"
          ]
        }
      ]
    },
    {
      "cell_type": "markdown",
      "source": [
        "### Training the RNN model"
      ],
      "metadata": {
        "id": "k40wrhIuCo5p"
      }
    },
    {
      "cell_type": "code",
      "source": [
        "fit_rnn = rnn_model.fit(\n",
        "    Xtrain, Ytrain,\n",
        "    batch_size=32,\n",
        "    epochs=300,\n",
        "    validation_data=(Xtest, Ytest),\n",
        ")"
      ],
      "metadata": {
        "colab": {
          "base_uri": "https://localhost:8080/"
        },
        "id": "zBa5fncXCnr6",
        "outputId": "472b2651-272a-4d55-acfd-9faa9258799f"
      },
      "execution_count": 103,
      "outputs": [
        {
          "output_type": "stream",
          "name": "stdout",
          "text": [
            "Epoch 1/300\n",
            "27/27 [==============================] - 5s 27ms/step - loss: 0.6954 - accuracy: 0.5203 - val_loss: 0.6916 - val_accuracy: 0.5327\n",
            "Epoch 2/300\n",
            "27/27 [==============================] - 0s 8ms/step - loss: 0.6998 - accuracy: 0.5179 - val_loss: 0.7012 - val_accuracy: 0.4673\n",
            "Epoch 3/300\n",
            "27/27 [==============================] - 0s 7ms/step - loss: 0.6956 - accuracy: 0.4988 - val_loss: 0.6910 - val_accuracy: 0.5327\n",
            "Epoch 4/300\n",
            "27/27 [==============================] - 0s 7ms/step - loss: 0.6927 - accuracy: 0.5203 - val_loss: 0.6916 - val_accuracy: 0.5327\n",
            "Epoch 5/300\n",
            "27/27 [==============================] - 0s 7ms/step - loss: 0.6936 - accuracy: 0.4868 - val_loss: 0.6911 - val_accuracy: 0.5327\n",
            "Epoch 6/300\n",
            "27/27 [==============================] - 0s 8ms/step - loss: 0.6939 - accuracy: 0.4964 - val_loss: 0.6929 - val_accuracy: 0.5327\n",
            "Epoch 7/300\n",
            "27/27 [==============================] - 0s 7ms/step - loss: 0.6938 - accuracy: 0.5203 - val_loss: 0.6910 - val_accuracy: 0.5327\n",
            "Epoch 8/300\n",
            "27/27 [==============================] - 0s 7ms/step - loss: 0.6930 - accuracy: 0.5203 - val_loss: 0.6914 - val_accuracy: 0.5327\n",
            "Epoch 9/300\n",
            "27/27 [==============================] - 0s 9ms/step - loss: 0.6933 - accuracy: 0.4749 - val_loss: 0.6912 - val_accuracy: 0.5327\n",
            "Epoch 10/300\n",
            "27/27 [==============================] - 0s 9ms/step - loss: 0.6928 - accuracy: 0.5203 - val_loss: 0.6913 - val_accuracy: 0.5327\n",
            "Epoch 11/300\n",
            "27/27 [==============================] - 0s 9ms/step - loss: 0.6930 - accuracy: 0.5203 - val_loss: 0.6920 - val_accuracy: 0.5327\n",
            "Epoch 12/300\n",
            "27/27 [==============================] - 0s 7ms/step - loss: 0.6936 - accuracy: 0.5203 - val_loss: 0.6920 - val_accuracy: 0.5327\n",
            "Epoch 13/300\n",
            "27/27 [==============================] - 0s 8ms/step - loss: 0.6947 - accuracy: 0.4868 - val_loss: 0.6915 - val_accuracy: 0.5327\n",
            "Epoch 14/300\n",
            "27/27 [==============================] - 0s 9ms/step - loss: 0.6954 - accuracy: 0.5203 - val_loss: 0.6919 - val_accuracy: 0.5327\n",
            "Epoch 15/300\n",
            "27/27 [==============================] - 0s 8ms/step - loss: 0.6940 - accuracy: 0.4916 - val_loss: 0.6910 - val_accuracy: 0.5327\n",
            "Epoch 16/300\n",
            "27/27 [==============================] - 0s 7ms/step - loss: 0.6952 - accuracy: 0.5203 - val_loss: 0.6912 - val_accuracy: 0.5327\n",
            "Epoch 17/300\n",
            "27/27 [==============================] - 0s 9ms/step - loss: 0.6950 - accuracy: 0.5203 - val_loss: 0.6920 - val_accuracy: 0.5327\n",
            "Epoch 18/300\n",
            "27/27 [==============================] - 0s 7ms/step - loss: 0.6965 - accuracy: 0.4844 - val_loss: 0.6927 - val_accuracy: 0.5327\n",
            "Epoch 19/300\n",
            "27/27 [==============================] - 0s 9ms/step - loss: 0.6931 - accuracy: 0.5203 - val_loss: 0.6911 - val_accuracy: 0.5327\n",
            "Epoch 20/300\n",
            "27/27 [==============================] - 0s 9ms/step - loss: 0.6938 - accuracy: 0.5203 - val_loss: 0.6912 - val_accuracy: 0.5327\n",
            "Epoch 21/300\n",
            "27/27 [==============================] - 0s 9ms/step - loss: 0.6929 - accuracy: 0.5203 - val_loss: 0.6912 - val_accuracy: 0.5327\n",
            "Epoch 22/300\n",
            "27/27 [==============================] - 0s 7ms/step - loss: 0.6928 - accuracy: 0.5203 - val_loss: 0.6911 - val_accuracy: 0.5327\n",
            "Epoch 23/300\n",
            "27/27 [==============================] - 0s 8ms/step - loss: 0.6927 - accuracy: 0.5203 - val_loss: 0.6910 - val_accuracy: 0.5327\n",
            "Epoch 24/300\n",
            "27/27 [==============================] - 0s 8ms/step - loss: 0.6932 - accuracy: 0.5203 - val_loss: 0.6910 - val_accuracy: 0.5327\n",
            "Epoch 25/300\n",
            "27/27 [==============================] - 0s 7ms/step - loss: 0.6927 - accuracy: 0.5203 - val_loss: 0.6921 - val_accuracy: 0.5327\n",
            "Epoch 26/300\n",
            "27/27 [==============================] - 0s 7ms/step - loss: 0.6928 - accuracy: 0.5203 - val_loss: 0.6915 - val_accuracy: 0.5327\n",
            "Epoch 27/300\n",
            "27/27 [==============================] - 0s 7ms/step - loss: 0.6937 - accuracy: 0.5203 - val_loss: 0.6911 - val_accuracy: 0.5327\n",
            "Epoch 28/300\n",
            "27/27 [==============================] - 0s 9ms/step - loss: 0.6927 - accuracy: 0.5203 - val_loss: 0.6920 - val_accuracy: 0.5327\n",
            "Epoch 29/300\n",
            "27/27 [==============================] - 0s 7ms/step - loss: 0.6928 - accuracy: 0.5203 - val_loss: 0.6911 - val_accuracy: 0.5327\n",
            "Epoch 30/300\n",
            "27/27 [==============================] - 0s 8ms/step - loss: 0.6932 - accuracy: 0.5203 - val_loss: 0.6914 - val_accuracy: 0.5327\n",
            "Epoch 31/300\n",
            "27/27 [==============================] - 0s 8ms/step - loss: 0.6927 - accuracy: 0.5203 - val_loss: 0.6912 - val_accuracy: 0.5327\n",
            "Epoch 32/300\n",
            "27/27 [==============================] - 0s 12ms/step - loss: 0.6930 - accuracy: 0.5203 - val_loss: 0.6912 - val_accuracy: 0.5327\n",
            "Epoch 33/300\n",
            "27/27 [==============================] - 0s 11ms/step - loss: 0.6940 - accuracy: 0.5203 - val_loss: 0.6912 - val_accuracy: 0.5327\n",
            "Epoch 34/300\n",
            "27/27 [==============================] - 0s 11ms/step - loss: 0.6933 - accuracy: 0.4988 - val_loss: 0.6917 - val_accuracy: 0.5327\n",
            "Epoch 35/300\n",
            "27/27 [==============================] - 0s 11ms/step - loss: 0.6926 - accuracy: 0.5203 - val_loss: 0.6914 - val_accuracy: 0.5327\n",
            "Epoch 36/300\n",
            "27/27 [==============================] - 0s 12ms/step - loss: 0.6936 - accuracy: 0.5203 - val_loss: 0.6910 - val_accuracy: 0.5327\n",
            "Epoch 37/300\n",
            "27/27 [==============================] - 0s 13ms/step - loss: 0.6936 - accuracy: 0.4892 - val_loss: 0.6933 - val_accuracy: 0.4673\n",
            "Epoch 38/300\n",
            "27/27 [==============================] - 0s 13ms/step - loss: 0.6925 - accuracy: 0.5227 - val_loss: 0.6912 - val_accuracy: 0.5327\n",
            "Epoch 39/300\n",
            "27/27 [==============================] - 0s 16ms/step - loss: 0.6928 - accuracy: 0.5203 - val_loss: 0.6912 - val_accuracy: 0.5327\n",
            "Epoch 40/300\n",
            "27/27 [==============================] - 0s 17ms/step - loss: 0.6929 - accuracy: 0.5203 - val_loss: 0.6916 - val_accuracy: 0.5327\n",
            "Epoch 41/300\n",
            "27/27 [==============================] - 0s 13ms/step - loss: 0.6927 - accuracy: 0.5203 - val_loss: 0.6914 - val_accuracy: 0.5327\n",
            "Epoch 42/300\n",
            "27/27 [==============================] - 0s 15ms/step - loss: 0.6926 - accuracy: 0.5203 - val_loss: 0.6911 - val_accuracy: 0.5327\n",
            "Epoch 43/300\n",
            "27/27 [==============================] - 0s 16ms/step - loss: 0.6932 - accuracy: 0.5203 - val_loss: 0.6921 - val_accuracy: 0.5327\n",
            "Epoch 44/300\n",
            "27/27 [==============================] - 0s 16ms/step - loss: 0.6922 - accuracy: 0.5203 - val_loss: 0.6910 - val_accuracy: 0.5327\n",
            "Epoch 45/300\n",
            "27/27 [==============================] - 0s 17ms/step - loss: 0.6933 - accuracy: 0.5203 - val_loss: 0.6910 - val_accuracy: 0.5327\n",
            "Epoch 46/300\n",
            "27/27 [==============================] - 0s 16ms/step - loss: 0.6931 - accuracy: 0.4940 - val_loss: 0.6923 - val_accuracy: 0.5327\n",
            "Epoch 47/300\n",
            "27/27 [==============================] - 0s 13ms/step - loss: 0.6931 - accuracy: 0.5203 - val_loss: 0.6916 - val_accuracy: 0.5327\n",
            "Epoch 48/300\n",
            "27/27 [==============================] - 0s 12ms/step - loss: 0.6929 - accuracy: 0.5203 - val_loss: 0.6915 - val_accuracy: 0.5327\n",
            "Epoch 49/300\n",
            "27/27 [==============================] - 0s 12ms/step - loss: 0.6922 - accuracy: 0.5203 - val_loss: 0.6910 - val_accuracy: 0.5327\n",
            "Epoch 50/300\n",
            "27/27 [==============================] - 0s 12ms/step - loss: 0.6931 - accuracy: 0.5203 - val_loss: 0.6911 - val_accuracy: 0.5327\n",
            "Epoch 51/300\n",
            "27/27 [==============================] - 0s 10ms/step - loss: 0.6934 - accuracy: 0.4964 - val_loss: 0.6919 - val_accuracy: 0.5327\n",
            "Epoch 52/300\n",
            "27/27 [==============================] - 0s 8ms/step - loss: 0.6926 - accuracy: 0.5203 - val_loss: 0.6914 - val_accuracy: 0.5327\n",
            "Epoch 53/300\n",
            "27/27 [==============================] - 0s 8ms/step - loss: 0.6929 - accuracy: 0.5203 - val_loss: 0.6911 - val_accuracy: 0.5327\n",
            "Epoch 54/300\n",
            "27/27 [==============================] - 0s 9ms/step - loss: 0.6927 - accuracy: 0.5203 - val_loss: 0.6913 - val_accuracy: 0.5327\n",
            "Epoch 55/300\n",
            "27/27 [==============================] - 0s 8ms/step - loss: 0.6928 - accuracy: 0.5203 - val_loss: 0.6918 - val_accuracy: 0.5327\n",
            "Epoch 56/300\n",
            "27/27 [==============================] - 0s 7ms/step - loss: 0.6927 - accuracy: 0.5203 - val_loss: 0.6914 - val_accuracy: 0.5327\n",
            "Epoch 57/300\n",
            "27/27 [==============================] - 0s 8ms/step - loss: 0.6926 - accuracy: 0.5203 - val_loss: 0.6915 - val_accuracy: 0.5327\n",
            "Epoch 58/300\n",
            "27/27 [==============================] - 0s 7ms/step - loss: 0.6929 - accuracy: 0.5203 - val_loss: 0.6911 - val_accuracy: 0.5327\n",
            "Epoch 59/300\n",
            "27/27 [==============================] - 0s 8ms/step - loss: 0.6925 - accuracy: 0.5203 - val_loss: 0.6915 - val_accuracy: 0.5327\n",
            "Epoch 60/300\n",
            "27/27 [==============================] - 0s 9ms/step - loss: 0.6927 - accuracy: 0.5203 - val_loss: 0.6912 - val_accuracy: 0.5327\n",
            "Epoch 61/300\n",
            "27/27 [==============================] - 0s 8ms/step - loss: 0.6933 - accuracy: 0.5203 - val_loss: 0.6916 - val_accuracy: 0.5327\n",
            "Epoch 62/300\n",
            "27/27 [==============================] - 0s 9ms/step - loss: 0.6930 - accuracy: 0.5203 - val_loss: 0.6912 - val_accuracy: 0.5327\n",
            "Epoch 63/300\n",
            "27/27 [==============================] - 0s 9ms/step - loss: 0.6929 - accuracy: 0.5203 - val_loss: 0.6919 - val_accuracy: 0.5327\n",
            "Epoch 64/300\n",
            "27/27 [==============================] - 0s 8ms/step - loss: 0.6929 - accuracy: 0.5203 - val_loss: 0.6913 - val_accuracy: 0.5327\n",
            "Epoch 65/300\n",
            "27/27 [==============================] - 0s 9ms/step - loss: 0.6927 - accuracy: 0.5203 - val_loss: 0.6910 - val_accuracy: 0.5327\n",
            "Epoch 66/300\n",
            "27/27 [==============================] - 0s 7ms/step - loss: 0.6927 - accuracy: 0.5203 - val_loss: 0.6911 - val_accuracy: 0.5327\n",
            "Epoch 67/300\n",
            "27/27 [==============================] - 0s 7ms/step - loss: 0.6927 - accuracy: 0.5203 - val_loss: 0.6914 - val_accuracy: 0.5327\n",
            "Epoch 68/300\n",
            "27/27 [==============================] - 0s 8ms/step - loss: 0.6928 - accuracy: 0.5203 - val_loss: 0.6911 - val_accuracy: 0.5327\n",
            "Epoch 69/300\n",
            "27/27 [==============================] - 0s 8ms/step - loss: 0.6927 - accuracy: 0.5203 - val_loss: 0.6910 - val_accuracy: 0.5327\n",
            "Epoch 70/300\n",
            "27/27 [==============================] - 0s 9ms/step - loss: 0.6933 - accuracy: 0.5203 - val_loss: 0.6911 - val_accuracy: 0.5327\n",
            "Epoch 71/300\n",
            "27/27 [==============================] - 0s 9ms/step - loss: 0.6935 - accuracy: 0.5203 - val_loss: 0.6916 - val_accuracy: 0.5327\n",
            "Epoch 72/300\n",
            "27/27 [==============================] - 0s 9ms/step - loss: 0.6941 - accuracy: 0.5203 - val_loss: 0.6911 - val_accuracy: 0.5327\n",
            "Epoch 73/300\n",
            "27/27 [==============================] - 0s 8ms/step - loss: 0.6929 - accuracy: 0.5203 - val_loss: 0.6920 - val_accuracy: 0.5327\n",
            "Epoch 74/300\n",
            "27/27 [==============================] - 0s 9ms/step - loss: 0.6926 - accuracy: 0.5203 - val_loss: 0.6914 - val_accuracy: 0.5327\n",
            "Epoch 75/300\n",
            "27/27 [==============================] - 0s 9ms/step - loss: 0.6928 - accuracy: 0.5203 - val_loss: 0.6914 - val_accuracy: 0.5327\n",
            "Epoch 76/300\n",
            "27/27 [==============================] - 0s 8ms/step - loss: 0.6931 - accuracy: 0.5203 - val_loss: 0.6910 - val_accuracy: 0.5327\n",
            "Epoch 77/300\n",
            "27/27 [==============================] - 0s 7ms/step - loss: 0.6924 - accuracy: 0.5203 - val_loss: 0.6921 - val_accuracy: 0.5327\n",
            "Epoch 78/300\n",
            "27/27 [==============================] - 0s 8ms/step - loss: 0.6925 - accuracy: 0.5203 - val_loss: 0.6913 - val_accuracy: 0.5327\n",
            "Epoch 79/300\n",
            "27/27 [==============================] - 0s 7ms/step - loss: 0.6931 - accuracy: 0.5203 - val_loss: 0.6913 - val_accuracy: 0.5327\n",
            "Epoch 80/300\n",
            "27/27 [==============================] - 0s 8ms/step - loss: 0.6925 - accuracy: 0.5203 - val_loss: 0.6912 - val_accuracy: 0.5327\n",
            "Epoch 81/300\n",
            "27/27 [==============================] - 0s 8ms/step - loss: 0.6928 - accuracy: 0.5203 - val_loss: 0.6916 - val_accuracy: 0.5327\n",
            "Epoch 82/300\n",
            "27/27 [==============================] - 0s 9ms/step - loss: 0.6926 - accuracy: 0.5203 - val_loss: 0.6916 - val_accuracy: 0.5327\n",
            "Epoch 83/300\n",
            "27/27 [==============================] - 0s 7ms/step - loss: 0.6931 - accuracy: 0.5203 - val_loss: 0.6912 - val_accuracy: 0.5327\n",
            "Epoch 84/300\n",
            "27/27 [==============================] - 0s 8ms/step - loss: 0.6925 - accuracy: 0.5203 - val_loss: 0.6915 - val_accuracy: 0.5327\n",
            "Epoch 85/300\n",
            "27/27 [==============================] - 0s 10ms/step - loss: 0.6925 - accuracy: 0.5203 - val_loss: 0.6910 - val_accuracy: 0.5327\n",
            "Epoch 86/300\n",
            "27/27 [==============================] - 0s 9ms/step - loss: 0.6925 - accuracy: 0.5203 - val_loss: 0.6913 - val_accuracy: 0.5327\n",
            "Epoch 87/300\n",
            "27/27 [==============================] - 0s 9ms/step - loss: 0.6928 - accuracy: 0.5203 - val_loss: 0.6916 - val_accuracy: 0.5327\n",
            "Epoch 88/300\n",
            "27/27 [==============================] - 0s 9ms/step - loss: 0.6926 - accuracy: 0.5203 - val_loss: 0.6913 - val_accuracy: 0.5327\n",
            "Epoch 89/300\n",
            "27/27 [==============================] - 0s 7ms/step - loss: 0.6934 - accuracy: 0.5203 - val_loss: 0.6910 - val_accuracy: 0.5327\n",
            "Epoch 90/300\n",
            "27/27 [==============================] - 0s 11ms/step - loss: 0.6923 - accuracy: 0.5203 - val_loss: 0.6916 - val_accuracy: 0.5327\n",
            "Epoch 91/300\n",
            "27/27 [==============================] - 0s 11ms/step - loss: 0.6934 - accuracy: 0.5203 - val_loss: 0.6919 - val_accuracy: 0.5327\n",
            "Epoch 92/300\n",
            "27/27 [==============================] - 0s 11ms/step - loss: 0.6956 - accuracy: 0.5203 - val_loss: 0.6910 - val_accuracy: 0.5327\n",
            "Epoch 93/300\n",
            "27/27 [==============================] - 0s 12ms/step - loss: 0.6923 - accuracy: 0.5203 - val_loss: 0.6917 - val_accuracy: 0.5327\n",
            "Epoch 94/300\n",
            "27/27 [==============================] - 0s 11ms/step - loss: 0.6928 - accuracy: 0.5203 - val_loss: 0.6913 - val_accuracy: 0.5327\n",
            "Epoch 95/300\n",
            "27/27 [==============================] - 0s 10ms/step - loss: 0.6927 - accuracy: 0.5203 - val_loss: 0.6912 - val_accuracy: 0.5327\n",
            "Epoch 96/300\n",
            "27/27 [==============================] - 0s 11ms/step - loss: 0.6927 - accuracy: 0.5203 - val_loss: 0.6915 - val_accuracy: 0.5327\n",
            "Epoch 97/300\n",
            "27/27 [==============================] - 0s 11ms/step - loss: 0.6929 - accuracy: 0.5203 - val_loss: 0.6911 - val_accuracy: 0.5327\n",
            "Epoch 98/300\n",
            "27/27 [==============================] - 0s 12ms/step - loss: 0.6940 - accuracy: 0.5203 - val_loss: 0.6920 - val_accuracy: 0.5327\n",
            "Epoch 99/300\n",
            "27/27 [==============================] - 0s 12ms/step - loss: 0.6926 - accuracy: 0.5203 - val_loss: 0.6914 - val_accuracy: 0.5327\n",
            "Epoch 100/300\n",
            "27/27 [==============================] - 0s 12ms/step - loss: 0.6923 - accuracy: 0.5203 - val_loss: 0.6911 - val_accuracy: 0.5327\n",
            "Epoch 101/300\n",
            "27/27 [==============================] - 0s 12ms/step - loss: 0.6924 - accuracy: 0.5203 - val_loss: 0.6913 - val_accuracy: 0.5327\n",
            "Epoch 102/300\n",
            "27/27 [==============================] - 0s 12ms/step - loss: 0.6933 - accuracy: 0.5203 - val_loss: 0.6914 - val_accuracy: 0.5327\n",
            "Epoch 103/300\n",
            "27/27 [==============================] - 0s 8ms/step - loss: 0.6925 - accuracy: 0.5203 - val_loss: 0.6913 - val_accuracy: 0.5327\n",
            "Epoch 104/300\n",
            "27/27 [==============================] - 0s 10ms/step - loss: 0.6929 - accuracy: 0.5203 - val_loss: 0.6919 - val_accuracy: 0.5327\n",
            "Epoch 105/300\n",
            "27/27 [==============================] - 0s 8ms/step - loss: 0.6928 - accuracy: 0.5203 - val_loss: 0.6911 - val_accuracy: 0.5327\n",
            "Epoch 106/300\n",
            "27/27 [==============================] - 0s 9ms/step - loss: 0.6921 - accuracy: 0.5203 - val_loss: 0.6917 - val_accuracy: 0.5327\n",
            "Epoch 107/300\n",
            "27/27 [==============================] - 0s 7ms/step - loss: 0.6927 - accuracy: 0.5203 - val_loss: 0.6916 - val_accuracy: 0.5327\n",
            "Epoch 108/300\n",
            "27/27 [==============================] - 0s 9ms/step - loss: 0.6926 - accuracy: 0.5203 - val_loss: 0.6916 - val_accuracy: 0.5327\n",
            "Epoch 109/300\n",
            "27/27 [==============================] - 0s 8ms/step - loss: 0.6925 - accuracy: 0.5203 - val_loss: 0.6916 - val_accuracy: 0.5327\n",
            "Epoch 110/300\n",
            "27/27 [==============================] - 0s 9ms/step - loss: 0.6926 - accuracy: 0.5203 - val_loss: 0.6912 - val_accuracy: 0.5327\n",
            "Epoch 111/300\n",
            "27/27 [==============================] - 0s 7ms/step - loss: 0.6924 - accuracy: 0.5203 - val_loss: 0.6911 - val_accuracy: 0.5327\n",
            "Epoch 112/300\n",
            "27/27 [==============================] - 0s 8ms/step - loss: 0.6925 - accuracy: 0.5203 - val_loss: 0.6912 - val_accuracy: 0.5327\n",
            "Epoch 113/300\n",
            "27/27 [==============================] - 0s 7ms/step - loss: 0.6924 - accuracy: 0.5203 - val_loss: 0.6912 - val_accuracy: 0.5327\n",
            "Epoch 114/300\n",
            "27/27 [==============================] - 0s 8ms/step - loss: 0.6924 - accuracy: 0.5203 - val_loss: 0.6912 - val_accuracy: 0.5327\n",
            "Epoch 115/300\n",
            "27/27 [==============================] - 0s 7ms/step - loss: 0.6926 - accuracy: 0.5203 - val_loss: 0.6914 - val_accuracy: 0.5327\n",
            "Epoch 116/300\n",
            "27/27 [==============================] - 0s 9ms/step - loss: 0.6925 - accuracy: 0.5203 - val_loss: 0.6915 - val_accuracy: 0.5327\n",
            "Epoch 117/300\n",
            "27/27 [==============================] - 0s 8ms/step - loss: 0.6924 - accuracy: 0.5203 - val_loss: 0.6917 - val_accuracy: 0.5327\n",
            "Epoch 118/300\n",
            "27/27 [==============================] - 0s 9ms/step - loss: 0.6929 - accuracy: 0.5203 - val_loss: 0.6912 - val_accuracy: 0.5327\n",
            "Epoch 119/300\n",
            "27/27 [==============================] - 0s 7ms/step - loss: 0.6926 - accuracy: 0.5203 - val_loss: 0.6920 - val_accuracy: 0.5327\n",
            "Epoch 120/300\n",
            "27/27 [==============================] - 0s 7ms/step - loss: 0.6921 - accuracy: 0.5203 - val_loss: 0.6911 - val_accuracy: 0.5327\n",
            "Epoch 121/300\n",
            "27/27 [==============================] - 0s 8ms/step - loss: 0.6926 - accuracy: 0.5203 - val_loss: 0.6915 - val_accuracy: 0.5327\n",
            "Epoch 122/300\n",
            "27/27 [==============================] - 0s 7ms/step - loss: 0.6927 - accuracy: 0.5203 - val_loss: 0.6920 - val_accuracy: 0.5327\n",
            "Epoch 123/300\n",
            "27/27 [==============================] - 0s 7ms/step - loss: 0.6927 - accuracy: 0.5203 - val_loss: 0.6916 - val_accuracy: 0.5327\n",
            "Epoch 124/300\n",
            "27/27 [==============================] - 0s 7ms/step - loss: 0.6926 - accuracy: 0.5203 - val_loss: 0.6911 - val_accuracy: 0.5327\n",
            "Epoch 125/300\n",
            "27/27 [==============================] - 0s 7ms/step - loss: 0.6926 - accuracy: 0.5203 - val_loss: 0.6916 - val_accuracy: 0.5327\n",
            "Epoch 126/300\n",
            "27/27 [==============================] - 0s 9ms/step - loss: 0.6925 - accuracy: 0.5203 - val_loss: 0.6919 - val_accuracy: 0.5327\n",
            "Epoch 127/300\n",
            "27/27 [==============================] - 0s 9ms/step - loss: 0.6926 - accuracy: 0.5203 - val_loss: 0.6913 - val_accuracy: 0.5327\n",
            "Epoch 128/300\n",
            "27/27 [==============================] - 0s 7ms/step - loss: 0.6925 - accuracy: 0.5203 - val_loss: 0.6912 - val_accuracy: 0.5327\n",
            "Epoch 129/300\n",
            "27/27 [==============================] - 0s 7ms/step - loss: 0.6929 - accuracy: 0.5203 - val_loss: 0.6914 - val_accuracy: 0.5327\n",
            "Epoch 130/300\n",
            "27/27 [==============================] - 0s 7ms/step - loss: 0.6926 - accuracy: 0.5203 - val_loss: 0.6912 - val_accuracy: 0.5327\n",
            "Epoch 131/300\n",
            "27/27 [==============================] - 0s 8ms/step - loss: 0.6931 - accuracy: 0.5203 - val_loss: 0.6910 - val_accuracy: 0.5327\n",
            "Epoch 132/300\n",
            "27/27 [==============================] - 0s 7ms/step - loss: 0.6923 - accuracy: 0.5203 - val_loss: 0.6913 - val_accuracy: 0.5327\n",
            "Epoch 133/300\n",
            "27/27 [==============================] - 0s 8ms/step - loss: 0.6924 - accuracy: 0.5203 - val_loss: 0.6917 - val_accuracy: 0.5327\n",
            "Epoch 134/300\n",
            "27/27 [==============================] - 0s 8ms/step - loss: 0.6924 - accuracy: 0.5203 - val_loss: 0.6911 - val_accuracy: 0.5327\n",
            "Epoch 135/300\n",
            "27/27 [==============================] - 0s 9ms/step - loss: 0.6924 - accuracy: 0.5203 - val_loss: 0.6913 - val_accuracy: 0.5327\n",
            "Epoch 136/300\n",
            "27/27 [==============================] - 0s 8ms/step - loss: 0.6927 - accuracy: 0.5203 - val_loss: 0.6924 - val_accuracy: 0.5327\n",
            "Epoch 137/300\n",
            "27/27 [==============================] - 0s 7ms/step - loss: 0.6927 - accuracy: 0.5203 - val_loss: 0.6915 - val_accuracy: 0.5327\n",
            "Epoch 138/300\n",
            "27/27 [==============================] - 0s 9ms/step - loss: 0.6927 - accuracy: 0.5203 - val_loss: 0.6916 - val_accuracy: 0.5327\n",
            "Epoch 139/300\n",
            "27/27 [==============================] - 0s 9ms/step - loss: 0.6925 - accuracy: 0.5203 - val_loss: 0.6916 - val_accuracy: 0.5327\n",
            "Epoch 140/300\n",
            "27/27 [==============================] - 0s 9ms/step - loss: 0.6924 - accuracy: 0.5203 - val_loss: 0.6912 - val_accuracy: 0.5327\n",
            "Epoch 141/300\n",
            "27/27 [==============================] - 0s 9ms/step - loss: 0.6924 - accuracy: 0.5203 - val_loss: 0.6911 - val_accuracy: 0.5327\n",
            "Epoch 142/300\n",
            "27/27 [==============================] - 0s 7ms/step - loss: 0.6925 - accuracy: 0.5203 - val_loss: 0.6913 - val_accuracy: 0.5327\n",
            "Epoch 143/300\n",
            "27/27 [==============================] - 0s 9ms/step - loss: 0.6941 - accuracy: 0.4892 - val_loss: 0.6919 - val_accuracy: 0.5327\n",
            "Epoch 144/300\n",
            "27/27 [==============================] - 0s 9ms/step - loss: 0.6925 - accuracy: 0.5203 - val_loss: 0.6915 - val_accuracy: 0.5327\n",
            "Epoch 145/300\n",
            "27/27 [==============================] - 0s 8ms/step - loss: 0.6924 - accuracy: 0.5203 - val_loss: 0.6912 - val_accuracy: 0.5327\n",
            "Epoch 146/300\n",
            "27/27 [==============================] - 0s 9ms/step - loss: 0.6925 - accuracy: 0.5203 - val_loss: 0.6911 - val_accuracy: 0.5327\n",
            "Epoch 147/300\n",
            "27/27 [==============================] - 0s 11ms/step - loss: 0.6925 - accuracy: 0.5203 - val_loss: 0.6914 - val_accuracy: 0.5327\n",
            "Epoch 148/300\n",
            "27/27 [==============================] - 0s 12ms/step - loss: 0.6924 - accuracy: 0.5203 - val_loss: 0.6914 - val_accuracy: 0.5327\n",
            "Epoch 149/300\n",
            "27/27 [==============================] - 0s 13ms/step - loss: 0.6928 - accuracy: 0.5203 - val_loss: 0.6917 - val_accuracy: 0.5327\n",
            "Epoch 150/300\n",
            "27/27 [==============================] - 0s 12ms/step - loss: 0.6928 - accuracy: 0.5203 - val_loss: 0.6921 - val_accuracy: 0.5327\n",
            "Epoch 151/300\n",
            "27/27 [==============================] - 0s 10ms/step - loss: 0.6924 - accuracy: 0.5203 - val_loss: 0.6913 - val_accuracy: 0.5327\n",
            "Epoch 152/300\n",
            "27/27 [==============================] - 0s 12ms/step - loss: 0.6930 - accuracy: 0.5203 - val_loss: 0.6916 - val_accuracy: 0.5327\n",
            "Epoch 153/300\n",
            "27/27 [==============================] - 0s 12ms/step - loss: 0.6936 - accuracy: 0.5203 - val_loss: 0.6911 - val_accuracy: 0.5327\n",
            "Epoch 154/300\n",
            "27/27 [==============================] - 0s 12ms/step - loss: 0.6924 - accuracy: 0.5203 - val_loss: 0.6913 - val_accuracy: 0.5327\n",
            "Epoch 155/300\n",
            "27/27 [==============================] - 0s 12ms/step - loss: 0.6924 - accuracy: 0.5203 - val_loss: 0.6914 - val_accuracy: 0.5327\n",
            "Epoch 156/300\n",
            "27/27 [==============================] - 0s 13ms/step - loss: 0.6925 - accuracy: 0.5203 - val_loss: 0.6913 - val_accuracy: 0.5327\n",
            "Epoch 157/300\n",
            "27/27 [==============================] - 0s 13ms/step - loss: 0.6930 - accuracy: 0.5203 - val_loss: 0.6911 - val_accuracy: 0.5327\n",
            "Epoch 158/300\n",
            "27/27 [==============================] - 0s 14ms/step - loss: 0.6925 - accuracy: 0.5203 - val_loss: 0.6913 - val_accuracy: 0.5327\n",
            "Epoch 159/300\n",
            "27/27 [==============================] - 0s 13ms/step - loss: 0.6925 - accuracy: 0.5203 - val_loss: 0.6911 - val_accuracy: 0.5327\n",
            "Epoch 160/300\n",
            "27/27 [==============================] - 0s 11ms/step - loss: 0.6925 - accuracy: 0.5203 - val_loss: 0.6911 - val_accuracy: 0.5327\n",
            "Epoch 161/300\n",
            "27/27 [==============================] - 0s 12ms/step - loss: 0.6926 - accuracy: 0.5203 - val_loss: 0.6912 - val_accuracy: 0.5327\n",
            "Epoch 162/300\n",
            "27/27 [==============================] - 0s 12ms/step - loss: 0.6928 - accuracy: 0.5203 - val_loss: 0.6912 - val_accuracy: 0.5327\n",
            "Epoch 163/300\n",
            "27/27 [==============================] - 0s 12ms/step - loss: 0.6925 - accuracy: 0.5203 - val_loss: 0.6912 - val_accuracy: 0.5327\n",
            "Epoch 164/300\n",
            "27/27 [==============================] - 0s 14ms/step - loss: 0.6925 - accuracy: 0.5203 - val_loss: 0.6914 - val_accuracy: 0.5327\n",
            "Epoch 165/300\n",
            "27/27 [==============================] - 0s 12ms/step - loss: 0.6925 - accuracy: 0.5203 - val_loss: 0.6914 - val_accuracy: 0.5327\n",
            "Epoch 166/300\n",
            "27/27 [==============================] - 0s 12ms/step - loss: 0.6925 - accuracy: 0.5203 - val_loss: 0.6913 - val_accuracy: 0.5327\n",
            "Epoch 167/300\n",
            "27/27 [==============================] - 0s 11ms/step - loss: 0.6924 - accuracy: 0.5203 - val_loss: 0.6911 - val_accuracy: 0.5327\n",
            "Epoch 168/300\n",
            "27/27 [==============================] - 0s 11ms/step - loss: 0.6928 - accuracy: 0.5203 - val_loss: 0.6913 - val_accuracy: 0.5327\n",
            "Epoch 169/300\n",
            "27/27 [==============================] - 0s 12ms/step - loss: 0.6924 - accuracy: 0.5203 - val_loss: 0.6916 - val_accuracy: 0.5327\n",
            "Epoch 170/300\n",
            "27/27 [==============================] - 0s 11ms/step - loss: 0.6925 - accuracy: 0.5203 - val_loss: 0.6915 - val_accuracy: 0.5327\n",
            "Epoch 171/300\n",
            "27/27 [==============================] - 0s 8ms/step - loss: 0.6925 - accuracy: 0.5203 - val_loss: 0.6913 - val_accuracy: 0.5327\n",
            "Epoch 172/300\n",
            "27/27 [==============================] - 0s 9ms/step - loss: 0.6925 - accuracy: 0.5203 - val_loss: 0.6914 - val_accuracy: 0.5327\n",
            "Epoch 173/300\n",
            "27/27 [==============================] - 0s 8ms/step - loss: 0.6926 - accuracy: 0.5203 - val_loss: 0.6916 - val_accuracy: 0.5327\n",
            "Epoch 174/300\n",
            "27/27 [==============================] - 0s 9ms/step - loss: 0.6925 - accuracy: 0.5203 - val_loss: 0.6915 - val_accuracy: 0.5327\n",
            "Epoch 175/300\n",
            "27/27 [==============================] - 0s 10ms/step - loss: 0.6932 - accuracy: 0.5203 - val_loss: 0.6925 - val_accuracy: 0.5327\n",
            "Epoch 176/300\n",
            "27/27 [==============================] - 0s 7ms/step - loss: 0.6929 - accuracy: 0.5203 - val_loss: 0.6911 - val_accuracy: 0.5327\n",
            "Epoch 177/300\n",
            "27/27 [==============================] - 0s 7ms/step - loss: 0.6926 - accuracy: 0.5203 - val_loss: 0.6911 - val_accuracy: 0.5327\n",
            "Epoch 178/300\n",
            "27/27 [==============================] - 0s 7ms/step - loss: 0.6924 - accuracy: 0.5203 - val_loss: 0.6914 - val_accuracy: 0.5327\n",
            "Epoch 179/300\n",
            "27/27 [==============================] - 0s 9ms/step - loss: 0.6927 - accuracy: 0.5203 - val_loss: 0.6915 - val_accuracy: 0.5327\n",
            "Epoch 180/300\n",
            "27/27 [==============================] - 0s 9ms/step - loss: 0.6924 - accuracy: 0.5203 - val_loss: 0.6912 - val_accuracy: 0.5327\n",
            "Epoch 181/300\n",
            "27/27 [==============================] - 0s 7ms/step - loss: 0.6927 - accuracy: 0.5203 - val_loss: 0.6912 - val_accuracy: 0.5327\n",
            "Epoch 182/300\n",
            "27/27 [==============================] - 0s 9ms/step - loss: 0.6930 - accuracy: 0.5203 - val_loss: 0.6910 - val_accuracy: 0.5327\n",
            "Epoch 183/300\n",
            "27/27 [==============================] - 0s 9ms/step - loss: 0.6925 - accuracy: 0.5203 - val_loss: 0.6912 - val_accuracy: 0.5327\n",
            "Epoch 184/300\n",
            "27/27 [==============================] - 0s 9ms/step - loss: 0.6924 - accuracy: 0.5203 - val_loss: 0.6913 - val_accuracy: 0.5327\n",
            "Epoch 185/300\n",
            "27/27 [==============================] - 0s 9ms/step - loss: 0.6926 - accuracy: 0.5203 - val_loss: 0.6916 - val_accuracy: 0.5327\n",
            "Epoch 186/300\n",
            "27/27 [==============================] - 0s 9ms/step - loss: 0.6924 - accuracy: 0.5203 - val_loss: 0.6913 - val_accuracy: 0.5327\n",
            "Epoch 187/300\n",
            "27/27 [==============================] - 0s 8ms/step - loss: 0.6927 - accuracy: 0.5203 - val_loss: 0.6910 - val_accuracy: 0.5327\n",
            "Epoch 188/300\n",
            "27/27 [==============================] - 0s 10ms/step - loss: 0.6927 - accuracy: 0.5203 - val_loss: 0.6910 - val_accuracy: 0.5327\n",
            "Epoch 189/300\n",
            "27/27 [==============================] - 0s 8ms/step - loss: 0.6928 - accuracy: 0.5203 - val_loss: 0.6915 - val_accuracy: 0.5327\n",
            "Epoch 190/300\n",
            "27/27 [==============================] - 0s 9ms/step - loss: 0.6925 - accuracy: 0.5203 - val_loss: 0.6915 - val_accuracy: 0.5327\n",
            "Epoch 191/300\n",
            "27/27 [==============================] - 0s 9ms/step - loss: 0.6926 - accuracy: 0.5203 - val_loss: 0.6912 - val_accuracy: 0.5327\n",
            "Epoch 192/300\n",
            "27/27 [==============================] - 0s 8ms/step - loss: 0.6927 - accuracy: 0.5203 - val_loss: 0.6910 - val_accuracy: 0.5327\n",
            "Epoch 193/300\n",
            "27/27 [==============================] - 0s 9ms/step - loss: 0.6927 - accuracy: 0.5203 - val_loss: 0.6910 - val_accuracy: 0.5327\n",
            "Epoch 194/300\n",
            "27/27 [==============================] - 0s 8ms/step - loss: 0.6929 - accuracy: 0.5203 - val_loss: 0.6910 - val_accuracy: 0.5327\n",
            "Epoch 195/300\n",
            "27/27 [==============================] - 0s 9ms/step - loss: 0.6927 - accuracy: 0.5203 - val_loss: 0.6912 - val_accuracy: 0.5327\n",
            "Epoch 196/300\n",
            "27/27 [==============================] - 0s 8ms/step - loss: 0.6925 - accuracy: 0.5203 - val_loss: 0.6911 - val_accuracy: 0.5327\n",
            "Epoch 197/300\n",
            "27/27 [==============================] - 0s 8ms/step - loss: 0.6923 - accuracy: 0.5203 - val_loss: 0.6914 - val_accuracy: 0.5327\n",
            "Epoch 198/300\n",
            "27/27 [==============================] - 0s 11ms/step - loss: 0.6926 - accuracy: 0.5203 - val_loss: 0.6915 - val_accuracy: 0.5327\n",
            "Epoch 199/300\n",
            "27/27 [==============================] - 0s 11ms/step - loss: 0.6927 - accuracy: 0.5203 - val_loss: 0.6919 - val_accuracy: 0.5327\n",
            "Epoch 200/300\n",
            "27/27 [==============================] - 0s 11ms/step - loss: 0.6923 - accuracy: 0.5203 - val_loss: 0.6913 - val_accuracy: 0.5327\n",
            "Epoch 201/300\n",
            "27/27 [==============================] - 0s 12ms/step - loss: 0.6926 - accuracy: 0.5203 - val_loss: 0.6918 - val_accuracy: 0.5327\n",
            "Epoch 202/300\n",
            "27/27 [==============================] - 0s 12ms/step - loss: 0.6929 - accuracy: 0.5203 - val_loss: 0.6918 - val_accuracy: 0.5327\n",
            "Epoch 203/300\n",
            "27/27 [==============================] - 0s 11ms/step - loss: 0.6922 - accuracy: 0.5203 - val_loss: 0.6912 - val_accuracy: 0.5327\n",
            "Epoch 204/300\n",
            "27/27 [==============================] - 0s 13ms/step - loss: 0.6925 - accuracy: 0.5203 - val_loss: 0.6910 - val_accuracy: 0.5327\n",
            "Epoch 205/300\n",
            "27/27 [==============================] - 0s 11ms/step - loss: 0.6924 - accuracy: 0.5203 - val_loss: 0.6912 - val_accuracy: 0.5327\n",
            "Epoch 206/300\n",
            "27/27 [==============================] - 0s 11ms/step - loss: 0.6924 - accuracy: 0.5203 - val_loss: 0.6911 - val_accuracy: 0.5327\n",
            "Epoch 207/300\n",
            "27/27 [==============================] - 0s 12ms/step - loss: 0.6926 - accuracy: 0.5203 - val_loss: 0.6913 - val_accuracy: 0.5327\n",
            "Epoch 208/300\n",
            "27/27 [==============================] - 0s 12ms/step - loss: 0.6927 - accuracy: 0.5203 - val_loss: 0.6914 - val_accuracy: 0.5327\n",
            "Epoch 209/300\n",
            "27/27 [==============================] - 0s 12ms/step - loss: 0.6925 - accuracy: 0.5203 - val_loss: 0.6916 - val_accuracy: 0.5327\n",
            "Epoch 210/300\n",
            "27/27 [==============================] - 0s 11ms/step - loss: 0.6926 - accuracy: 0.5203 - val_loss: 0.6917 - val_accuracy: 0.5327\n",
            "Epoch 211/300\n",
            "27/27 [==============================] - 0s 9ms/step - loss: 0.6925 - accuracy: 0.5203 - val_loss: 0.6915 - val_accuracy: 0.5327\n",
            "Epoch 212/300\n",
            "27/27 [==============================] - 0s 7ms/step - loss: 0.6925 - accuracy: 0.5203 - val_loss: 0.6914 - val_accuracy: 0.5327\n",
            "Epoch 213/300\n",
            "27/27 [==============================] - 0s 9ms/step - loss: 0.6928 - accuracy: 0.5203 - val_loss: 0.6914 - val_accuracy: 0.5327\n",
            "Epoch 214/300\n",
            "27/27 [==============================] - 0s 9ms/step - loss: 0.6925 - accuracy: 0.5203 - val_loss: 0.6911 - val_accuracy: 0.5327\n",
            "Epoch 215/300\n",
            "27/27 [==============================] - 0s 8ms/step - loss: 0.6925 - accuracy: 0.5203 - val_loss: 0.6919 - val_accuracy: 0.5327\n",
            "Epoch 216/300\n",
            "27/27 [==============================] - 0s 9ms/step - loss: 0.6926 - accuracy: 0.5203 - val_loss: 0.6917 - val_accuracy: 0.5327\n",
            "Epoch 217/300\n",
            "27/27 [==============================] - 0s 8ms/step - loss: 0.6924 - accuracy: 0.5203 - val_loss: 0.6914 - val_accuracy: 0.5327\n",
            "Epoch 218/300\n",
            "27/27 [==============================] - 0s 8ms/step - loss: 0.6924 - accuracy: 0.5203 - val_loss: 0.6912 - val_accuracy: 0.5327\n",
            "Epoch 219/300\n",
            "27/27 [==============================] - 0s 8ms/step - loss: 0.6925 - accuracy: 0.5203 - val_loss: 0.6911 - val_accuracy: 0.5327\n",
            "Epoch 220/300\n",
            "27/27 [==============================] - 0s 9ms/step - loss: 0.6926 - accuracy: 0.5203 - val_loss: 0.6910 - val_accuracy: 0.5327\n",
            "Epoch 221/300\n",
            "27/27 [==============================] - 0s 8ms/step - loss: 0.6923 - accuracy: 0.5203 - val_loss: 0.6914 - val_accuracy: 0.5327\n",
            "Epoch 222/300\n",
            "27/27 [==============================] - 0s 9ms/step - loss: 0.6926 - accuracy: 0.5203 - val_loss: 0.6913 - val_accuracy: 0.5327\n",
            "Epoch 223/300\n",
            "27/27 [==============================] - 0s 8ms/step - loss: 0.6924 - accuracy: 0.5203 - val_loss: 0.6912 - val_accuracy: 0.5327\n",
            "Epoch 224/300\n",
            "27/27 [==============================] - 0s 9ms/step - loss: 0.6924 - accuracy: 0.5203 - val_loss: 0.6915 - val_accuracy: 0.5327\n",
            "Epoch 225/300\n",
            "27/27 [==============================] - 0s 9ms/step - loss: 0.6925 - accuracy: 0.5203 - val_loss: 0.6914 - val_accuracy: 0.5327\n",
            "Epoch 226/300\n",
            "27/27 [==============================] - 0s 8ms/step - loss: 0.6925 - accuracy: 0.5203 - val_loss: 0.6912 - val_accuracy: 0.5327\n",
            "Epoch 227/300\n",
            "27/27 [==============================] - 0s 7ms/step - loss: 0.6925 - accuracy: 0.5203 - val_loss: 0.6913 - val_accuracy: 0.5327\n",
            "Epoch 228/300\n",
            "27/27 [==============================] - 0s 8ms/step - loss: 0.6926 - accuracy: 0.5203 - val_loss: 0.6913 - val_accuracy: 0.5327\n",
            "Epoch 229/300\n",
            "27/27 [==============================] - 0s 7ms/step - loss: 0.6925 - accuracy: 0.5203 - val_loss: 0.6914 - val_accuracy: 0.5327\n",
            "Epoch 230/300\n",
            "27/27 [==============================] - 0s 7ms/step - loss: 0.6926 - accuracy: 0.5203 - val_loss: 0.6920 - val_accuracy: 0.5327\n",
            "Epoch 231/300\n",
            "27/27 [==============================] - 0s 9ms/step - loss: 0.6929 - accuracy: 0.5203 - val_loss: 0.6913 - val_accuracy: 0.5327\n",
            "Epoch 232/300\n",
            "27/27 [==============================] - 0s 7ms/step - loss: 0.6925 - accuracy: 0.5203 - val_loss: 0.6914 - val_accuracy: 0.5327\n",
            "Epoch 233/300\n",
            "27/27 [==============================] - 0s 8ms/step - loss: 0.6925 - accuracy: 0.5203 - val_loss: 0.6914 - val_accuracy: 0.5327\n",
            "Epoch 234/300\n",
            "27/27 [==============================] - 0s 7ms/step - loss: 0.6924 - accuracy: 0.5203 - val_loss: 0.6913 - val_accuracy: 0.5327\n",
            "Epoch 235/300\n",
            "27/27 [==============================] - 0s 7ms/step - loss: 0.6926 - accuracy: 0.5203 - val_loss: 0.6911 - val_accuracy: 0.5327\n",
            "Epoch 236/300\n",
            "27/27 [==============================] - 0s 10ms/step - loss: 0.6927 - accuracy: 0.5203 - val_loss: 0.6911 - val_accuracy: 0.5327\n",
            "Epoch 237/300\n",
            "27/27 [==============================] - 0s 8ms/step - loss: 0.6925 - accuracy: 0.5203 - val_loss: 0.6916 - val_accuracy: 0.5327\n",
            "Epoch 238/300\n",
            "27/27 [==============================] - 0s 8ms/step - loss: 0.6926 - accuracy: 0.5203 - val_loss: 0.6920 - val_accuracy: 0.5327\n",
            "Epoch 239/300\n",
            "27/27 [==============================] - 0s 9ms/step - loss: 0.6924 - accuracy: 0.5203 - val_loss: 0.6914 - val_accuracy: 0.5327\n",
            "Epoch 240/300\n",
            "27/27 [==============================] - 0s 9ms/step - loss: 0.6924 - accuracy: 0.5203 - val_loss: 0.6912 - val_accuracy: 0.5327\n",
            "Epoch 241/300\n",
            "27/27 [==============================] - 0s 9ms/step - loss: 0.6927 - accuracy: 0.5203 - val_loss: 0.6910 - val_accuracy: 0.5327\n",
            "Epoch 242/300\n",
            "27/27 [==============================] - 0s 8ms/step - loss: 0.6930 - accuracy: 0.5203 - val_loss: 0.6910 - val_accuracy: 0.5327\n",
            "Epoch 243/300\n",
            "27/27 [==============================] - 0s 9ms/step - loss: 0.6929 - accuracy: 0.5203 - val_loss: 0.6910 - val_accuracy: 0.5327\n",
            "Epoch 244/300\n",
            "27/27 [==============================] - 0s 9ms/step - loss: 0.6928 - accuracy: 0.5203 - val_loss: 0.6910 - val_accuracy: 0.5327\n",
            "Epoch 245/300\n",
            "27/27 [==============================] - 0s 8ms/step - loss: 0.6930 - accuracy: 0.5203 - val_loss: 0.6912 - val_accuracy: 0.5327\n",
            "Epoch 246/300\n",
            "27/27 [==============================] - 0s 9ms/step - loss: 0.6929 - accuracy: 0.5203 - val_loss: 0.6911 - val_accuracy: 0.5327\n",
            "Epoch 247/300\n",
            "27/27 [==============================] - 0s 8ms/step - loss: 0.6927 - accuracy: 0.5203 - val_loss: 0.6912 - val_accuracy: 0.5327\n",
            "Epoch 248/300\n",
            "27/27 [==============================] - 0s 7ms/step - loss: 0.6927 - accuracy: 0.5203 - val_loss: 0.6912 - val_accuracy: 0.5327\n",
            "Epoch 249/300\n",
            "27/27 [==============================] - 0s 7ms/step - loss: 0.6926 - accuracy: 0.5203 - val_loss: 0.6911 - val_accuracy: 0.5327\n",
            "Epoch 250/300\n",
            "27/27 [==============================] - 0s 9ms/step - loss: 0.6929 - accuracy: 0.5203 - val_loss: 0.6916 - val_accuracy: 0.5327\n",
            "Epoch 251/300\n",
            "27/27 [==============================] - 0s 10ms/step - loss: 0.6923 - accuracy: 0.5203 - val_loss: 0.6913 - val_accuracy: 0.5327\n",
            "Epoch 252/300\n",
            "27/27 [==============================] - 0s 7ms/step - loss: 0.6924 - accuracy: 0.5203 - val_loss: 0.6912 - val_accuracy: 0.5327\n",
            "Epoch 253/300\n",
            "27/27 [==============================] - 0s 9ms/step - loss: 0.6925 - accuracy: 0.5203 - val_loss: 0.6911 - val_accuracy: 0.5327\n",
            "Epoch 254/300\n",
            "27/27 [==============================] - 0s 11ms/step - loss: 0.6926 - accuracy: 0.5203 - val_loss: 0.6911 - val_accuracy: 0.5327\n",
            "Epoch 255/300\n",
            "27/27 [==============================] - 0s 12ms/step - loss: 0.6924 - accuracy: 0.5203 - val_loss: 0.6912 - val_accuracy: 0.5327\n",
            "Epoch 256/300\n",
            "27/27 [==============================] - 0s 12ms/step - loss: 0.6924 - accuracy: 0.5203 - val_loss: 0.6913 - val_accuracy: 0.5327\n",
            "Epoch 257/300\n",
            "27/27 [==============================] - 0s 13ms/step - loss: 0.6925 - accuracy: 0.5203 - val_loss: 0.6916 - val_accuracy: 0.5327\n",
            "Epoch 258/300\n",
            "27/27 [==============================] - 0s 12ms/step - loss: 0.6925 - accuracy: 0.5203 - val_loss: 0.6912 - val_accuracy: 0.5327\n",
            "Epoch 259/300\n",
            "27/27 [==============================] - 0s 11ms/step - loss: 0.6926 - accuracy: 0.5203 - val_loss: 0.6914 - val_accuracy: 0.5327\n",
            "Epoch 260/300\n",
            "27/27 [==============================] - 0s 12ms/step - loss: 0.6924 - accuracy: 0.5203 - val_loss: 0.6912 - val_accuracy: 0.5327\n",
            "Epoch 261/300\n",
            "27/27 [==============================] - 0s 12ms/step - loss: 0.6925 - accuracy: 0.5203 - val_loss: 0.6912 - val_accuracy: 0.5327\n",
            "Epoch 262/300\n",
            "27/27 [==============================] - 0s 11ms/step - loss: 0.6928 - accuracy: 0.5203 - val_loss: 0.6918 - val_accuracy: 0.5327\n",
            "Epoch 263/300\n",
            "27/27 [==============================] - 0s 12ms/step - loss: 0.6925 - accuracy: 0.5203 - val_loss: 0.6917 - val_accuracy: 0.5327\n",
            "Epoch 264/300\n",
            "27/27 [==============================] - 0s 13ms/step - loss: 0.6928 - accuracy: 0.5203 - val_loss: 0.6917 - val_accuracy: 0.5327\n",
            "Epoch 265/300\n",
            "27/27 [==============================] - 0s 13ms/step - loss: 0.6925 - accuracy: 0.5203 - val_loss: 0.6914 - val_accuracy: 0.5327\n",
            "Epoch 266/300\n",
            "27/27 [==============================] - 0s 13ms/step - loss: 0.6926 - accuracy: 0.5203 - val_loss: 0.6911 - val_accuracy: 0.5327\n",
            "Epoch 267/300\n",
            "27/27 [==============================] - 0s 11ms/step - loss: 0.6924 - accuracy: 0.5203 - val_loss: 0.6911 - val_accuracy: 0.5327\n",
            "Epoch 268/300\n",
            "27/27 [==============================] - 0s 8ms/step - loss: 0.6925 - accuracy: 0.5203 - val_loss: 0.6913 - val_accuracy: 0.5327\n",
            "Epoch 269/300\n",
            "27/27 [==============================] - 0s 9ms/step - loss: 0.6923 - accuracy: 0.5203 - val_loss: 0.6914 - val_accuracy: 0.5327\n",
            "Epoch 270/300\n",
            "27/27 [==============================] - 0s 8ms/step - loss: 0.6924 - accuracy: 0.5203 - val_loss: 0.6914 - val_accuracy: 0.5327\n",
            "Epoch 271/300\n",
            "27/27 [==============================] - 0s 9ms/step - loss: 0.6926 - accuracy: 0.5203 - val_loss: 0.6913 - val_accuracy: 0.5327\n",
            "Epoch 272/300\n",
            "27/27 [==============================] - 0s 8ms/step - loss: 0.6924 - accuracy: 0.5203 - val_loss: 0.6913 - val_accuracy: 0.5327\n",
            "Epoch 273/300\n",
            "27/27 [==============================] - 0s 9ms/step - loss: 0.6928 - accuracy: 0.5203 - val_loss: 0.6915 - val_accuracy: 0.5327\n",
            "Epoch 274/300\n",
            "27/27 [==============================] - 0s 10ms/step - loss: 0.6924 - accuracy: 0.5203 - val_loss: 0.6912 - val_accuracy: 0.5327\n",
            "Epoch 275/300\n",
            "27/27 [==============================] - 0s 8ms/step - loss: 0.6924 - accuracy: 0.5203 - val_loss: 0.6913 - val_accuracy: 0.5327\n",
            "Epoch 276/300\n",
            "27/27 [==============================] - 0s 10ms/step - loss: 0.6924 - accuracy: 0.5203 - val_loss: 0.6911 - val_accuracy: 0.5327\n",
            "Epoch 277/300\n",
            "27/27 [==============================] - 0s 11ms/step - loss: 0.6926 - accuracy: 0.5203 - val_loss: 0.6913 - val_accuracy: 0.5327\n",
            "Epoch 278/300\n",
            "27/27 [==============================] - 0s 12ms/step - loss: 0.6924 - accuracy: 0.5203 - val_loss: 0.6911 - val_accuracy: 0.5327\n",
            "Epoch 279/300\n",
            "27/27 [==============================] - 0s 11ms/step - loss: 0.6926 - accuracy: 0.5203 - val_loss: 0.6911 - val_accuracy: 0.5327\n",
            "Epoch 280/300\n",
            "27/27 [==============================] - 0s 11ms/step - loss: 0.6924 - accuracy: 0.5203 - val_loss: 0.6914 - val_accuracy: 0.5327\n",
            "Epoch 281/300\n",
            "27/27 [==============================] - 0s 12ms/step - loss: 0.6926 - accuracy: 0.5203 - val_loss: 0.6911 - val_accuracy: 0.5327\n",
            "Epoch 282/300\n",
            "27/27 [==============================] - 0s 12ms/step - loss: 0.6925 - accuracy: 0.5203 - val_loss: 0.6911 - val_accuracy: 0.5327\n",
            "Epoch 283/300\n",
            "27/27 [==============================] - 0s 12ms/step - loss: 0.6925 - accuracy: 0.5203 - val_loss: 0.6911 - val_accuracy: 0.5327\n",
            "Epoch 284/300\n",
            "27/27 [==============================] - 0s 11ms/step - loss: 0.6924 - accuracy: 0.5203 - val_loss: 0.6913 - val_accuracy: 0.5327\n",
            "Epoch 285/300\n",
            "27/27 [==============================] - 0s 11ms/step - loss: 0.6924 - accuracy: 0.5203 - val_loss: 0.6914 - val_accuracy: 0.5327\n",
            "Epoch 286/300\n",
            "27/27 [==============================] - 0s 13ms/step - loss: 0.6925 - accuracy: 0.5203 - val_loss: 0.6913 - val_accuracy: 0.5327\n",
            "Epoch 287/300\n",
            "27/27 [==============================] - 0s 11ms/step - loss: 0.6927 - accuracy: 0.5203 - val_loss: 0.6915 - val_accuracy: 0.5327\n",
            "Epoch 288/300\n",
            "27/27 [==============================] - 0s 12ms/step - loss: 0.6929 - accuracy: 0.5203 - val_loss: 0.6911 - val_accuracy: 0.5327\n",
            "Epoch 289/300\n",
            "27/27 [==============================] - 0s 12ms/step - loss: 0.6928 - accuracy: 0.5203 - val_loss: 0.6917 - val_accuracy: 0.5327\n",
            "Epoch 290/300\n",
            "27/27 [==============================] - 0s 12ms/step - loss: 0.6925 - accuracy: 0.5203 - val_loss: 0.6917 - val_accuracy: 0.5327\n",
            "Epoch 291/300\n",
            "27/27 [==============================] - 0s 9ms/step - loss: 0.6924 - accuracy: 0.5203 - val_loss: 0.6915 - val_accuracy: 0.5327\n",
            "Epoch 292/300\n",
            "27/27 [==============================] - 0s 9ms/step - loss: 0.6924 - accuracy: 0.5203 - val_loss: 0.6912 - val_accuracy: 0.5327\n",
            "Epoch 293/300\n",
            "27/27 [==============================] - 0s 9ms/step - loss: 0.6925 - accuracy: 0.5203 - val_loss: 0.6912 - val_accuracy: 0.5327\n",
            "Epoch 294/300\n",
            "27/27 [==============================] - 0s 10ms/step - loss: 0.6924 - accuracy: 0.5203 - val_loss: 0.6911 - val_accuracy: 0.5327\n",
            "Epoch 295/300\n",
            "27/27 [==============================] - 0s 9ms/step - loss: 0.6925 - accuracy: 0.5203 - val_loss: 0.6911 - val_accuracy: 0.5327\n",
            "Epoch 296/300\n",
            "27/27 [==============================] - 0s 8ms/step - loss: 0.6925 - accuracy: 0.5203 - val_loss: 0.6912 - val_accuracy: 0.5327\n",
            "Epoch 297/300\n",
            "27/27 [==============================] - 0s 9ms/step - loss: 0.6927 - accuracy: 0.5203 - val_loss: 0.6915 - val_accuracy: 0.5327\n",
            "Epoch 298/300\n",
            "27/27 [==============================] - 0s 8ms/step - loss: 0.6924 - accuracy: 0.5203 - val_loss: 0.6912 - val_accuracy: 0.5327\n",
            "Epoch 299/300\n",
            "27/27 [==============================] - 0s 8ms/step - loss: 0.6925 - accuracy: 0.5203 - val_loss: 0.6914 - val_accuracy: 0.5327\n",
            "Epoch 300/300\n",
            "27/27 [==============================] - 0s 8ms/step - loss: 0.6924 - accuracy: 0.5203 - val_loss: 0.6913 - val_accuracy: 0.5327\n"
          ]
        }
      ]
    },
    {
      "cell_type": "markdown",
      "source": [
        "### Plotting the loss"
      ],
      "metadata": {
        "id": "KQWIrRoTH-ux"
      }
    },
    {
      "cell_type": "code",
      "source": [
        "plt.plot(fit_rnn.history['loss'], label='loss');\n",
        "plt.plot(fit_rnn.history['val_loss'], label='val_loss');\n",
        "plt.title(\"RNN Loss\")\n",
        "plt.legend();"
      ],
      "metadata": {
        "colab": {
          "base_uri": "https://localhost:8080/",
          "height": 452
        },
        "id": "wKVZmF7SE9IH",
        "outputId": "c78a7a6d-92d1-4ca3-c6cf-50d4e54ccad1"
      },
      "execution_count": 107,
      "outputs": [
        {
          "output_type": "display_data",
          "data": {
            "text/plain": [
              "<Figure size 640x480 with 1 Axes>"
            ],
            "image/png": "[encoded data removed]"
          },
          "metadata": {}
        }
      ]
    },
    {
      "cell_type": "markdown",
      "source": [
        "Both the train loss and validation loss follow a similar pattern they both start at a high level and then level off.\n",
        "The train loss starts at a high of ~.700 then goes down and stays on a semi stedy pattern in between .693 - .694. On the other hand the validation loss start at a high above .700, goes down to .692 and levels off isolating to below .692 - .693 as well.\n",
        "\n",
        "\n"
      ],
      "metadata": {
        "id": "u7mLLrCOFdQZ"
      }
    },
    {
      "cell_type": "markdown",
      "source": [
        "### Plotting Accuracy\n"
      ],
      "metadata": {
        "id": "jD6A_rt9Hi6p"
      }
    },
    {
      "cell_type": "code",
      "source": [
        "plt.plot(fit_rnn.history['accuracy'], label='accuracy');\n",
        "plt.plot(fit_rnn.history['val_accuracy'], label='validation_accuracy');\n",
        "plt.legend();"
      ],
      "metadata": {
        "colab": {
          "base_uri": "https://localhost:8080/",
          "height": 430
        },
        "id": "QfGku_yuE9b5",
        "outputId": "1554333e-7e0a-47a9-9811-0431632a1f38"
      },
      "execution_count": 113,
      "outputs": [
        {
          "output_type": "display_data",
          "data": {
            "text/plain": [
              "<Figure size 640x480 with 1 Axes>"
            ],
            "image/png": "[encoded data removed]"
          },
          "metadata": {}
        }
      ]
    },
    {
      "cell_type": "markdown",
      "source": [
        "Training accuracy's trend initially isolated going down to below .48 and mostly staying at .52. The validation accuracy had a couple sharp momentary depressions going from .53 to below .47 but mostly staying flat at .53. For binary classification 50% tends to be the worse accuracy, so things are not looking good here - this just shows that the model is not better than random guessing. The LSTM doesn't seem to solve our challenge."
      ],
      "metadata": {
        "id": "vptS6d4nIgky"
      }
    },
    {
      "cell_type": "markdown",
      "source": [
        "# Autoregressive Model"
      ],
      "metadata": {
        "id": "XErKMm9FJKda"
      }
    },
    {
      "cell_type": "code",
      "source": [
        "# Reloading the original data.\n",
        "# Load the data for Tesla (stock symbol: TSLA)\n",
        "df = pd.read_csv(f\"{data_dir}/TSLA.csv\", parse_dates=True)\n",
        "df.head()"
      ],
      "metadata": {
        "colab": {
          "base_uri": "https://localhost:8080/",
          "height": 206
        },
        "id": "aMA2gZLgE9uB",
        "outputId": "fed4419f-ba69-4c78-d53c-21ad1c9fbd30"
      },
      "execution_count": 177,
      "outputs": [
        {
          "output_type": "execute_result",
          "data": {
            "text/plain": [
              "         Date       Open       High        Low      Close  Adj Close    Volume\n",
              "0  2018-03-02  21.798668  22.348000  21.531334  22.341333  22.341333  76392000\n",
              "1  2018-03-05  22.159332  22.516666  21.952667  22.223333  22.223333  57357000\n",
              "2  2018-03-06  22.250000  22.424667  21.802000  21.879999  21.879999  64285500\n",
              "3  2018-03-07  21.695999  22.166668  21.449333  22.153334  22.153334  75109500\n",
              "4  2018-03-08  22.190666  22.219999  21.751333  21.940001  21.940001  53493000"
            ],
            "text/html": [
              "\n",
              "  <div id=\"df-b3c0c0c4-a875-4582-a4fe-0b9d433a2771\">\n",
              "    <div class=\"colab-df-container\">\n",
              "      <div>\n",
              "<style scoped>\n",
              "    .dataframe tbody tr th:only-of-type {\n",
              "        vertical-align: middle;\n",
              "    }\n",
              "\n",
              "    .dataframe tbody tr th {\n",
              "        vertical-align: top;\n",
              "    }\n",
              "\n",
              "    .dataframe thead th {\n",
              "        text-align: right;\n",
              "    }\n",
              "</style>\n",
              "<table border=\"1\" class=\"dataframe\">\n",
              "  <thead>\n",
              "    <tr style=\"text-align: right;\">\n",
              "      <th></th>\n",
              "      <th>Date</th>\n",
              "      <th>Open</th>\n",
              "      <th>High</th>\n",
              "      <th>Low</th>\n",
              "      <th>Close</th>\n",
              "      <th>Adj Close</th>\n",
              "      <th>Volume</th>\n",
              "    </tr>\n",
              "  </thead>\n",
              "  <tbody>\n",
              "    <tr>\n",
              "      <th>0</th>\n",
              "      <td>2018-03-02</td>\n",
              "      <td>21.798668</td>\n",
              "      <td>22.348000</td>\n",
              "      <td>21.531334</td>\n",
              "      <td>22.341333</td>\n",
              "      <td>22.341333</td>\n",
              "      <td>76392000</td>\n",
              "    </tr>\n",
              "    <tr>\n",
              "      <th>1</th>\n",
              "      <td>2018-03-05</td>\n",
              "      <td>22.159332</td>\n",
              "      <td>22.516666</td>\n",
              "      <td>21.952667</td>\n",
              "      <td>22.223333</td>\n",
              "      <td>22.223333</td>\n",
              "      <td>57357000</td>\n",
              "    </tr>\n",
              "    <tr>\n",
              "      <th>2</th>\n",
              "      <td>2018-03-06</td>\n",
              "      <td>22.250000</td>\n",
              "      <td>22.424667</td>\n",
              "      <td>21.802000</td>\n",
              "      <td>21.879999</td>\n",
              "      <td>21.879999</td>\n",
              "      <td>64285500</td>\n",
              "    </tr>\n",
              "    <tr>\n",
              "      <th>3</th>\n",
              "      <td>2018-03-07</td>\n",
              "      <td>21.695999</td>\n",
              "      <td>22.166668</td>\n",
              "      <td>21.449333</td>\n",
              "      <td>22.153334</td>\n",
              "      <td>22.153334</td>\n",
              "      <td>75109500</td>\n",
              "    </tr>\n",
              "    <tr>\n",
              "      <th>4</th>\n",
              "      <td>2018-03-08</td>\n",
              "      <td>22.190666</td>\n",
              "      <td>22.219999</td>\n",
              "      <td>21.751333</td>\n",
              "      <td>21.940001</td>\n",
              "      <td>21.940001</td>\n",
              "      <td>53493000</td>\n",
              "    </tr>\n",
              "  </tbody>\n",
              "</table>\n",
              "</div>\n",
              "      <button class=\"colab-df-convert\" onclick=\"convertToInteractive('df-b3c0c0c4-a875-4582-a4fe-0b9d433a2771')\"\n",
              "              title=\"Convert this dataframe to an interactive table.\"\n",
              "              style=\"display:none;\">\n",
              "        \n",
              "  <svg xmlns=\"http://www.w3.org/2000/svg\" height=\"24px\"viewBox=\"0 0 24 24\"\n",
              "       width=\"24px\">\n",
              "    <path d=\"M0 0h24v24H0V0z\" fill=\"none\"/>\n",
              "    <path d=\"M18.56 5.44l.94 2.06.94-2.06 2.06-.94-2.06-.94-.94-2.06-.94 2.06-2.06.94zm-11 1L8.5 8.5l.94-2.06 2.06-.94-2.06-.94L8.5 2.5l-.94 2.06-2.06.94zm10 10l.94 2.06.94-2.06 2.06-.94-2.06-.94-.94-2.06-.94 2.06-2.06.94z\"/><path d=\"M17.41 7.96l-1.37-1.37c-.4-.4-.92-.59-1.43-.59-.52 0-1.04.2-1.43.59L10.3 9.45l-7.72 7.72c-.78.78-.78 2.05 0 2.83L4 21.41c.39.39.9.59 1.41.59.51 0 1.02-.2 1.41-.59l7.78-7.78 2.81-2.81c.8-.78.8-2.07 0-2.86zM5.41 20L4 18.59l7.72-7.72 1.47 1.35L5.41 20z\"/>\n",
              "  </svg>\n",
              "      </button>\n",
              "      \n",
              "  <style>\n",
              "    .colab-df-container {\n",
              "      display:flex;\n",
              "      flex-wrap:wrap;\n",
              "      gap: 12px;\n",
              "    }\n",
              "\n",
              "    .colab-df-convert {\n",
              "      background-color: #E8F0FE;\n",
              "      border: none;\n",
              "      border-radius: 50%;\n",
              "      cursor: pointer;\n",
              "      display: none;\n",
              "      fill: #1967D2;\n",
              "      height: 32px;\n",
              "      padding: 0 0 0 0;\n",
              "      width: 32px;\n",
              "    }\n",
              "\n",
              "    .colab-df-convert:hover {\n",
              "      background-color: #E2EBFA;\n",
              "      box-shadow: 0px 1px 2px rgba(60, 64, 67, 0.3), 0px 1px 3px 1px rgba(60, 64, 67, 0.15);\n",
              "      fill: #174EA6;\n",
              "    }\n",
              "\n",
              "    [theme=dark] .colab-df-convert {\n",
              "      background-color: #3B4455;\n",
              "      fill: #D2E3FC;\n",
              "    }\n",
              "\n",
              "    [theme=dark] .colab-df-convert:hover {\n",
              "      background-color: #434B5C;\n",
              "      box-shadow: 0px 1px 3px 1px rgba(0, 0, 0, 0.15);\n",
              "      filter: drop-shadow(0px 1px 2px rgba(0, 0, 0, 0.3));\n",
              "      fill: #FFFFFF;\n",
              "    }\n",
              "  </style>\n",
              "\n",
              "      <script>\n",
              "        const buttonEl =\n",
              "          document.querySelector('#df-b3c0c0c4-a875-4582-a4fe-0b9d433a2771 button.colab-df-convert');\n",
              "        buttonEl.style.display =\n",
              "          google.colab.kernel.accessAllowed ? 'block' : 'none';\n",
              "\n",
              "        async function convertToInteractive(key) {\n",
              "          const element = document.querySelector('#df-b3c0c0c4-a875-4582-a4fe-0b9d433a2771');\n",
              "          const dataTable =\n",
              "            await google.colab.kernel.invokeFunction('convertToInteractive',\n",
              "                                                     [key], {});\n",
              "          if (!dataTable) return;\n",
              "\n",
              "          const docLinkHtml = 'Like what you see? Visit the ' +\n",
              "            '<a target=\"_blank\" href=https://colab.research.google.com/notebooks/data_table.ipynb>data table notebook</a>'\n",
              "            + ' to learn more about interactive tables.';\n",
              "          element.innerHTML = '';\n",
              "          dataTable['output_type'] = 'display_data';\n",
              "          await google.colab.output.renderOutput(dataTable, element);\n",
              "          const docLink = document.createElement('div');\n",
              "          docLink.innerHTML = docLinkHtml;\n",
              "          element.appendChild(docLink);\n",
              "        }\n",
              "      </script>\n",
              "    </div>\n",
              "  </div>\n",
              "  "
            ]
          },
          "metadata": {},
          "execution_count": 177
        }
      ]
    },
    {
      "cell_type": "code",
      "source": [
        "# Getting the close price\n",
        "close_price_series = df['Close'].values.reshape(-1,1)"
      ],
      "metadata": {
        "id": "WJKVoLM9E9-z"
      },
      "execution_count": 178,
      "outputs": []
    },
    {
      "cell_type": "code",
      "source": [
        "# Normalize the data.\n",
        "#split_percent=.5  \n",
        "\n",
        "scaler_model = StandardScaler()\n",
        "scaler_model.fit(close_price_series[:int(len(close_price_series) * split_percent)])\n",
        "#scaler_model.fit(close_price_series[:len(close_price_series) // 2])\n",
        "close_price_series = scaler_model.transform(close_price_series).flatten()\n"
      ],
      "metadata": {
        "id": "9FpHN2WhE-OV"
      },
      "execution_count": 179,
      "outputs": []
    },
    {
      "cell_type": "code",
      "source": [
        "# Plotting the flatten data trends\n",
        "plt.plot(close_price_series);\n",
        "plt.show();"
      ],
      "metadata": {
        "colab": {
          "base_uri": "https://localhost:8080/",
          "height": 430
        },
        "id": "RXT0j_0FPMjp",
        "outputId": "69b8ba51-1526-4658-c3d3-18404fcdbfd8"
      },
      "execution_count": 180,
      "outputs": [
        {
          "output_type": "display_data",
          "data": {
            "text/plain": [
              "<Figure size 640x480 with 1 Axes>"
            ],
            "image/png": "[encoded data removed]"
          },
          "metadata": {}
        }
      ]
    },
    {
      "cell_type": "markdown",
      "source": [
        "### Building the Dataset"
      ],
      "metadata": {
        "id": "WIW5NPJZPwgF"
      }
    },
    {
      "cell_type": "code",
      "source": [
        "look_back=10\n",
        "X=[]\n",
        "Y=[]\n",
        "\n",
        "for i in range(len(close_price_series) - look_back):\n",
        "  x=close_price_series[i:i+look_back]\n",
        "  X.append(x)\n",
        "\n",
        "  y=close_price_series[i+look_back]\n",
        "  Y.append(y)\n",
        "\n",
        "# Convert data to numpy arrays\n",
        "X=np.array(X).reshape(-1, look_back)\n",
        "Y=np.array(Y)\n",
        "len_of_input=len(X)"
      ],
      "metadata": {
        "id": "08_HeMn7PM4o"
      },
      "execution_count": 181,
      "outputs": []
    },
    {
      "cell_type": "code",
      "source": [
        "X.shape"
      ],
      "metadata": {
        "colab": {
          "base_uri": "https://localhost:8080/"
        },
        "id": "tvdwJA87PNMa",
        "outputId": "1e52a0b8-57a3-43d6-c410-0997e6de29d7"
      },
      "execution_count": 182,
      "outputs": [
        {
          "output_type": "execute_result",
          "data": {
            "text/plain": [
              "(1249, 10)"
            ]
          },
          "metadata": {},
          "execution_count": 182
        }
      ]
    },
    {
      "cell_type": "code",
      "source": [
        "Y.shape"
      ],
      "metadata": {
        "colab": {
          "base_uri": "https://localhost:8080/"
        },
        "id": "-r-I5akLPNds",
        "outputId": "b02dba17-3f8b-4512-c357-3b70adaf587d"
      },
      "execution_count": 183,
      "outputs": [
        {
          "output_type": "execute_result",
          "data": {
            "text/plain": [
              "(1249,)"
            ]
          },
          "metadata": {},
          "execution_count": 183
        }
      ]
    },
    {
      "cell_type": "markdown",
      "source": [
        "### Splitting Data into Train and Test\n"
      ],
      "metadata": {
        "id": "rgazFLMqQ9lT"
      }
    },
    {
      "cell_type": "code",
      "source": [
        "# Considered multiplying by the split_percent but for readability will \n",
        "# just divide instead. We would have to convert to int otherwise.\n",
        "Xtrain, Ytrain=X[:-len_of_input // 2], Y[:-len_of_input // 2]\n",
        "Xtest, Ytest=X[-len_of_input //2:], Y[-len_of_input // 2:]"
      ],
      "metadata": {
        "id": "KA5abEYCPNw-"
      },
      "execution_count": 184,
      "outputs": []
    },
    {
      "cell_type": "markdown",
      "source": [
        "### Instantiating and Training a LinearRegression Model\n"
      ],
      "metadata": {
        "id": "vum0b_YhSmUj"
      }
    },
    {
      "cell_type": "code",
      "source": [
        "lr_model=LinearRegression()\n",
        "lr_model.fit(Xtrain,Ytrain)"
      ],
      "metadata": {
        "colab": {
          "base_uri": "https://localhost:8080/",
          "height": 75
        },
        "id": "ffa1vo-PPOCw",
        "outputId": "fe3af635-56c4-49be-ec99-57808ec835a8"
      },
      "execution_count": 185,
      "outputs": [
        {
          "output_type": "execute_result",
          "data": {
            "text/plain": [
              "LinearRegression()"
            ],
            "text/html": [
              "<style>#sk-container-id-7 {color: black;background-color: white;}#sk-container-id-7 pre{padding: 0;}#sk-container-id-7 div.sk-toggleable {background-color: white;}#sk-container-id-7 label.sk-toggleable__label {cursor: pointer;display: block;width: 100%;margin-bottom: 0;padding: 0.3em;box-sizing: border-box;text-align: center;}#sk-container-id-7 label.sk-toggleable__label-arrow:before {content: \"▸\";float: left;margin-right: 0.25em;color: #696969;}#sk-container-id-7 label.sk-toggleable__label-arrow:hover:before {color: black;}#sk-container-id-7 div.sk-estimator:hover label.sk-toggleable__label-arrow:before {color: black;}#sk-container-id-7 div.sk-toggleable__content {max-height: 0;max-width: 0;overflow: hidden;text-align: left;background-color: #f0f8ff;}#sk-container-id-7 div.sk-toggleable__content pre {margin: 0.2em;color: black;border-radius: 0.25em;background-color: #f0f8ff;}#sk-container-id-7 input.sk-toggleable__control:checked~div.sk-toggleable__content {max-height: 200px;max-width: 100%;overflow: auto;}#sk-container-id-7 input.sk-toggleable__control:checked~label.sk-toggleable__label-arrow:before {content: \"▾\";}#sk-container-id-7 div.sk-estimator input.sk-toggleable__control:checked~label.sk-toggleable__label {background-color: #d4ebff;}#sk-container-id-7 div.sk-label input.sk-toggleable__control:checked~label.sk-toggleable__label {background-color: #d4ebff;}#sk-container-id-7 input.sk-hidden--visually {border: 0;clip: rect(1px 1px 1px 1px);clip: rect(1px, 1px, 1px, 1px);height: 1px;margin: -1px;overflow: hidden;padding: 0;position: absolute;width: 1px;}#sk-container-id-7 div.sk-estimator {font-family: monospace;background-color: #f0f8ff;border: 1px dotted black;border-radius: 0.25em;box-sizing: border-box;margin-bottom: 0.5em;}#sk-container-id-7 div.sk-estimator:hover {background-color: #d4ebff;}#sk-container-id-7 div.sk-parallel-item::after {content: \"\";width: 100%;border-bottom: 1px solid gray;flex-grow: 1;}#sk-container-id-7 div.sk-label:hover label.sk-toggleable__label {background-color: #d4ebff;}#sk-container-id-7 div.sk-serial::before {content: \"\";position: absolute;border-left: 1px solid gray;box-sizing: border-box;top: 0;bottom: 0;left: 50%;z-index: 0;}#sk-container-id-7 div.sk-serial {display: flex;flex-direction: column;align-items: center;background-color: white;padding-right: 0.2em;padding-left: 0.2em;position: relative;}#sk-container-id-7 div.sk-item {position: relative;z-index: 1;}#sk-container-id-7 div.sk-parallel {display: flex;align-items: stretch;justify-content: center;background-color: white;position: relative;}#sk-container-id-7 div.sk-item::before, #sk-container-id-7 div.sk-parallel-item::before {content: \"\";position: absolute;border-left: 1px solid gray;box-sizing: border-box;top: 0;bottom: 0;left: 50%;z-index: -1;}#sk-container-id-7 div.sk-parallel-item {display: flex;flex-direction: column;z-index: 1;position: relative;background-color: white;}#sk-container-id-7 div.sk-parallel-item:first-child::after {align-self: flex-end;width: 50%;}#sk-container-id-7 div.sk-parallel-item:last-child::after {align-self: flex-start;width: 50%;}#sk-container-id-7 div.sk-parallel-item:only-child::after {width: 0;}#sk-container-id-7 div.sk-dashed-wrapped {border: 1px dashed gray;margin: 0 0.4em 0.5em 0.4em;box-sizing: border-box;padding-bottom: 0.4em;background-color: white;}#sk-container-id-7 div.sk-label label {font-family: monospace;font-weight: bold;display: inline-block;line-height: 1.2em;}#sk-container-id-7 div.sk-label-container {text-align: center;}#sk-container-id-7 div.sk-container {/* jupyter's `normalize.less` sets `[hidden] { display: none; }` but bootstrap.min.css set `[hidden] { display: none !important; }` so we also need the `!important` here to be able to override the default hidden behavior on the sphinx rendered scikit-learn.org. See: https://github.com/scikit-learn/scikit-learn/issues/21755 */display: inline-block !important;position: relative;}#sk-container-id-7 div.sk-text-repr-fallback {display: none;}</style><div id=\"sk-container-id-7\" class=\"sk-top-container\"><div class=\"sk-text-repr-fallback\"><pre>LinearRegression()</pre><b>In a Jupyter environment, please rerun this cell to show the HTML representation or trust the notebook. <br />On GitHub, the HTML representation is unable to render, please try loading this page with nbviewer.org.</b></div><div class=\"sk-container\" hidden><div class=\"sk-item\"><div class=\"sk-estimator sk-toggleable\"><input class=\"sk-toggleable__control sk-hidden--visually\" id=\"sk-estimator-id-7\" type=\"checkbox\" checked><label for=\"sk-estimator-id-7\" class=\"sk-toggleable__label sk-toggleable__label-arrow\">LinearRegression</label><div class=\"sk-toggleable__content\"><pre>LinearRegression()</pre></div></div></div></div></div>"
            ]
          },
          "metadata": {},
          "execution_count": 185
        }
      ]
    },
    {
      "cell_type": "markdown",
      "source": [
        "### Making Predictions"
      ],
      "metadata": {
        "id": "Obz8IRHfS_Vm"
      }
    },
    {
      "cell_type": "code",
      "source": [
        "# Prediction train and test data\n",
        "Ptrain=lr_model.predict(Xtrain)\n",
        "Ptest=lr_model.predict(Xtest)"
      ],
      "metadata": {
        "id": "CbF9BX-PPOaB"
      },
      "execution_count": 186,
      "outputs": []
    },
    {
      "cell_type": "markdown",
      "source": [
        "### Plotting the Forecasts"
      ],
      "metadata": {
        "id": "tIHe4gs0T0wj"
      }
    },
    {
      "cell_type": "code",
      "source": [
        "plt.plot(Ytest, label='Target');\n",
        "plt.plot(Ptest, label='Prediction');\n",
        "plt.legend();"
      ],
      "metadata": {
        "colab": {
          "base_uri": "https://localhost:8080/",
          "height": 430
        },
        "id": "i0urnZ0ZTq9f",
        "outputId": "93bf9e1a-f3d2-48d0-eeb8-100a3bb8e35a"
      },
      "execution_count": 188,
      "outputs": [
        {
          "output_type": "display_data",
          "data": {
            "text/plain": [
              "<Figure size 640x480 with 1 Axes>"
            ],
            "image/png": "[encoded data removed]"
          },
          "metadata": {}
        }
      ]
    },
    {
      "cell_type": "markdown",
      "source": [
        "As expected this is deceptively perfect at making predictions but we have learned what is happening here, from prior analysis, with the baseline model. It is only copying the previous value so the trends look perfect. However, this is not learning the patterns of the data."
      ],
      "metadata": {
        "id": "Uu3ckitiUbUZ"
      }
    },
    {
      "cell_type": "code",
      "source": [
        "# Now let's try a more realistic approach\n",
        "predictions=[]\n",
        "input=Xtest[0] # Initialize the input with the first entry in Xtest.\n",
        "\n",
        "while (len(predictions) < len(Ytest)):\n",
        "  # current prediction\n",
        "  p=lr_model.predict(input.reshape(1,look_back))[0]\n",
        "  predictions.append(p)\n",
        "\n",
        "  # Update the input with the latest prediction\n",
        "  input=np.roll(input,-1)\n",
        "  input[-1]=p"
      ],
      "metadata": {
        "id": "G4wywZzxTrWJ"
      },
      "execution_count": 189,
      "outputs": []
    },
    {
      "cell_type": "code",
      "source": [
        "# Plotting the results\n",
        "plt.plot(Ytest, label='Target');\n",
        "plt.plot(predictions, label='Prediction');\n",
        "plt.legend();"
      ],
      "metadata": {
        "colab": {
          "base_uri": "https://localhost:8080/",
          "height": 430
        },
        "id": "g6J5mqPHTroK",
        "outputId": "bf38bb48-ae67-4aeb-cc53-ed060907c1af"
      },
      "execution_count": 190,
      "outputs": [
        {
          "output_type": "display_data",
          "data": {
            "text/plain": [
              "<Figure size 640x480 with 1 Axes>"
            ],
            "image/png": "[encoded data removed]"
          },
          "metadata": {}
        }
      ]
    },
    {
      "cell_type": "markdown",
      "source": [
        "The prediction in this case goes up."
      ],
      "metadata": {
        "id": "Llp7GA_jWjBh"
      }
    },
    {
      "cell_type": "code",
      "source": [
        "# Once again we inverse transform the data\n",
        "Ytrain2 = scaler_model.inverse_transform(Ytrain.reshape(-1,1)).flatten()\n",
        "Ytest2 = scaler_model.inverse_transform(Ytest.reshape(-1,1)).flatten()\n",
        "Ptrain2 = scaler_model.inverse_transform(Ptrain.reshape(-1,1)).flatten()\n",
        "Ptest2 = scaler_model.inverse_transform(Ptest.reshape(-1,1)).flatten()"
      ],
      "metadata": {
        "id": "uZ-YmzoWTr51"
      },
      "execution_count": 171,
      "outputs": []
    },
    {
      "cell_type": "code",
      "source": [
        "# Now we calculate the MAE\n",
        "print(f'LR model train MAE: {mae(Ytrain2,Ptrain2)}')\n",
        "print(f'LR model test MAE: {mae(Ytest2, Ptest2)}')"
      ],
      "metadata": {
        "colab": {
          "base_uri": "https://localhost:8080/"
        },
        "id": "UFHFaVMnTsKH",
        "outputId": "ab978216-03d7-4cdc-a41c-5389e06faf85"
      },
      "execution_count": 191,
      "outputs": [
        {
          "output_type": "stream",
          "name": "stdout",
          "text": [
            "LR model train MAE: 1.1011559307200791\n",
            "LR model test MAE: 7.7403841265286335\n"
          ]
        }
      ]
    },
    {
      "cell_type": "markdown",
      "source": [
        "Interestingly the LR model does better than the RNN, which didn't seem to be the correct approach to predict stock trends. However, the baseline mode is still outperforming the LR in both train and test MAE results.\n",
        "\n",
        "Baseline Model:\n",
        "* Train MAE: 1.0834358573717946\n",
        "* Test MAE: 7.107424646399999"
      ],
      "metadata": {
        "id": "LkZG-jLZYCjP"
      }
    },
    {
      "cell_type": "markdown",
      "source": [
        "In summary, we have learned that predicting stock prices using RNNs isn't realistic. This was an incredible surprise since many sources in the internet make it sound like they are the best method for stock prediction.\n",
        "\n",
        "Next steps, will be to dive in deeper into the world of financial engineering and uncover other strategies to do algorithmic trading not just focusing on stock predictions for anything since the stock trends are influence by multiple other factors: emotions, general "
      ],
      "metadata": {
        "id": "1axgRwggE-c1"
      }
    }
  ]
}